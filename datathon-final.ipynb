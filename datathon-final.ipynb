{
  "nbformat": 4,
  "nbformat_minor": 0,
  "metadata": {
    "kernelspec": {
      "display_name": "Python 3",
      "language": "python",
      "name": "python3"
    },
    "language_info": {
      "codemirror_mode": {
        "name": "ipython",
        "version": 3
      },
      "file_extension": ".py",
      "mimetype": "text/x-python",
      "name": "python",
      "nbconvert_exporter": "python",
      "pygments_lexer": "ipython3",
      "version": "3.7.4"
    },
    "colab": {
      "name": "datathon.ipynb",
      "provenance": [],
      "collapsed_sections": [],
      "toc_visible": true,
      "machine_shape": "hm"
    }
  },
  "cells": [
    {
      "cell_type": "code",
      "metadata": {
        "id": "qxS56kh99NB6",
        "colab_type": "code",
        "colab": {}
      },
      "source": [
        "\n",
        "from sklearn.linear_model import LogisticRegression\n",
        "from typing import List\n",
        "from skrebate import ReliefF\n",
        "from sklearn.model_selection import train_test_split\n",
        "from sklearn.preprocessing import StandardScaler, LabelEncoder, OneHotEncoder,MinMaxScaler\n",
        "from sklearn.metrics import classification_report\n",
        "from sklearn.cluster import KMeans\n",
        "from sklearn.model_selection import cross_val_score, GridSearchCV, RandomizedSearchCV\n",
        "from sklearn.feature_selection import VarianceThreshold\n",
        "from gplearn.genetic import SymbolicRegressor\n",
        "from sklearn.ensemble import RandomForestClassifier\n",
        "from sklearn.metrics import roc_curve\n",
        "from sklearn.metrics import roc_auc_score\n",
        "from sklearn.metrics import silhouette_samples, silhouette_score\n",
        "\n",
        "\n",
        "import featuretools as ft\n",
        "import pandas as pd\n",
        "import matplotlib.pyplot as plt\n",
        "import numpy as np\n",
        "import seaborn as sns\n",
        "\n"
      ],
      "execution_count": 0,
      "outputs": []
    },
    {
      "cell_type": "markdown",
      "metadata": {
        "id": "hhHKwuf8Y4IZ",
        "colab_type": "text"
      },
      "source": [
        "Importing data"
      ]
    },
    {
      "cell_type": "code",
      "metadata": {
        "id": "tK_ArneY9NCR",
        "colab_type": "code",
        "colab": {}
      },
      "source": [
        "cds2016 = pd.read_csv(\"https://raw.githubusercontent.com/adia4/Datathon-GroupG/master/CDS_2016_va?token=ANRTAFXIHAZICEGIZ27E53C6PIUPQ\",encoding = 'ISO-8859-1')\n",
        "cds2017 = pd.read_csv(\"https://raw.githubusercontent.com/adia4/Datathon-GroupG/master/CDS_2017_va?token=ANRTAFX2BBKCHK74D4LRJU26PIUUC\",encoding = 'ISO-8859-1')\n",
        "cds2018 = pd.read_csv(\"https://raw.githubusercontent.com/adia4/Datathon-GroupG/master/CDS_2018_va?token=ANRTAFTDCFNKKBRHVKPXD3C6PIUYC\",encoding = 'ISO-8859-1')\n",
        "cds2019 = pd.read_csv(\"https://raw.githubusercontent.com/adia4/Datathon-GroupG/master/CDS_2019_NO_LABEL?token=ANRTAFXDL2D7Z7ER7P3Y4T26PIU32\",encoding = 'ISO-8859-1')"
      ],
      "execution_count": 0,
      "outputs": []
    },
    {
      "cell_type": "code",
      "metadata": {
        "id": "-pxZHt0R2eXN",
        "colab_type": "code",
        "colab": {}
      },
      "source": [
        "maestros = pd.read_csv(\"https://gist.githubusercontent.com/valentinapremoli/20bfc005daa29be4d200ec21ada0215c/raw/74d932a49c21948f983cbbe86b79b1a3fde4f1b1/Maestros\",sep =';',encoding = 'UTF-8',decimal=',')\n",
        "cursos = pd.read_csv(\"https://gist.githubusercontent.com/valentinapremoli/5d30997044f3e180b9d893e317e0f6c4/raw/407cf18cce8a09e05d26c7865fd935985a57cc24/Cursos.csv\",sep =';',encoding = 'UTF-8')\n",
        "lenguas= pd.read_csv(\"https://gist.githubusercontent.com/valentinapremoli/20bfc005daa29be4d200ec21ada0215c/raw/74d932a49c21948f983cbbe86b79b1a3fde4f1b1/Lengua.csv\",sep =';',encoding = 'UTF-8')\n",
        "ts = pd.read_csv(\"https://gist.githubusercontent.com/valentinapremoli/20bfc005daa29be4d200ec21ada0215c/raw/74d932a49c21948f983cbbe86b79b1a3fde4f1b1/TS.csv\",sep =';',encoding = 'UTF-8')\n",
        "tme = pd.read_csv(\"https://gist.githubusercontent.com/valentinapremoli/0a46486326dc6bb837b4fe12ed317c63/raw/1287ee3454120ac52616310ad14537f653193cdd/TME.csv\",sep =';',encoding = 'UTF-8')\n",
        "asignaturas = pd.read_csv(\"https://gist.githubusercontent.com/valentinapremoli/20bfc005daa29be4d200ec21ada0215c/raw/74d932a49c21948f983cbbe86b79b1a3fde4f1b1/Asignaturas\",sep =';',encoding = 'UTF-8')"
      ],
      "execution_count": 0,
      "outputs": []
    },
    {
      "cell_type": "code",
      "metadata": {
        "id": "uHO8mT7QexvL",
        "colab_type": "code",
        "colab": {}
      },
      "source": [
        "subjects = pd.read_csv(\"https://raw.githubusercontent.com/adia4/Datathon-GroupG/master/SUBJECTS.csv?token=ANRTAFU5KS7TJNF6ZXYVVFK6PUIDK\",sep = \";\",decimal = ',')"
      ],
      "execution_count": 0,
      "outputs": []
    },
    {
      "cell_type": "markdown",
      "metadata": {
        "id": "WEgTrbg0Y-QB",
        "colab_type": "text"
      },
      "source": [
        "Creating functions and loops to clean and bin the data"
      ]
    },
    {
      "cell_type": "code",
      "metadata": {
        "id": "Us7Dimr9fOfJ",
        "colab_type": "code",
        "colab": {}
      },
      "source": [
        "for i in list(subjects.columns):\n",
        "    subjects.loc[~subjects[i].isnull(),i]=1\n",
        "    subjects.loc[subjects[i].isnull(),i]=0\n",
        "\n",
        "subjects['subject'] = asignaturas.Asignatura"
      ],
      "execution_count": 0,
      "outputs": []
    },
    {
      "cell_type": "code",
      "metadata": {
        "id": "uZ-jHwNPfcyP",
        "colab_type": "code",
        "colab": {}
      },
      "source": [
        "maestros = maestros.drop(['Id_Asociación','Id_Subasociación'],axis = 1)"
      ],
      "execution_count": 0,
      "outputs": []
    },
    {
      "cell_type": "code",
      "metadata": {
        "id": "TIu3UNMGf6-X",
        "colab_type": "code",
        "colab": {}
      },
      "source": [
        "maestros.columns = ['client_id', 'Latitude', 'Longitude', 'Comunidad Autónoma', 'Titularidad']\n",
        "maestros['Comunidad Autónoma'] = maestros['Comunidad Autónoma'].astype('category',copy=False)\n",
        "maestros['Titularidad'] = maestros['Titularidad'].astype('category',copy=False)"
      ],
      "execution_count": 0,
      "outputs": []
    },
    {
      "cell_type": "code",
      "metadata": {
        "id": "7I1elyFNOwxH",
        "colab_type": "code",
        "colab": {}
      },
      "source": [
        "maestros = pd.get_dummies(maestros, drop_first=True)"
      ],
      "execution_count": 0,
      "outputs": []
    },
    {
      "cell_type": "code",
      "metadata": {
        "id": "keC2Bj8gOeB-",
        "colab_type": "code",
        "colab": {}
      },
      "source": [
        "cursos = cursos.iloc[:,0:2]\n",
        "def course_seg(element):\n",
        "  if element<=25:\n",
        "    return 1\n",
        "  elif element>25 & element<=31:\n",
        "    return 2\n",
        "  elif element>31 & element<=35:\n",
        "    return 3\n",
        "  else:\n",
        "    return 4\n",
        "\n",
        "\n"
      ],
      "execution_count": 0,
      "outputs": []
    },
    {
      "cell_type": "markdown",
      "metadata": {
        "id": "eOHqbFrsZN4n",
        "colab_type": "text"
      },
      "source": [
        "Renaming the columns\n"
      ]
    },
    {
      "cell_type": "code",
      "metadata": {
        "id": "Cb7mCUSp9NCZ",
        "colab_type": "code",
        "colab": {}
      },
      "source": [
        "cds2017.columns = ['client_id', 'year', 'course', 'subject',\n",
        "       'type_of_material', 'editorial_group', 'language',\n",
        "       'media', 'Variable1', 'Variable2']\n",
        "cds2016.columns = ['client_id', 'year', 'course', 'subject',\n",
        "       'type_of_material', 'editorial_group', 'language',\n",
        "       'media', 'Variable1', 'Variable2']\n",
        "cds2018.columns = ['client_id', 'year', 'course', 'subject',\n",
        "       'type_of_material', 'editorial_group', 'language',\n",
        "       'media', 'Variable1', 'Variable2']\n",
        "cds2019.columns = ['client_id', 'year', 'course', 'subject',\n",
        "       'type_of_material', 'language',\n",
        "       'media', 'Variable1', 'Variable2']"
      ],
      "execution_count": 0,
      "outputs": []
    },
    {
      "cell_type": "code",
      "metadata": {
        "id": "Rfrtj6zXbYUO",
        "colab_type": "code",
        "colab": {}
      },
      "source": [
        "cds2018['course'] = cds2018['course'].map(lambda x: x.lstrip('c')).astype(int)\n",
        "cds2018[\"year\"] = 2018"
      ],
      "execution_count": 0,
      "outputs": []
    },
    {
      "cell_type": "code",
      "metadata": {
        "id": "gp5CJkUuBZw6",
        "colab_type": "code",
        "colab": {}
      },
      "source": [
        "cds2017 = cds2017.drop_duplicates()\n",
        "cds2016 = cds2016.drop('year',axis=1)\n",
        "cds2017 = cds2017.drop('year',axis=1)\n",
        "cds2018 = cds2018.drop('year',axis=1)\n"
      ],
      "execution_count": 0,
      "outputs": []
    },
    {
      "cell_type": "code",
      "metadata": {
        "id": "8D1rS4qRB2z0",
        "colab_type": "code",
        "colab": {}
      },
      "source": [
        "a = list(cds2016.columns)\n",
        "a.remove('editorial_group')\n",
        "a.remove('Variable1')\n",
        "a.remove('Variable2')\n",
        "cdsfin = pd.merge(left=cds2016[cds2016.editorial_group!=90],right = cds2017,on = a,how = 'inner',suffixes = ('old','new'))\n",
        "cdsfin1 = pd.merge(left=cds2017[cds2017.editorial_group!=90],right = cds2018,on = a,how = 'inner',suffixes = ('old','new'))\n"
      ],
      "execution_count": 0,
      "outputs": []
    },
    {
      "cell_type": "markdown",
      "metadata": {
        "id": "Trjq18E7ZzSl",
        "colab_type": "text"
      },
      "source": [
        "Creating the target variable"
      ]
    },
    {
      "cell_type": "code",
      "metadata": {
        "id": "lnNiW0ctEDBi",
        "colab_type": "code",
        "colab": {}
      },
      "source": [
        "cdsfin['target'] = ((cdsfin.editorial_groupnew == 90)*1 - (cdsfin.editorial_groupold == 90)*1).map(lambda x: x==1)\n",
        "cdsfin1['target'] = ((cdsfin1.editorial_groupnew == 90)*1 - (cdsfin1.editorial_groupold == 90)*1).map(lambda x: x==1)\n",
        "cdsfin = cdsfin.drop(['editorial_groupnew'],axis = 1)\n",
        "cdsfin1 = cdsfin1.drop(['editorial_groupnew'],axis = 1)"
      ],
      "execution_count": 0,
      "outputs": []
    },
    {
      "cell_type": "code",
      "metadata": {
        "id": "e4RZSRgsEEr6",
        "colab_type": "code",
        "colab": {}
      },
      "source": [
        "data = pd.concat([cdsfin,cdsfin1])\n",
        "data = data.drop_duplicates()\n",
        "data.course = data.course.map(course_seg)"
      ],
      "execution_count": 0,
      "outputs": []
    },
    {
      "cell_type": "code",
      "metadata": {
        "id": "gSkmzr7sjN_O",
        "colab_type": "code",
        "colab": {}
      },
      "source": [
        "col_names = ['client_id', 'course', 'subject', 'type_of_material',\n",
        "       'editorial_groupold', 'language', 'media']\n",
        "for col in col_names:\n",
        "    data[col] = data[col].astype('category',copy=False)"
      ],
      "execution_count": 0,
      "outputs": []
    },
    {
      "cell_type": "code",
      "metadata": {
        "id": "pAamglGHjDP8",
        "colab_type": "code",
        "colab": {}
      },
      "source": [
        "data['oldcost'] = data.Variable2old/data.Variable1old\n",
        "data['newcost'] = data.Variable2new/data.Variable1new"
      ],
      "execution_count": 0,
      "outputs": []
    },
    {
      "cell_type": "code",
      "metadata": {
        "id": "_R-4O00WZVsl",
        "colab_type": "code",
        "colab": {}
      },
      "source": [
        "data.loc[data.oldcost.isnull(),'oldcost']=0\n",
        "data.loc[data.newcost.isnull(),'newcost']=0\n"
      ],
      "execution_count": 0,
      "outputs": []
    },
    {
      "cell_type": "markdown",
      "metadata": {
        "id": "AP5sy8A_bSYU",
        "colab_type": "text"
      },
      "source": [
        "Baseline Model"
      ]
    },
    {
      "cell_type": "code",
      "metadata": {
        "id": "XB2CxDN9bRGO",
        "colab_type": "code",
        "colab": {}
      },
      "source": [
        "X_train,X_test,y_train,y_test = train_test_split(data.loc[:,data.columns!='target'],data['target'],test_size=0.15,random_state = 1)\n",
        "rf = RandomForestClassifier(n_estimators = 200, random_state = 42)\n",
        "rf.fit(X_train, y_train)\n",
        "predictions = rf.predict(X_test)\n",
        "print(classification_report(y_test,predictions))"
      ],
      "execution_count": 0,
      "outputs": []
    },
    {
      "cell_type": "markdown",
      "metadata": {
        "id": "-E7-XBuTbrMQ",
        "colab_type": "text"
      },
      "source": [
        "Merging other provided data and check for improvement in the performance"
      ]
    },
    {
      "cell_type": "code",
      "metadata": {
        "id": "m8RkK2J4bAVY",
        "colab_type": "code",
        "colab": {}
      },
      "source": [
        "data_tf = pd.merge(left = data, right = subjects.subject[0:92].astype('int'), on = 'subject',how = 'inner')\n",
        "data_tf = pd.merge(left = data_tf, right = maestros, on = 'client_id',how = 'inner')"
      ],
      "execution_count": 0,
      "outputs": []
    },
    {
      "cell_type": "code",
      "metadata": {
        "id": "WSUmzifx98RE",
        "colab_type": "code",
        "colab": {}
      },
      "source": [
        "X_train,X_test,y_train,y_test = train_test_split(data_tf.loc[:,data_tf.columns!='target'],data_tf['target'],test_size=0.15,random_state = 1)"
      ],
      "execution_count": 0,
      "outputs": []
    },
    {
      "cell_type": "code",
      "metadata": {
        "id": "qyzLVrHi_JR3",
        "colab_type": "code",
        "colab": {}
      },
      "source": [
        "rf = RandomForestClassifier(n_estimators = 200, random_state = 42)\n",
        "rf.fit(X_train, y_train)"
      ],
      "execution_count": 0,
      "outputs": []
    },
    {
      "cell_type": "code",
      "metadata": {
        "id": "_w6go5ps_PDl",
        "colab_type": "code",
        "outputId": "160a38cd-f1c6-4a78-a9d3-59f6b21b6e00",
        "colab": {
          "base_uri": "https://localhost:8080/",
          "height": 168
        }
      },
      "source": [
        "predictions = rf.predict(X_test)\n",
        "print(classification_report(y_test,predictions))"
      ],
      "execution_count": 0,
      "outputs": [
        {
          "output_type": "stream",
          "text": [
            "              precision    recall  f1-score   support\n",
            "\n",
            "       False       0.99      0.71      0.82    102933\n",
            "        True       0.14      0.83      0.25      6104\n",
            "\n",
            "    accuracy                           0.72    109037\n",
            "   macro avg       0.57      0.77      0.54    109037\n",
            "weighted avg       0.94      0.72      0.79    109037\n",
            "\n"
          ],
          "name": "stdout"
        }
      ]
    },
    {
      "cell_type": "markdown",
      "metadata": {
        "id": "TiqpJEFbb4d5",
        "colab_type": "text"
      },
      "source": [
        "Clustering"
      ]
    },
    {
      "cell_type": "code",
      "metadata": {
        "id": "3QMqzboGcHPk",
        "colab_type": "code",
        "outputId": "a66b641d-2161-4aac-991f-c740ca48e10b",
        "colab": {
          "base_uri": "https://localhost:8080/",
          "height": 370
        }
      },
      "source": [
        "range_n_clusters = [2, 3, 4, 5, 6, 7]\n",
        "best = 0\n",
        "best_n = 0\n",
        "for n_clusters in range_n_clusters:\n",
        "   \n",
        "    clusterer = KMeans(n_clusters=n_clusters, random_state=10)\n",
        "    cluster_labels = clusterer.fit_predict(X_train)\n",
        "\n",
        "    silhouette_avg = silhouette_score(X_train, y_train)\n",
        "    if silhouette_avg > best:\n",
        "      best_n = n_clusters\n",
        "      best = silhouette_avg\n",
        "\n",
        "print(best_n)\n"
      ],
      "execution_count": 0,
      "outputs": [
        {
          "output_type": "error",
          "ename": "KeyboardInterrupt",
          "evalue": "ignored",
          "traceback": [
            "\u001b[0;31m---------------------------------------------------------------------------\u001b[0m",
            "\u001b[0;31mKeyboardInterrupt\u001b[0m                         Traceback (most recent call last)",
            "\u001b[0;32m<ipython-input-56-9fa89f7c3666>\u001b[0m in \u001b[0;36m<module>\u001b[0;34m()\u001b[0m\n\u001b[1;32m      7\u001b[0m     \u001b[0mcluster_labels\u001b[0m \u001b[0;34m=\u001b[0m \u001b[0mclusterer\u001b[0m\u001b[0;34m.\u001b[0m\u001b[0mfit_predict\u001b[0m\u001b[0;34m(\u001b[0m\u001b[0mX_train\u001b[0m\u001b[0;34m)\u001b[0m\u001b[0;34m\u001b[0m\u001b[0;34m\u001b[0m\u001b[0m\n\u001b[1;32m      8\u001b[0m \u001b[0;34m\u001b[0m\u001b[0m\n\u001b[0;32m----> 9\u001b[0;31m     \u001b[0msilhouette_avg\u001b[0m \u001b[0;34m=\u001b[0m \u001b[0msilhouette_score\u001b[0m\u001b[0;34m(\u001b[0m\u001b[0mX_train\u001b[0m\u001b[0;34m,\u001b[0m \u001b[0my_train\u001b[0m\u001b[0;34m)\u001b[0m\u001b[0;34m\u001b[0m\u001b[0;34m\u001b[0m\u001b[0m\n\u001b[0m\u001b[1;32m     10\u001b[0m     \u001b[0;32mif\u001b[0m \u001b[0msilhouette_avg\u001b[0m \u001b[0;34m>\u001b[0m \u001b[0mbest\u001b[0m\u001b[0;34m:\u001b[0m\u001b[0;34m\u001b[0m\u001b[0;34m\u001b[0m\u001b[0m\n\u001b[1;32m     11\u001b[0m       \u001b[0mbest_n\u001b[0m \u001b[0;34m=\u001b[0m \u001b[0mn_clusters\u001b[0m\u001b[0;34m\u001b[0m\u001b[0;34m\u001b[0m\u001b[0m\n",
            "\u001b[0;32m/usr/local/lib/python3.6/dist-packages/sklearn/metrics/cluster/_unsupervised.py\u001b[0m in \u001b[0;36msilhouette_score\u001b[0;34m(X, labels, metric, sample_size, random_state, **kwds)\u001b[0m\n\u001b[1;32m    115\u001b[0m         \u001b[0;32melse\u001b[0m\u001b[0;34m:\u001b[0m\u001b[0;34m\u001b[0m\u001b[0;34m\u001b[0m\u001b[0m\n\u001b[1;32m    116\u001b[0m             \u001b[0mX\u001b[0m\u001b[0;34m,\u001b[0m \u001b[0mlabels\u001b[0m \u001b[0;34m=\u001b[0m \u001b[0mX\u001b[0m\u001b[0;34m[\u001b[0m\u001b[0mindices\u001b[0m\u001b[0;34m]\u001b[0m\u001b[0;34m,\u001b[0m \u001b[0mlabels\u001b[0m\u001b[0;34m[\u001b[0m\u001b[0mindices\u001b[0m\u001b[0;34m]\u001b[0m\u001b[0;34m\u001b[0m\u001b[0;34m\u001b[0m\u001b[0m\n\u001b[0;32m--> 117\u001b[0;31m     \u001b[0;32mreturn\u001b[0m \u001b[0mnp\u001b[0m\u001b[0;34m.\u001b[0m\u001b[0mmean\u001b[0m\u001b[0;34m(\u001b[0m\u001b[0msilhouette_samples\u001b[0m\u001b[0;34m(\u001b[0m\u001b[0mX\u001b[0m\u001b[0;34m,\u001b[0m \u001b[0mlabels\u001b[0m\u001b[0;34m,\u001b[0m \u001b[0mmetric\u001b[0m\u001b[0;34m=\u001b[0m\u001b[0mmetric\u001b[0m\u001b[0;34m,\u001b[0m \u001b[0;34m**\u001b[0m\u001b[0mkwds\u001b[0m\u001b[0;34m)\u001b[0m\u001b[0;34m)\u001b[0m\u001b[0;34m\u001b[0m\u001b[0;34m\u001b[0m\u001b[0m\n\u001b[0m\u001b[1;32m    118\u001b[0m \u001b[0;34m\u001b[0m\u001b[0m\n\u001b[1;32m    119\u001b[0m \u001b[0;34m\u001b[0m\u001b[0m\n",
            "\u001b[0;32m/usr/local/lib/python3.6/dist-packages/sklearn/metrics/cluster/_unsupervised.py\u001b[0m in \u001b[0;36msilhouette_samples\u001b[0;34m(X, labels, metric, **kwds)\u001b[0m\n\u001b[1;32m    232\u001b[0m                                     labels=labels, label_freqs=label_freqs)\n\u001b[1;32m    233\u001b[0m     results = zip(*pairwise_distances_chunked(X, reduce_func=reduce_func,\n\u001b[0;32m--> 234\u001b[0;31m                                               **kwds))\n\u001b[0m\u001b[1;32m    235\u001b[0m     \u001b[0mintra_clust_dists\u001b[0m\u001b[0;34m,\u001b[0m \u001b[0minter_clust_dists\u001b[0m \u001b[0;34m=\u001b[0m \u001b[0mresults\u001b[0m\u001b[0;34m\u001b[0m\u001b[0;34m\u001b[0m\u001b[0m\n\u001b[1;32m    236\u001b[0m     \u001b[0mintra_clust_dists\u001b[0m \u001b[0;34m=\u001b[0m \u001b[0mnp\u001b[0m\u001b[0;34m.\u001b[0m\u001b[0mconcatenate\u001b[0m\u001b[0;34m(\u001b[0m\u001b[0mintra_clust_dists\u001b[0m\u001b[0;34m)\u001b[0m\u001b[0;34m\u001b[0m\u001b[0;34m\u001b[0m\u001b[0m\n",
            "\u001b[0;32m/usr/local/lib/python3.6/dist-packages/sklearn/metrics/pairwise.py\u001b[0m in \u001b[0;36mpairwise_distances_chunked\u001b[0;34m(X, Y, reduce_func, metric, n_jobs, working_memory, **kwds)\u001b[0m\n\u001b[1;32m   1593\u001b[0m             \u001b[0mX_chunk\u001b[0m \u001b[0;34m=\u001b[0m \u001b[0mX\u001b[0m\u001b[0;34m[\u001b[0m\u001b[0msl\u001b[0m\u001b[0;34m]\u001b[0m\u001b[0;34m\u001b[0m\u001b[0;34m\u001b[0m\u001b[0m\n\u001b[1;32m   1594\u001b[0m         D_chunk = pairwise_distances(X_chunk, Y, metric=metric,\n\u001b[0;32m-> 1595\u001b[0;31m                                      n_jobs=n_jobs, **kwds)\n\u001b[0m\u001b[1;32m   1596\u001b[0m         if ((X is Y or Y is None)\n\u001b[1;32m   1597\u001b[0m                 \u001b[0;32mand\u001b[0m \u001b[0mPAIRWISE_DISTANCE_FUNCTIONS\u001b[0m\u001b[0;34m.\u001b[0m\u001b[0mget\u001b[0m\u001b[0;34m(\u001b[0m\u001b[0mmetric\u001b[0m\u001b[0;34m,\u001b[0m \u001b[0;32mNone\u001b[0m\u001b[0;34m)\u001b[0m\u001b[0;34m\u001b[0m\u001b[0;34m\u001b[0m\u001b[0m\n",
            "\u001b[0;32m/usr/local/lib/python3.6/dist-packages/sklearn/metrics/pairwise.py\u001b[0m in \u001b[0;36mpairwise_distances\u001b[0;34m(X, Y, metric, n_jobs, force_all_finite, **kwds)\u001b[0m\n\u001b[1;32m   1750\u001b[0m         \u001b[0mfunc\u001b[0m \u001b[0;34m=\u001b[0m \u001b[0mpartial\u001b[0m\u001b[0;34m(\u001b[0m\u001b[0mdistance\u001b[0m\u001b[0;34m.\u001b[0m\u001b[0mcdist\u001b[0m\u001b[0;34m,\u001b[0m \u001b[0mmetric\u001b[0m\u001b[0;34m=\u001b[0m\u001b[0mmetric\u001b[0m\u001b[0;34m,\u001b[0m \u001b[0;34m**\u001b[0m\u001b[0mkwds\u001b[0m\u001b[0;34m)\u001b[0m\u001b[0;34m\u001b[0m\u001b[0;34m\u001b[0m\u001b[0m\n\u001b[1;32m   1751\u001b[0m \u001b[0;34m\u001b[0m\u001b[0m\n\u001b[0;32m-> 1752\u001b[0;31m     \u001b[0;32mreturn\u001b[0m \u001b[0m_parallel_pairwise\u001b[0m\u001b[0;34m(\u001b[0m\u001b[0mX\u001b[0m\u001b[0;34m,\u001b[0m \u001b[0mY\u001b[0m\u001b[0;34m,\u001b[0m \u001b[0mfunc\u001b[0m\u001b[0;34m,\u001b[0m \u001b[0mn_jobs\u001b[0m\u001b[0;34m,\u001b[0m \u001b[0;34m**\u001b[0m\u001b[0mkwds\u001b[0m\u001b[0;34m)\u001b[0m\u001b[0;34m\u001b[0m\u001b[0;34m\u001b[0m\u001b[0m\n\u001b[0m\u001b[1;32m   1753\u001b[0m \u001b[0;34m\u001b[0m\u001b[0m\n\u001b[1;32m   1754\u001b[0m \u001b[0;34m\u001b[0m\u001b[0m\n",
            "\u001b[0;32m/usr/local/lib/python3.6/dist-packages/sklearn/metrics/pairwise.py\u001b[0m in \u001b[0;36m_parallel_pairwise\u001b[0;34m(X, Y, func, n_jobs, **kwds)\u001b[0m\n\u001b[1;32m   1346\u001b[0m \u001b[0;34m\u001b[0m\u001b[0m\n\u001b[1;32m   1347\u001b[0m     \u001b[0;32mif\u001b[0m \u001b[0meffective_n_jobs\u001b[0m\u001b[0;34m(\u001b[0m\u001b[0mn_jobs\u001b[0m\u001b[0;34m)\u001b[0m \u001b[0;34m==\u001b[0m \u001b[0;36m1\u001b[0m\u001b[0;34m:\u001b[0m\u001b[0;34m\u001b[0m\u001b[0;34m\u001b[0m\u001b[0m\n\u001b[0;32m-> 1348\u001b[0;31m         \u001b[0;32mreturn\u001b[0m \u001b[0mfunc\u001b[0m\u001b[0;34m(\u001b[0m\u001b[0mX\u001b[0m\u001b[0;34m,\u001b[0m \u001b[0mY\u001b[0m\u001b[0;34m,\u001b[0m \u001b[0;34m**\u001b[0m\u001b[0mkwds\u001b[0m\u001b[0;34m)\u001b[0m\u001b[0;34m\u001b[0m\u001b[0;34m\u001b[0m\u001b[0m\n\u001b[0m\u001b[1;32m   1349\u001b[0m \u001b[0;34m\u001b[0m\u001b[0m\n\u001b[1;32m   1350\u001b[0m     \u001b[0;31m# enforce a threading backend to prevent data communication overhead\u001b[0m\u001b[0;34m\u001b[0m\u001b[0;34m\u001b[0m\u001b[0;34m\u001b[0m\u001b[0m\n",
            "\u001b[0;32m/usr/local/lib/python3.6/dist-packages/sklearn/metrics/pairwise.py\u001b[0m in \u001b[0;36meuclidean_distances\u001b[0;34m(X, Y, Y_norm_squared, squared, X_norm_squared)\u001b[0m\n\u001b[1;32m    301\u001b[0m     \u001b[0;32melse\u001b[0m\u001b[0;34m:\u001b[0m\u001b[0;34m\u001b[0m\u001b[0;34m\u001b[0m\u001b[0m\n\u001b[1;32m    302\u001b[0m         \u001b[0;31m# if dtype is already float64, no need to chunk and upcast\u001b[0m\u001b[0;34m\u001b[0m\u001b[0;34m\u001b[0m\u001b[0;34m\u001b[0m\u001b[0m\n\u001b[0;32m--> 303\u001b[0;31m         \u001b[0mdistances\u001b[0m \u001b[0;34m=\u001b[0m \u001b[0;34m-\u001b[0m \u001b[0;36m2\u001b[0m \u001b[0;34m*\u001b[0m \u001b[0msafe_sparse_dot\u001b[0m\u001b[0;34m(\u001b[0m\u001b[0mX\u001b[0m\u001b[0;34m,\u001b[0m \u001b[0mY\u001b[0m\u001b[0;34m.\u001b[0m\u001b[0mT\u001b[0m\u001b[0;34m,\u001b[0m \u001b[0mdense_output\u001b[0m\u001b[0;34m=\u001b[0m\u001b[0;32mTrue\u001b[0m\u001b[0;34m)\u001b[0m\u001b[0;34m\u001b[0m\u001b[0;34m\u001b[0m\u001b[0m\n\u001b[0m\u001b[1;32m    304\u001b[0m         \u001b[0mdistances\u001b[0m \u001b[0;34m+=\u001b[0m \u001b[0mXX\u001b[0m\u001b[0;34m\u001b[0m\u001b[0;34m\u001b[0m\u001b[0m\n\u001b[1;32m    305\u001b[0m         \u001b[0mdistances\u001b[0m \u001b[0;34m+=\u001b[0m \u001b[0mYY\u001b[0m\u001b[0;34m\u001b[0m\u001b[0;34m\u001b[0m\u001b[0m\n",
            "\u001b[0;32m/usr/local/lib/python3.6/dist-packages/sklearn/utils/extmath.py\u001b[0m in \u001b[0;36msafe_sparse_dot\u001b[0;34m(a, b, dense_output)\u001b[0m\n\u001b[1;32m    149\u001b[0m             \u001b[0mret\u001b[0m \u001b[0;34m=\u001b[0m \u001b[0mnp\u001b[0m\u001b[0;34m.\u001b[0m\u001b[0mdot\u001b[0m\u001b[0;34m(\u001b[0m\u001b[0ma\u001b[0m\u001b[0;34m,\u001b[0m \u001b[0mb\u001b[0m\u001b[0;34m)\u001b[0m\u001b[0;34m\u001b[0m\u001b[0;34m\u001b[0m\u001b[0m\n\u001b[1;32m    150\u001b[0m     \u001b[0;32melse\u001b[0m\u001b[0;34m:\u001b[0m\u001b[0;34m\u001b[0m\u001b[0;34m\u001b[0m\u001b[0m\n\u001b[0;32m--> 151\u001b[0;31m         \u001b[0mret\u001b[0m \u001b[0;34m=\u001b[0m \u001b[0ma\u001b[0m \u001b[0;34m@\u001b[0m \u001b[0mb\u001b[0m\u001b[0;34m\u001b[0m\u001b[0;34m\u001b[0m\u001b[0m\n\u001b[0m\u001b[1;32m    152\u001b[0m \u001b[0;34m\u001b[0m\u001b[0m\n\u001b[1;32m    153\u001b[0m     if (sparse.issparse(a) and sparse.issparse(b)\n",
            "\u001b[0;31mKeyboardInterrupt\u001b[0m: "
          ]
        }
      ]
    },
    {
      "cell_type": "code",
      "metadata": {
        "id": "J5SVXNBgf0ra",
        "colab_type": "code",
        "colab": {}
      },
      "source": [
        "kmeans = KMeans(n_clusters=5)              #Including clustering\n",
        "kmeans.fit(data_tf.loc[:, data_tf.columns != 'left'])\n",
        "data_tf['cluster'] = kmeans.predict(data_tf.loc[:, data_tf.columns != 'left'])"
      ],
      "execution_count": 0,
      "outputs": []
    },
    {
      "cell_type": "code",
      "metadata": {
        "id": "s_T9_D9AgaUD",
        "colab_type": "code",
        "outputId": "eecbd369-fafd-4d4c-ce3f-51642b984a41",
        "colab": {
          "base_uri": "https://localhost:8080/",
          "height": 168
        }
      },
      "source": [
        "X_train,X_test,y_train,y_test = train_test_split(data_tf.loc[:,data_tf.columns!='target'],data_tf['target'],test_size=0.15,random_state = 1)\n",
        "rf1 = RandomForestClassifier(n_estimators = 200, random_state = 42)\n",
        "rf1.fit(X_train, y_train)\n",
        "predictions = rf1.predict(X_test)\n",
        "print(classification_report(y_test,predictions))"
      ],
      "execution_count": 0,
      "outputs": [
        {
          "output_type": "stream",
          "text": [
            "              precision    recall  f1-score   support\n",
            "\n",
            "       False       0.96      1.00      0.98    102933\n",
            "        True       0.85      0.24      0.38      6104\n",
            "\n",
            "    accuracy                           0.96    109037\n",
            "   macro avg       0.90      0.62      0.68    109037\n",
            "weighted avg       0.95      0.96      0.94    109037\n",
            "\n"
          ],
          "name": "stdout"
        }
      ]
    },
    {
      "cell_type": "code",
      "metadata": {
        "id": "zuHKbf9zxwv-",
        "colab_type": "code",
        "outputId": "6433425f-445a-4891-f89c-571ccf0c89d9",
        "colab": {
          "base_uri": "https://localhost:8080/",
          "height": 168
        }
      },
      "source": [
        "predictions = (rf1.predict_proba(X_test)[:,1] >= 0.25).astype(bool)\n",
        "print(classification_report(y_test,predictions))"
      ],
      "execution_count": 0,
      "outputs": [
        {
          "output_type": "stream",
          "text": [
            "              precision    recall  f1-score   support\n",
            "\n",
            "       False       0.97      0.98      0.97    102933\n",
            "        True       0.57      0.56      0.57      6104\n",
            "\n",
            "    accuracy                           0.95    109037\n",
            "   macro avg       0.77      0.77      0.77    109037\n",
            "weighted avg       0.95      0.95      0.95    109037\n",
            "\n"
          ],
          "name": "stdout"
        }
      ]
    },
    {
      "cell_type": "code",
      "metadata": {
        "id": "hioEDqKr7Q8v",
        "colab_type": "code",
        "outputId": "a0474058-6e0a-403c-c828-1180b732197a",
        "colab": {
          "base_uri": "https://localhost:8080/",
          "height": 337
        }
      },
      "source": [
        "\n",
        "from google.colab import files\n",
        "from sklearn.externals import joblib\n",
        "\n",
        "# save file in colab environment\n",
        "joblib.dump(rf1, 'rfbest')\n",
        "\n",
        "# download to local machine\n",
        "files.download('rfbest')\n"
      ],
      "execution_count": 0,
      "outputs": [
        {
          "output_type": "error",
          "ename": "KeyboardInterrupt",
          "evalue": "ignored",
          "traceback": [
            "\u001b[0;31m---------------------------------------------------------------------------\u001b[0m",
            "\u001b[0;31mKeyboardInterrupt\u001b[0m                         Traceback (most recent call last)",
            "\u001b[0;32m<ipython-input-121-d9127c0ecd6e>\u001b[0m in \u001b[0;36m<module>\u001b[0;34m()\u001b[0m\n\u001b[1;32m      7\u001b[0m \u001b[0;34m\u001b[0m\u001b[0m\n\u001b[1;32m      8\u001b[0m \u001b[0;31m# download to local machine\u001b[0m\u001b[0;34m\u001b[0m\u001b[0;34m\u001b[0m\u001b[0;34m\u001b[0m\u001b[0m\n\u001b[0;32m----> 9\u001b[0;31m \u001b[0mfiles\u001b[0m\u001b[0;34m.\u001b[0m\u001b[0mdownload\u001b[0m\u001b[0;34m(\u001b[0m\u001b[0;34m'rfbest'\u001b[0m\u001b[0;34m)\u001b[0m\u001b[0;34m\u001b[0m\u001b[0;34m\u001b[0m\u001b[0m\n\u001b[0m",
            "\u001b[0;32m/usr/local/lib/python3.6/dist-packages/google/colab/files.py\u001b[0m in \u001b[0;36mdownload\u001b[0;34m(filename)\u001b[0m\n\u001b[1;32m    176\u001b[0m       \u001b[0;34m'port'\u001b[0m\u001b[0;34m:\u001b[0m \u001b[0mport\u001b[0m\u001b[0;34m,\u001b[0m\u001b[0;34m\u001b[0m\u001b[0;34m\u001b[0m\u001b[0m\n\u001b[1;32m    177\u001b[0m       \u001b[0;34m'path'\u001b[0m\u001b[0;34m:\u001b[0m \u001b[0m_os\u001b[0m\u001b[0;34m.\u001b[0m\u001b[0mpath\u001b[0m\u001b[0;34m.\u001b[0m\u001b[0mabspath\u001b[0m\u001b[0;34m(\u001b[0m\u001b[0mfilename\u001b[0m\u001b[0;34m)\u001b[0m\u001b[0;34m,\u001b[0m\u001b[0;34m\u001b[0m\u001b[0;34m\u001b[0m\u001b[0m\n\u001b[0;32m--> 178\u001b[0;31m       \u001b[0;34m'name'\u001b[0m\u001b[0;34m:\u001b[0m \u001b[0m_os\u001b[0m\u001b[0;34m.\u001b[0m\u001b[0mpath\u001b[0m\u001b[0;34m.\u001b[0m\u001b[0mbasename\u001b[0m\u001b[0;34m(\u001b[0m\u001b[0mfilename\u001b[0m\u001b[0;34m)\u001b[0m\u001b[0;34m,\u001b[0m\u001b[0;34m\u001b[0m\u001b[0;34m\u001b[0m\u001b[0m\n\u001b[0m\u001b[1;32m    179\u001b[0m   })\n",
            "\u001b[0;32m/usr/local/lib/python3.6/dist-packages/google/colab/output/_js.py\u001b[0m in \u001b[0;36meval_js\u001b[0;34m(script, ignore_result)\u001b[0m\n\u001b[1;32m     37\u001b[0m   \u001b[0;32mif\u001b[0m \u001b[0mignore_result\u001b[0m\u001b[0;34m:\u001b[0m\u001b[0;34m\u001b[0m\u001b[0;34m\u001b[0m\u001b[0m\n\u001b[1;32m     38\u001b[0m     \u001b[0;32mreturn\u001b[0m\u001b[0;34m\u001b[0m\u001b[0;34m\u001b[0m\u001b[0m\n\u001b[0;32m---> 39\u001b[0;31m   \u001b[0;32mreturn\u001b[0m \u001b[0m_message\u001b[0m\u001b[0;34m.\u001b[0m\u001b[0mread_reply_from_input\u001b[0m\u001b[0;34m(\u001b[0m\u001b[0mrequest_id\u001b[0m\u001b[0;34m)\u001b[0m\u001b[0;34m\u001b[0m\u001b[0;34m\u001b[0m\u001b[0m\n\u001b[0m\u001b[1;32m     40\u001b[0m \u001b[0;34m\u001b[0m\u001b[0m\n\u001b[1;32m     41\u001b[0m \u001b[0;34m\u001b[0m\u001b[0m\n",
            "\u001b[0;32m/usr/local/lib/python3.6/dist-packages/google/colab/_message.py\u001b[0m in \u001b[0;36mread_reply_from_input\u001b[0;34m(message_id, timeout_sec)\u001b[0m\n\u001b[1;32m     99\u001b[0m     \u001b[0mreply\u001b[0m \u001b[0;34m=\u001b[0m \u001b[0m_read_next_input_message\u001b[0m\u001b[0;34m(\u001b[0m\u001b[0;34m)\u001b[0m\u001b[0;34m\u001b[0m\u001b[0;34m\u001b[0m\u001b[0m\n\u001b[1;32m    100\u001b[0m     \u001b[0;32mif\u001b[0m \u001b[0mreply\u001b[0m \u001b[0;34m==\u001b[0m \u001b[0m_NOT_READY\u001b[0m \u001b[0;32mor\u001b[0m \u001b[0;32mnot\u001b[0m \u001b[0misinstance\u001b[0m\u001b[0;34m(\u001b[0m\u001b[0mreply\u001b[0m\u001b[0;34m,\u001b[0m \u001b[0mdict\u001b[0m\u001b[0;34m)\u001b[0m\u001b[0;34m:\u001b[0m\u001b[0;34m\u001b[0m\u001b[0;34m\u001b[0m\u001b[0m\n\u001b[0;32m--> 101\u001b[0;31m       \u001b[0mtime\u001b[0m\u001b[0;34m.\u001b[0m\u001b[0msleep\u001b[0m\u001b[0;34m(\u001b[0m\u001b[0;36m0.025\u001b[0m\u001b[0;34m)\u001b[0m\u001b[0;34m\u001b[0m\u001b[0;34m\u001b[0m\u001b[0m\n\u001b[0m\u001b[1;32m    102\u001b[0m       \u001b[0;32mcontinue\u001b[0m\u001b[0;34m\u001b[0m\u001b[0;34m\u001b[0m\u001b[0m\n\u001b[1;32m    103\u001b[0m     if (reply.get('type') == 'colab_reply' and\n",
            "\u001b[0;31mKeyboardInterrupt\u001b[0m: "
          ]
        }
      ]
    },
    {
      "cell_type": "code",
      "metadata": {
        "id": "kTP1mWU5yh3_",
        "colab_type": "code",
        "colab": {}
      },
      "source": [
        "from sklearn.metrics import f1_score\n",
        "best = 0\n",
        "besti = 0\n",
        "for i in np.linspace(0,1,101):\n",
        "  predictions = (rf1.predict_proba(X_test)[:,1] >= i).astype(bool)\n",
        "  if(f1_score(y_test,predictions,average='macro')>best):\n",
        "    best = f1_score(y_test,predictions,average='macro')\n",
        "    besti = i\n"
      ],
      "execution_count": 0,
      "outputs": []
    },
    {
      "cell_type": "code",
      "metadata": {
        "id": "vRBY8Oru5Syi",
        "colab_type": "code",
        "outputId": "1af29aa1-b107-4241-ba10-183acdd766c0",
        "colab": {
          "base_uri": "https://localhost:8080/",
          "height": 34
        }
      },
      "source": [
        "print(best, besti)"
      ],
      "execution_count": 0,
      "outputs": [
        {
          "output_type": "stream",
          "text": [
            "0.7716137929006983 0.25\n"
          ],
          "name": "stdout"
        }
      ]
    },
    {
      "cell_type": "code",
      "metadata": {
        "id": "YvWt29S65Y5l",
        "colab_type": "code",
        "colab": {}
      },
      "source": [
        ""
      ],
      "execution_count": 0,
      "outputs": []
    },
    {
      "cell_type": "markdown",
      "metadata": {
        "id": "8NDRiDKzb7tm",
        "colab_type": "text"
      },
      "source": [
        "Upsampling"
      ]
    },
    {
      "cell_type": "code",
      "metadata": {
        "id": "ERZmonCDhHxD",
        "colab_type": "code",
        "colab": {}
      },
      "source": [
        "# Number of observations in each class\n",
        "n_class0 = len(data_tf[data_tf.target==0])\n",
        "n_class1 = len(data_tf[data_tf.target==1])\n",
        "\n",
        "# For every observation in class 1, randomly sample from class 0 with replacement\n",
        "class1_upsampled = np.random.choice(data_tf.index[data_tf.target==1], size=int(n_class1/4), replace=True)\n",
        "class0_downsampled = np.random.choice(data_tf.index[data_tf.target==0], size=int(n_class1/4), replace=False)\n",
        "# Join together class 0's upsampled target vector with class 1's target vector\n",
        "new = pd.concat([data_tf.loc[class1_upsampled,:],data_tf.loc[class0_downsampled]])\n"
      ],
      "execution_count": 0,
      "outputs": []
    },
    {
      "cell_type": "code",
      "metadata": {
        "id": "v_eDdSwlhIBT",
        "colab_type": "code",
        "outputId": "ab440178-0747-4f0c-cd5b-363267e1779d",
        "colab": {
          "base_uri": "https://localhost:8080/",
          "height": 168
        }
      },
      "source": [
        "X_train,X_test,y_train,y_test = train_test_split(data_tf.loc[:,data_tf.columns!='target'],data_tf['target'],test_size=0.15,random_state = 1)\n",
        "rf = RandomForestClassifier(n_estimators = 200, random_state = 42)\n",
        "rf.fit(new.loc[:,new.columns!='target'], new['target'])\n",
        "predictions = rf.predict(X_test)\n",
        "print(classification_report(y_test,predictions))"
      ],
      "execution_count": 0,
      "outputs": [
        {
          "output_type": "stream",
          "text": [
            "              precision    recall  f1-score   support\n",
            "\n",
            "       False       0.99      0.71      0.82    102933\n",
            "        True       0.14      0.83      0.25      6104\n",
            "\n",
            "    accuracy                           0.72    109037\n",
            "   macro avg       0.57      0.77      0.54    109037\n",
            "weighted avg       0.94      0.72      0.79    109037\n",
            "\n"
          ],
          "name": "stdout"
        }
      ]
    },
    {
      "cell_type": "markdown",
      "metadata": {
        "id": "vpg_N5-Fkwtr",
        "colab_type": "text"
      },
      "source": [
        "Hyperparameter tuning using cross validation"
      ]
    },
    {
      "cell_type": "code",
      "metadata": {
        "id": "qzG8XSqNkvjN",
        "colab_type": "code",
        "colab": {}
      },
      "source": [
        "# Number of trees in random forest\n",
        "n_estimators = [int(x) for x in np.linspace(start = 100, stop = 1000, num = 10)]\n",
        "# Number of features to consider at every split\n",
        "max_features = ['auto', 'sqrt']\n",
        "# Maximum number of levels in tree\n",
        "max_depth = [int(x) for x in np.linspace(10, 110, num = 11)]\n",
        "max_depth.append(None)\n",
        "# Minimum number of samples required to split a node\n",
        "min_samples_split = [2, 5, 10]\n",
        "# Minimum number of samples required at each leaf node\n",
        "min_samples_leaf = [1, 2, 4, 8]\n",
        "# Method of selecting samples for training each tree\n",
        "bootstrap = [True, False]\n",
        "# Create the random grid\n",
        "random_grid = {'n_estimators': n_estimators,\n",
        "               'max_features': max_features,\n",
        "               'max_depth': max_depth,\n",
        "               'min_samples_split': min_samples_split,\n",
        "               'min_samples_leaf': min_samples_leaf,\n",
        "               'bootstrap': bootstrap}"
      ],
      "execution_count": 0,
      "outputs": []
    },
    {
      "cell_type": "code",
      "metadata": {
        "id": "dIW7Oc-ylFDv",
        "colab_type": "code",
        "colab": {}
      },
      "source": [
        "X_train = data_tf.loc[:,data_tf.columns!='target']\n",
        "y_train = data_tf['target']\n",
        "rf = RandomForestClassifier(random_state = 42)"
      ],
      "execution_count": 0,
      "outputs": []
    },
    {
      "cell_type": "code",
      "metadata": {
        "id": "U6TQ8Qy3lKMb",
        "colab_type": "code",
        "colab": {}
      },
      "source": [
        "rsearch = RandomizedSearchCV(rf, random_grid, cv = 5,scoring = \"f1_macro\",n_iter=400)\n",
        "rsearch.fit(X_train, y_train)\n",
        "rsearch.best_params_"
      ],
      "execution_count": 0,
      "outputs": []
    },
    {
      "cell_type": "markdown",
      "metadata": {
        "id": "hvJkES1HjWEe",
        "colab_type": "text"
      },
      "source": [
        "Capture non-linearities using polynomial features"
      ]
    },
    {
      "cell_type": "code",
      "metadata": {
        "id": "OmJwN-RtjSfn",
        "colab_type": "code",
        "outputId": "479d5963-161e-4cd4-f67e-6448ab28fa67",
        "colab": {
          "base_uri": "https://localhost:8080/",
          "height": 370
        }
      },
      "source": [
        "from sklearn.preprocessing import PolynomialFeatures\n",
        "pol = PolynomialFeatures(2)\n",
        "df = data_tf.loc[:,data_tf.columns != 'target']\n",
        "dfpol = pol.fit_transform(df)\n",
        "dfpol = pd.DataFrame(dfpol)\n",
        "dfpol.columns = pol.get_feature_names(input_features=df.columns)\n",
        "y = data_tf['target']\n",
        "X_train,X_test,y_train,y_test = train_test_split(dfpol,y,test_size=0.15,random_state = 1)\n",
        "rf = RandomForestClassifier(random_state = 42, n_estimators = 200)\n",
        "rf.fit(X_train,y_train)\n",
        "print(cross_val_score(logit, X_train, y_train, cv=10, scoring = \"f1_macro\"))\n",
        "predictions = rf.predict(X_test)\n",
        "print(classification_report(y_test,predictions))"
      ],
      "execution_count": 0,
      "outputs": [
        {
          "output_type": "error",
          "ename": "KeyboardInterrupt",
          "evalue": "ignored",
          "traceback": [
            "\u001b[0;31m---------------------------------------------------------------------------\u001b[0m",
            "\u001b[0;31mKeyboardInterrupt\u001b[0m                         Traceback (most recent call last)",
            "\u001b[0;32m<ipython-input-35-91ce9fb6cc9b>\u001b[0m in \u001b[0;36m<module>\u001b[0;34m()\u001b[0m\n\u001b[1;32m      8\u001b[0m \u001b[0mX_train\u001b[0m\u001b[0;34m,\u001b[0m\u001b[0mX_test\u001b[0m\u001b[0;34m,\u001b[0m\u001b[0my_train\u001b[0m\u001b[0;34m,\u001b[0m\u001b[0my_test\u001b[0m \u001b[0;34m=\u001b[0m \u001b[0mtrain_test_split\u001b[0m\u001b[0;34m(\u001b[0m\u001b[0mdfpol\u001b[0m\u001b[0;34m,\u001b[0m\u001b[0my\u001b[0m\u001b[0;34m,\u001b[0m\u001b[0mtest_size\u001b[0m\u001b[0;34m=\u001b[0m\u001b[0;36m0.15\u001b[0m\u001b[0;34m,\u001b[0m\u001b[0mrandom_state\u001b[0m \u001b[0;34m=\u001b[0m \u001b[0;36m1\u001b[0m\u001b[0;34m)\u001b[0m\u001b[0;34m\u001b[0m\u001b[0;34m\u001b[0m\u001b[0m\n\u001b[1;32m      9\u001b[0m \u001b[0mrf\u001b[0m \u001b[0;34m=\u001b[0m \u001b[0mRandomForestClassifier\u001b[0m\u001b[0;34m(\u001b[0m\u001b[0mrandom_state\u001b[0m \u001b[0;34m=\u001b[0m \u001b[0;36m42\u001b[0m\u001b[0;34m,\u001b[0m \u001b[0mn_estimators\u001b[0m \u001b[0;34m=\u001b[0m \u001b[0;36m200\u001b[0m\u001b[0;34m)\u001b[0m\u001b[0;34m\u001b[0m\u001b[0;34m\u001b[0m\u001b[0m\n\u001b[0;32m---> 10\u001b[0;31m \u001b[0mrf\u001b[0m\u001b[0;34m.\u001b[0m\u001b[0mfit\u001b[0m\u001b[0;34m(\u001b[0m\u001b[0mX_train\u001b[0m\u001b[0;34m,\u001b[0m\u001b[0my_train\u001b[0m\u001b[0;34m)\u001b[0m\u001b[0;34m\u001b[0m\u001b[0;34m\u001b[0m\u001b[0m\n\u001b[0m\u001b[1;32m     11\u001b[0m \u001b[0mprint\u001b[0m\u001b[0;34m(\u001b[0m\u001b[0mcross_val_score\u001b[0m\u001b[0;34m(\u001b[0m\u001b[0mlogit\u001b[0m\u001b[0;34m,\u001b[0m \u001b[0mX_train\u001b[0m\u001b[0;34m,\u001b[0m \u001b[0my_train\u001b[0m\u001b[0;34m,\u001b[0m \u001b[0mcv\u001b[0m\u001b[0;34m=\u001b[0m\u001b[0;36m10\u001b[0m\u001b[0;34m,\u001b[0m \u001b[0mscoring\u001b[0m \u001b[0;34m=\u001b[0m \u001b[0;34m\"f1_macro\"\u001b[0m\u001b[0;34m)\u001b[0m\u001b[0;34m)\u001b[0m\u001b[0;34m\u001b[0m\u001b[0;34m\u001b[0m\u001b[0m\n\u001b[1;32m     12\u001b[0m \u001b[0mpredictions\u001b[0m \u001b[0;34m=\u001b[0m \u001b[0mrf\u001b[0m\u001b[0;34m.\u001b[0m\u001b[0mpredict\u001b[0m\u001b[0;34m(\u001b[0m\u001b[0mX_test\u001b[0m\u001b[0;34m)\u001b[0m\u001b[0;34m\u001b[0m\u001b[0;34m\u001b[0m\u001b[0m\n",
            "\u001b[0;32m/usr/local/lib/python3.6/dist-packages/sklearn/ensemble/_forest.py\u001b[0m in \u001b[0;36mfit\u001b[0;34m(self, X, y, sample_weight)\u001b[0m\n\u001b[1;32m    381\u001b[0m                     \u001b[0mverbose\u001b[0m\u001b[0;34m=\u001b[0m\u001b[0mself\u001b[0m\u001b[0;34m.\u001b[0m\u001b[0mverbose\u001b[0m\u001b[0;34m,\u001b[0m \u001b[0mclass_weight\u001b[0m\u001b[0;34m=\u001b[0m\u001b[0mself\u001b[0m\u001b[0;34m.\u001b[0m\u001b[0mclass_weight\u001b[0m\u001b[0;34m,\u001b[0m\u001b[0;34m\u001b[0m\u001b[0;34m\u001b[0m\u001b[0m\n\u001b[1;32m    382\u001b[0m                     n_samples_bootstrap=n_samples_bootstrap)\n\u001b[0;32m--> 383\u001b[0;31m                 for i, t in enumerate(trees))\n\u001b[0m\u001b[1;32m    384\u001b[0m \u001b[0;34m\u001b[0m\u001b[0m\n\u001b[1;32m    385\u001b[0m             \u001b[0;31m# Collect newly grown trees\u001b[0m\u001b[0;34m\u001b[0m\u001b[0;34m\u001b[0m\u001b[0;34m\u001b[0m\u001b[0m\n",
            "\u001b[0;32m/usr/local/lib/python3.6/dist-packages/joblib/parallel.py\u001b[0m in \u001b[0;36m__call__\u001b[0;34m(self, iterable)\u001b[0m\n\u001b[1;32m   1005\u001b[0m                 \u001b[0mself\u001b[0m\u001b[0;34m.\u001b[0m\u001b[0m_iterating\u001b[0m \u001b[0;34m=\u001b[0m \u001b[0mself\u001b[0m\u001b[0;34m.\u001b[0m\u001b[0m_original_iterator\u001b[0m \u001b[0;32mis\u001b[0m \u001b[0;32mnot\u001b[0m \u001b[0;32mNone\u001b[0m\u001b[0;34m\u001b[0m\u001b[0;34m\u001b[0m\u001b[0m\n\u001b[1;32m   1006\u001b[0m \u001b[0;34m\u001b[0m\u001b[0m\n\u001b[0;32m-> 1007\u001b[0;31m             \u001b[0;32mwhile\u001b[0m \u001b[0mself\u001b[0m\u001b[0;34m.\u001b[0m\u001b[0mdispatch_one_batch\u001b[0m\u001b[0;34m(\u001b[0m\u001b[0miterator\u001b[0m\u001b[0;34m)\u001b[0m\u001b[0;34m:\u001b[0m\u001b[0;34m\u001b[0m\u001b[0;34m\u001b[0m\u001b[0m\n\u001b[0m\u001b[1;32m   1008\u001b[0m                 \u001b[0;32mpass\u001b[0m\u001b[0;34m\u001b[0m\u001b[0;34m\u001b[0m\u001b[0m\n\u001b[1;32m   1009\u001b[0m \u001b[0;34m\u001b[0m\u001b[0m\n",
            "\u001b[0;32m/usr/local/lib/python3.6/dist-packages/joblib/parallel.py\u001b[0m in \u001b[0;36mdispatch_one_batch\u001b[0;34m(self, iterator)\u001b[0m\n\u001b[1;32m    833\u001b[0m                 \u001b[0;32mreturn\u001b[0m \u001b[0;32mFalse\u001b[0m\u001b[0;34m\u001b[0m\u001b[0;34m\u001b[0m\u001b[0m\n\u001b[1;32m    834\u001b[0m             \u001b[0;32melse\u001b[0m\u001b[0;34m:\u001b[0m\u001b[0;34m\u001b[0m\u001b[0;34m\u001b[0m\u001b[0m\n\u001b[0;32m--> 835\u001b[0;31m                 \u001b[0mself\u001b[0m\u001b[0;34m.\u001b[0m\u001b[0m_dispatch\u001b[0m\u001b[0;34m(\u001b[0m\u001b[0mtasks\u001b[0m\u001b[0;34m)\u001b[0m\u001b[0;34m\u001b[0m\u001b[0;34m\u001b[0m\u001b[0m\n\u001b[0m\u001b[1;32m    836\u001b[0m                 \u001b[0;32mreturn\u001b[0m \u001b[0;32mTrue\u001b[0m\u001b[0;34m\u001b[0m\u001b[0;34m\u001b[0m\u001b[0m\n\u001b[1;32m    837\u001b[0m \u001b[0;34m\u001b[0m\u001b[0m\n",
            "\u001b[0;32m/usr/local/lib/python3.6/dist-packages/joblib/parallel.py\u001b[0m in \u001b[0;36m_dispatch\u001b[0;34m(self, batch)\u001b[0m\n\u001b[1;32m    752\u001b[0m         \u001b[0;32mwith\u001b[0m \u001b[0mself\u001b[0m\u001b[0;34m.\u001b[0m\u001b[0m_lock\u001b[0m\u001b[0;34m:\u001b[0m\u001b[0;34m\u001b[0m\u001b[0;34m\u001b[0m\u001b[0m\n\u001b[1;32m    753\u001b[0m             \u001b[0mjob_idx\u001b[0m \u001b[0;34m=\u001b[0m \u001b[0mlen\u001b[0m\u001b[0;34m(\u001b[0m\u001b[0mself\u001b[0m\u001b[0;34m.\u001b[0m\u001b[0m_jobs\u001b[0m\u001b[0;34m)\u001b[0m\u001b[0;34m\u001b[0m\u001b[0;34m\u001b[0m\u001b[0m\n\u001b[0;32m--> 754\u001b[0;31m             \u001b[0mjob\u001b[0m \u001b[0;34m=\u001b[0m \u001b[0mself\u001b[0m\u001b[0;34m.\u001b[0m\u001b[0m_backend\u001b[0m\u001b[0;34m.\u001b[0m\u001b[0mapply_async\u001b[0m\u001b[0;34m(\u001b[0m\u001b[0mbatch\u001b[0m\u001b[0;34m,\u001b[0m \u001b[0mcallback\u001b[0m\u001b[0;34m=\u001b[0m\u001b[0mcb\u001b[0m\u001b[0;34m)\u001b[0m\u001b[0;34m\u001b[0m\u001b[0;34m\u001b[0m\u001b[0m\n\u001b[0m\u001b[1;32m    755\u001b[0m             \u001b[0;31m# A job can complete so quickly than its callback is\u001b[0m\u001b[0;34m\u001b[0m\u001b[0;34m\u001b[0m\u001b[0;34m\u001b[0m\u001b[0m\n\u001b[1;32m    756\u001b[0m             \u001b[0;31m# called before we get here, causing self._jobs to\u001b[0m\u001b[0;34m\u001b[0m\u001b[0;34m\u001b[0m\u001b[0;34m\u001b[0m\u001b[0m\n",
            "\u001b[0;32m/usr/local/lib/python3.6/dist-packages/joblib/_parallel_backends.py\u001b[0m in \u001b[0;36mapply_async\u001b[0;34m(self, func, callback)\u001b[0m\n\u001b[1;32m    207\u001b[0m     \u001b[0;32mdef\u001b[0m \u001b[0mapply_async\u001b[0m\u001b[0;34m(\u001b[0m\u001b[0mself\u001b[0m\u001b[0;34m,\u001b[0m \u001b[0mfunc\u001b[0m\u001b[0;34m,\u001b[0m \u001b[0mcallback\u001b[0m\u001b[0;34m=\u001b[0m\u001b[0;32mNone\u001b[0m\u001b[0;34m)\u001b[0m\u001b[0;34m:\u001b[0m\u001b[0;34m\u001b[0m\u001b[0;34m\u001b[0m\u001b[0m\n\u001b[1;32m    208\u001b[0m         \u001b[0;34m\"\"\"Schedule a func to be run\"\"\"\u001b[0m\u001b[0;34m\u001b[0m\u001b[0;34m\u001b[0m\u001b[0m\n\u001b[0;32m--> 209\u001b[0;31m         \u001b[0mresult\u001b[0m \u001b[0;34m=\u001b[0m \u001b[0mImmediateResult\u001b[0m\u001b[0;34m(\u001b[0m\u001b[0mfunc\u001b[0m\u001b[0;34m)\u001b[0m\u001b[0;34m\u001b[0m\u001b[0;34m\u001b[0m\u001b[0m\n\u001b[0m\u001b[1;32m    210\u001b[0m         \u001b[0;32mif\u001b[0m \u001b[0mcallback\u001b[0m\u001b[0;34m:\u001b[0m\u001b[0;34m\u001b[0m\u001b[0;34m\u001b[0m\u001b[0m\n\u001b[1;32m    211\u001b[0m             \u001b[0mcallback\u001b[0m\u001b[0;34m(\u001b[0m\u001b[0mresult\u001b[0m\u001b[0;34m)\u001b[0m\u001b[0;34m\u001b[0m\u001b[0;34m\u001b[0m\u001b[0m\n",
            "\u001b[0;32m/usr/local/lib/python3.6/dist-packages/joblib/_parallel_backends.py\u001b[0m in \u001b[0;36m__init__\u001b[0;34m(self, batch)\u001b[0m\n\u001b[1;32m    588\u001b[0m         \u001b[0;31m# Don't delay the application, to avoid keeping the input\u001b[0m\u001b[0;34m\u001b[0m\u001b[0;34m\u001b[0m\u001b[0;34m\u001b[0m\u001b[0m\n\u001b[1;32m    589\u001b[0m         \u001b[0;31m# arguments in memory\u001b[0m\u001b[0;34m\u001b[0m\u001b[0;34m\u001b[0m\u001b[0;34m\u001b[0m\u001b[0m\n\u001b[0;32m--> 590\u001b[0;31m         \u001b[0mself\u001b[0m\u001b[0;34m.\u001b[0m\u001b[0mresults\u001b[0m \u001b[0;34m=\u001b[0m \u001b[0mbatch\u001b[0m\u001b[0;34m(\u001b[0m\u001b[0;34m)\u001b[0m\u001b[0;34m\u001b[0m\u001b[0;34m\u001b[0m\u001b[0m\n\u001b[0m\u001b[1;32m    591\u001b[0m \u001b[0;34m\u001b[0m\u001b[0m\n\u001b[1;32m    592\u001b[0m     \u001b[0;32mdef\u001b[0m \u001b[0mget\u001b[0m\u001b[0;34m(\u001b[0m\u001b[0mself\u001b[0m\u001b[0;34m)\u001b[0m\u001b[0;34m:\u001b[0m\u001b[0;34m\u001b[0m\u001b[0;34m\u001b[0m\u001b[0m\n",
            "\u001b[0;32m/usr/local/lib/python3.6/dist-packages/joblib/parallel.py\u001b[0m in \u001b[0;36m__call__\u001b[0;34m(self)\u001b[0m\n\u001b[1;32m    254\u001b[0m         \u001b[0;32mwith\u001b[0m \u001b[0mparallel_backend\u001b[0m\u001b[0;34m(\u001b[0m\u001b[0mself\u001b[0m\u001b[0;34m.\u001b[0m\u001b[0m_backend\u001b[0m\u001b[0;34m,\u001b[0m \u001b[0mn_jobs\u001b[0m\u001b[0;34m=\u001b[0m\u001b[0mself\u001b[0m\u001b[0;34m.\u001b[0m\u001b[0m_n_jobs\u001b[0m\u001b[0;34m)\u001b[0m\u001b[0;34m:\u001b[0m\u001b[0;34m\u001b[0m\u001b[0;34m\u001b[0m\u001b[0m\n\u001b[1;32m    255\u001b[0m             return [func(*args, **kwargs)\n\u001b[0;32m--> 256\u001b[0;31m                     for func, args, kwargs in self.items]\n\u001b[0m\u001b[1;32m    257\u001b[0m \u001b[0;34m\u001b[0m\u001b[0m\n\u001b[1;32m    258\u001b[0m     \u001b[0;32mdef\u001b[0m \u001b[0m__len__\u001b[0m\u001b[0;34m(\u001b[0m\u001b[0mself\u001b[0m\u001b[0;34m)\u001b[0m\u001b[0;34m:\u001b[0m\u001b[0;34m\u001b[0m\u001b[0;34m\u001b[0m\u001b[0m\n",
            "\u001b[0;32m/usr/local/lib/python3.6/dist-packages/joblib/parallel.py\u001b[0m in \u001b[0;36m<listcomp>\u001b[0;34m(.0)\u001b[0m\n\u001b[1;32m    254\u001b[0m         \u001b[0;32mwith\u001b[0m \u001b[0mparallel_backend\u001b[0m\u001b[0;34m(\u001b[0m\u001b[0mself\u001b[0m\u001b[0;34m.\u001b[0m\u001b[0m_backend\u001b[0m\u001b[0;34m,\u001b[0m \u001b[0mn_jobs\u001b[0m\u001b[0;34m=\u001b[0m\u001b[0mself\u001b[0m\u001b[0;34m.\u001b[0m\u001b[0m_n_jobs\u001b[0m\u001b[0;34m)\u001b[0m\u001b[0;34m:\u001b[0m\u001b[0;34m\u001b[0m\u001b[0;34m\u001b[0m\u001b[0m\n\u001b[1;32m    255\u001b[0m             return [func(*args, **kwargs)\n\u001b[0;32m--> 256\u001b[0;31m                     for func, args, kwargs in self.items]\n\u001b[0m\u001b[1;32m    257\u001b[0m \u001b[0;34m\u001b[0m\u001b[0m\n\u001b[1;32m    258\u001b[0m     \u001b[0;32mdef\u001b[0m \u001b[0m__len__\u001b[0m\u001b[0;34m(\u001b[0m\u001b[0mself\u001b[0m\u001b[0;34m)\u001b[0m\u001b[0;34m:\u001b[0m\u001b[0;34m\u001b[0m\u001b[0;34m\u001b[0m\u001b[0m\n",
            "\u001b[0;32m/usr/local/lib/python3.6/dist-packages/sklearn/ensemble/_forest.py\u001b[0m in \u001b[0;36m_parallel_build_trees\u001b[0;34m(tree, forest, X, y, sample_weight, tree_idx, n_trees, verbose, class_weight, n_samples_bootstrap)\u001b[0m\n\u001b[1;32m    163\u001b[0m             \u001b[0mcurr_sample_weight\u001b[0m \u001b[0;34m*=\u001b[0m \u001b[0mcompute_sample_weight\u001b[0m\u001b[0;34m(\u001b[0m\u001b[0;34m'balanced'\u001b[0m\u001b[0;34m,\u001b[0m \u001b[0my\u001b[0m\u001b[0;34m,\u001b[0m \u001b[0mindices\u001b[0m\u001b[0;34m)\u001b[0m\u001b[0;34m\u001b[0m\u001b[0;34m\u001b[0m\u001b[0m\n\u001b[1;32m    164\u001b[0m \u001b[0;34m\u001b[0m\u001b[0m\n\u001b[0;32m--> 165\u001b[0;31m         \u001b[0mtree\u001b[0m\u001b[0;34m.\u001b[0m\u001b[0mfit\u001b[0m\u001b[0;34m(\u001b[0m\u001b[0mX\u001b[0m\u001b[0;34m,\u001b[0m \u001b[0my\u001b[0m\u001b[0;34m,\u001b[0m \u001b[0msample_weight\u001b[0m\u001b[0;34m=\u001b[0m\u001b[0mcurr_sample_weight\u001b[0m\u001b[0;34m,\u001b[0m \u001b[0mcheck_input\u001b[0m\u001b[0;34m=\u001b[0m\u001b[0;32mFalse\u001b[0m\u001b[0;34m)\u001b[0m\u001b[0;34m\u001b[0m\u001b[0;34m\u001b[0m\u001b[0m\n\u001b[0m\u001b[1;32m    166\u001b[0m     \u001b[0;32melse\u001b[0m\u001b[0;34m:\u001b[0m\u001b[0;34m\u001b[0m\u001b[0;34m\u001b[0m\u001b[0m\n\u001b[1;32m    167\u001b[0m         \u001b[0mtree\u001b[0m\u001b[0;34m.\u001b[0m\u001b[0mfit\u001b[0m\u001b[0;34m(\u001b[0m\u001b[0mX\u001b[0m\u001b[0;34m,\u001b[0m \u001b[0my\u001b[0m\u001b[0;34m,\u001b[0m \u001b[0msample_weight\u001b[0m\u001b[0;34m=\u001b[0m\u001b[0msample_weight\u001b[0m\u001b[0;34m,\u001b[0m \u001b[0mcheck_input\u001b[0m\u001b[0;34m=\u001b[0m\u001b[0;32mFalse\u001b[0m\u001b[0;34m)\u001b[0m\u001b[0;34m\u001b[0m\u001b[0;34m\u001b[0m\u001b[0m\n",
            "\u001b[0;32m/usr/local/lib/python3.6/dist-packages/sklearn/tree/_classes.py\u001b[0m in \u001b[0;36mfit\u001b[0;34m(self, X, y, sample_weight, check_input, X_idx_sorted)\u001b[0m\n\u001b[1;32m    875\u001b[0m             \u001b[0msample_weight\u001b[0m\u001b[0;34m=\u001b[0m\u001b[0msample_weight\u001b[0m\u001b[0;34m,\u001b[0m\u001b[0;34m\u001b[0m\u001b[0;34m\u001b[0m\u001b[0m\n\u001b[1;32m    876\u001b[0m             \u001b[0mcheck_input\u001b[0m\u001b[0;34m=\u001b[0m\u001b[0mcheck_input\u001b[0m\u001b[0;34m,\u001b[0m\u001b[0;34m\u001b[0m\u001b[0;34m\u001b[0m\u001b[0m\n\u001b[0;32m--> 877\u001b[0;31m             X_idx_sorted=X_idx_sorted)\n\u001b[0m\u001b[1;32m    878\u001b[0m         \u001b[0;32mreturn\u001b[0m \u001b[0mself\u001b[0m\u001b[0;34m\u001b[0m\u001b[0;34m\u001b[0m\u001b[0m\n\u001b[1;32m    879\u001b[0m \u001b[0;34m\u001b[0m\u001b[0m\n",
            "\u001b[0;32m/usr/local/lib/python3.6/dist-packages/sklearn/tree/_classes.py\u001b[0m in \u001b[0;36mfit\u001b[0;34m(self, X, y, sample_weight, check_input, X_idx_sorted)\u001b[0m\n\u001b[1;32m    365\u001b[0m                                            min_impurity_split)\n\u001b[1;32m    366\u001b[0m \u001b[0;34m\u001b[0m\u001b[0m\n\u001b[0;32m--> 367\u001b[0;31m         \u001b[0mbuilder\u001b[0m\u001b[0;34m.\u001b[0m\u001b[0mbuild\u001b[0m\u001b[0;34m(\u001b[0m\u001b[0mself\u001b[0m\u001b[0;34m.\u001b[0m\u001b[0mtree_\u001b[0m\u001b[0;34m,\u001b[0m \u001b[0mX\u001b[0m\u001b[0;34m,\u001b[0m \u001b[0my\u001b[0m\u001b[0;34m,\u001b[0m \u001b[0msample_weight\u001b[0m\u001b[0;34m,\u001b[0m \u001b[0mX_idx_sorted\u001b[0m\u001b[0;34m)\u001b[0m\u001b[0;34m\u001b[0m\u001b[0;34m\u001b[0m\u001b[0m\n\u001b[0m\u001b[1;32m    368\u001b[0m \u001b[0;34m\u001b[0m\u001b[0m\n\u001b[1;32m    369\u001b[0m         \u001b[0;32mif\u001b[0m \u001b[0mself\u001b[0m\u001b[0;34m.\u001b[0m\u001b[0mn_outputs_\u001b[0m \u001b[0;34m==\u001b[0m \u001b[0;36m1\u001b[0m \u001b[0;32mand\u001b[0m \u001b[0mis_classifier\u001b[0m\u001b[0;34m(\u001b[0m\u001b[0mself\u001b[0m\u001b[0;34m)\u001b[0m\u001b[0;34m:\u001b[0m\u001b[0;34m\u001b[0m\u001b[0;34m\u001b[0m\u001b[0m\n",
            "\u001b[0;31mKeyboardInterrupt\u001b[0m: "
          ]
        }
      ]
    },
    {
      "cell_type": "markdown",
      "metadata": {
        "id": "p32W3dFNmDYX",
        "colab_type": "text"
      },
      "source": [
        "Naive Baye's "
      ]
    },
    {
      "cell_type": "code",
      "metadata": {
        "id": "78zcVz2fmL6N",
        "colab_type": "code",
        "outputId": "7a90b479-0479-4791-f159-889ee72a68f1",
        "colab": {
          "base_uri": "https://localhost:8080/",
          "height": 168
        }
      },
      "source": [
        "#Import Gaussian Naive Bayes model\n",
        "from sklearn.naive_bayes import GaussianNB\n",
        "#Create a Gaussian Classifier\n",
        "gmodel = GaussianNB()\n",
        "X_train,X_test,y_train,y_test = train_test_split(data_tf.loc[:,data_tf.columns!='target'],data_tf['target'],test_size=0.15,random_state = 1)\n",
        "# Train the model using the training sets\n",
        "gmodel.fit(X_train,y_train)\n",
        "#Predict Output\n",
        "predictions = gmodel.predict(X_test)\n",
        "print(classification_report(y_test,predictions))"
      ],
      "execution_count": 0,
      "outputs": [
        {
          "output_type": "stream",
          "text": [
            "              precision    recall  f1-score   support\n",
            "\n",
            "       False       0.95      0.91      0.93    102933\n",
            "        True       0.12      0.20      0.15      6104\n",
            "\n",
            "    accuracy                           0.87    109037\n",
            "   macro avg       0.54      0.56      0.54    109037\n",
            "weighted avg       0.90      0.87      0.89    109037\n",
            "\n"
          ],
          "name": "stdout"
        }
      ]
    },
    {
      "cell_type": "markdown",
      "metadata": {
        "id": "pGRagHpIm1Ib",
        "colab_type": "text"
      },
      "source": [
        "Genetic Algorithm to predict features"
      ]
    },
    {
      "cell_type": "code",
      "metadata": {
        "id": "WL_hg-05m56i",
        "colab_type": "code",
        "colab": {}
      },
      "source": [
        "est_gp = SymbolicRegressor(population_size=5000,\n",
        "                           generations=20, stopping_criteria=0.01,\n",
        "                           p_crossover=0.7, p_subtree_mutation=0.1,\n",
        "                           p_hoist_mutation=0.05, p_point_mutation=0.1,\n",
        "                           max_samples=0.9, verbose=0,\n",
        "                           parsimony_coefficient=0.01, random_state=0, feature_names = X_train.columns)\n",
        "est_gp.fit(X_train, y_train)\n",
        "print(est_gp._program)\n",
        "## No useful features found"
      ],
      "execution_count": 0,
      "outputs": []
    },
    {
      "cell_type": "markdown",
      "metadata": {
        "id": "rd9SIUwZnLz_",
        "colab_type": "text"
      },
      "source": [
        "Comparing ROC curves for the best 2 performers"
      ]
    },
    {
      "cell_type": "code",
      "metadata": {
        "id": "rkwAiO59meKn",
        "colab_type": "code",
        "outputId": "9ac3b95b-9eae-49ea-9c5d-e462d7060f57",
        "colab": {
          "base_uri": "https://localhost:8080/",
          "height": 330
        }
      },
      "source": [
        "ns_probs = [0 for _ in range(len(y_test))]\n",
        "# predict probabilities\n",
        "lr_probs = rf1.predict_proba(X_test)\n",
        "lr_probs1 = gmodel.predict_proba(X_test)\n",
        "# keep probabilities for the positive outcome only\n",
        "lr_probs = lr_probs[:, 1]\n",
        "lr_probs1 = lr_probs1[:, 1]\n",
        "# calculate scores\n",
        "ns_auc = roc_auc_score(y_test, ns_probs)\n",
        "lr_auc = roc_auc_score(y_test, lr_probs)\n",
        "lr_auc1 = roc_auc_score(y_test, lr_probs1)\n",
        "\n",
        "# summarize scores\n",
        "print('No Skill: ROC AUC=%.3f' % (ns_auc))\n",
        "print('RF: ROC AUC=%.3f' % (lr_auc))\n",
        "print('NB: ROC AUC=%.3f' % (lr_auc1))\n",
        "# calculate roc curves\n",
        "ns_fpr, ns_tpr, ns_thr = roc_curve(y_test, ns_probs)\n",
        "lr_fpr, lr_tpr, lr_thr = roc_curve(y_test, lr_probs)\n",
        "lr_fpr1, lr_tpr1, lr1_thr = roc_curve(y_test, lr_probs1)\n",
        "# plot the roc curve for the model\n",
        "plt.plot(ns_fpr, ns_tpr, linestyle='--', label='No Skill')\n",
        "plt.plot(lr_fpr, lr_tpr, marker='.', label='RandomForest')\n",
        "plt.plot(lr_fpr1, lr_tpr1, marker='.', label='NaiveBayes')\n",
        "# axis labels\n",
        "plt.xlabel('False Positive Rate')\n",
        "plt.ylabel('True Positive Rate')\n",
        "# show the legend\n",
        "plt.legend()\n",
        "# show the plot\n",
        "plt.show()"
      ],
      "execution_count": 0,
      "outputs": [
        {
          "output_type": "stream",
          "text": [
            "No Skill: ROC AUC=0.500\n",
            "RF: ROC AUC=0.928\n",
            "NB: ROC AUC=0.662\n"
          ],
          "name": "stdout"
        },
        {
          "output_type": "display_data",
          "data": {
            "image/png": "[encoded data removed]",
            "text/plain": [
              "<Figure size 432x288 with 1 Axes>"
            ]
          },
          "metadata": {
            "tags": []
          }
        }
      ]
    },
    {
      "cell_type": "code",
      "metadata": {
        "id": "aEEdq1xIn-6s",
        "colab_type": "code",
        "outputId": "edd595c4-2db3-4dfc-c230-e2a5a893d81c",
        "colab": {
          "base_uri": "https://localhost:8080/",
          "height": 34
        }
      },
      "source": [
        "lr_thr[320]"
      ],
      "execution_count": 0,
      "outputs": [
        {
          "output_type": "execute_result",
          "data": {
            "text/plain": [
              "0.1075"
            ]
          },
          "metadata": {
            "tags": []
          },
          "execution_count": 104
        }
      ]
    },
    {
      "cell_type": "code",
      "metadata": {
        "id": "MrlIcBrlvfTk",
        "colab_type": "code",
        "outputId": "3270aa6e-462a-4ce9-dc76-0bcf682d8a09",
        "colab": {
          "base_uri": "https://localhost:8080/",
          "height": 34
        }
      },
      "source": [
        "lr_tpr[320]"
      ],
      "execution_count": 0,
      "outputs": [
        {
          "output_type": "execute_result",
          "data": {
            "text/plain": [
              "0.8012778505897772"
            ]
          },
          "metadata": {
            "tags": []
          },
          "execution_count": 103
        }
      ]
    },
    {
      "cell_type": "code",
      "metadata": {
        "id": "JjUoBnNWtL_K",
        "colab_type": "code",
        "outputId": "b1a5cef8-224b-42a2-fd17-8d8f5e9298fd",
        "colab": {
          "base_uri": "https://localhost:8080/",
          "height": 34
        }
      },
      "source": [
        "lr_tpr.sum()-(lr_tpr>0.8).sum()"
      ],
      "execution_count": 0,
      "outputs": [
        {
          "output_type": "execute_result",
          "data": {
            "text/plain": [
              "109.02555701179554"
            ]
          },
          "metadata": {
            "tags": []
          },
          "execution_count": 95
        }
      ]
    },
    {
      "cell_type": "markdown",
      "metadata": {
        "id": "YZ5-UnfboD2I",
        "colab_type": "text"
      },
      "source": [
        "Making Predictions for 2019\n",
        "There are 2 cases to be tackled:\n",
        "\n",
        "1.   Where we know the data for 2018\n",
        "2.   Where we don't know the data for 2018\n",
        "\n",
        "Since, we are only concentrating on editorial group going from non 90 to 90, for the sake of predictions, we assume all the common rows with 90's in 2018 will output zero\n",
        "\n"
      ]
    },
    {
      "cell_type": "markdown",
      "metadata": {
        "id": "LbuMFq5YpE2f",
        "colab_type": "text"
      },
      "source": [
        "Case 2. In order to train for case 2 mentioned above, we drop the new variables from data_tf and try and predict for the next year, without using that year's data"
      ]
    },
    {
      "cell_type": "code",
      "metadata": {
        "id": "do47m8Nap7TV",
        "colab_type": "code",
        "outputId": "b378e37c-a082-423c-ebe0-9f2f2f8abf13",
        "colab": {
          "base_uri": "https://localhost:8080/",
          "height": 168
        }
      },
      "source": [
        "data2tf = data_tf.drop(['Variable1new','Variable2new','newcost','cluster'],axis = 1)\n",
        "kmeans1 = KMeans(n_clusters=5)\n",
        "kmeans.fit(data2tf.loc[:, data2tf.columns != 'target'])\n",
        "data2tf['cluster'] = kmeans.predict(data2tf.loc[:, data2tf.columns != 'target'])\n",
        "\n",
        "X_train,X_test,y_train,y_test = train_test_split(data2tf.loc[:,data2tf.columns!='target'],data2tf['target'],test_size=0.15,random_state = 1)\n",
        "rf2 = RandomForestClassifier(n_estimators = 200, random_state = 42)\n",
        "rf2.fit(X_train, y_train)\n",
        "predictions = rf2.predict(X_test)\n",
        "print(classification_report(y_test,predictions))"
      ],
      "execution_count": 0,
      "outputs": [
        {
          "output_type": "stream",
          "text": [
            "              precision    recall  f1-score   support\n",
            "\n",
            "       False       0.96      0.99      0.98    102933\n",
            "        True       0.77      0.30      0.43      6104\n",
            "\n",
            "    accuracy                           0.96    109037\n",
            "   macro avg       0.86      0.65      0.70    109037\n",
            "weighted avg       0.95      0.96      0.95    109037\n",
            "\n"
          ],
          "name": "stdout"
        }
      ]
    },
    {
      "cell_type": "code",
      "metadata": {
        "id": "wAmerQrY_4Kk",
        "colab_type": "code",
        "colab": {}
      },
      "source": [
        "bestnew = 0\n",
        "bestnewi = 0\n",
        "for i in np.linspace(0,0.5,51):\n",
        "  predictions = (rf2.predict_proba(X_test)[:,1] >= i).astype(bool)\n",
        "  if(f1_score(y_test,predictions,average='macro')>best):\n",
        "    bestnew = f1_score(y_test,predictions,average='macro')\n",
        "    bestnewi = i"
      ],
      "execution_count": 0,
      "outputs": []
    },
    {
      "cell_type": "code",
      "metadata": {
        "id": "w95fGyINIlz-",
        "colab_type": "code",
        "outputId": "bd62d559-c552-4c0b-ea14-05d93b75b0f2",
        "colab": {
          "base_uri": "https://localhost:8080/",
          "height": 34
        }
      },
      "source": [
        "print(bestnew,bestnewi)"
      ],
      "execution_count": 0,
      "outputs": [
        {
          "output_type": "stream",
          "text": [
            "0.7725124053913048 0.3\n"
          ],
          "name": "stdout"
        }
      ]
    },
    {
      "cell_type": "code",
      "metadata": {
        "id": "vqpg_DszJUQO",
        "colab_type": "code",
        "outputId": "afe3b553-1f3c-4089-a912-734100bac2f3",
        "colab": {
          "base_uri": "https://localhost:8080/",
          "height": 168
        }
      },
      "source": [
        "predictions = (rf2.predict_proba(X_test)[:,1] >= 0.30).astype(bool)\n",
        "print(classification_report(y_test,predictions))"
      ],
      "execution_count": 0,
      "outputs": [
        {
          "output_type": "stream",
          "text": [
            "              precision    recall  f1-score   support\n",
            "\n",
            "       False       0.97      0.98      0.98    102933\n",
            "        True       0.62      0.53      0.57      6104\n",
            "\n",
            "    accuracy                           0.96    109037\n",
            "   macro avg       0.80      0.75      0.77    109037\n",
            "weighted avg       0.95      0.96      0.95    109037\n",
            "\n"
          ],
          "name": "stdout"
        }
      ]
    },
    {
      "cell_type": "code",
      "metadata": {
        "id": "LiSh3TvOC3LA",
        "colab_type": "code",
        "outputId": "fae8f28a-ee36-4275-bfcc-387d4cf3e97f",
        "colab": {
          "base_uri": "https://localhost:8080/",
          "height": 455
        }
      },
      "source": [
        "data2tf"
      ],
      "execution_count": 0,
      "outputs": [
        {
          "output_type": "execute_result",
          "data": {
            "text/html": [
              "<div>\n",
              "<style scoped>\n",
              "    .dataframe tbody tr th:only-of-type {\n",
              "        vertical-align: middle;\n",
              "    }\n",
              "\n",
              "    .dataframe tbody tr th {\n",
              "        vertical-align: top;\n",
              "    }\n",
              "\n",
              "    .dataframe thead th {\n",
              "        text-align: right;\n",
              "    }\n",
              "</style>\n",
              "<table border=\"1\" class=\"dataframe\">\n",
              "  <thead>\n",
              "    <tr style=\"text-align: right;\">\n",
              "      <th></th>\n",
              "      <th>client_id</th>\n",
              "      <th>course</th>\n",
              "      <th>subject</th>\n",
              "      <th>type_of_material</th>\n",
              "      <th>editorial_groupold</th>\n",
              "      <th>language</th>\n",
              "      <th>media</th>\n",
              "      <th>Variable1old</th>\n",
              "      <th>Variable2old</th>\n",
              "      <th>target</th>\n",
              "      <th>oldcost</th>\n",
              "      <th>Latitude</th>\n",
              "      <th>Longitude</th>\n",
              "      <th>Comunidad Autónoma_Comunidad Valenciana</th>\n",
              "      <th>Comunidad Autónoma_Islas Canarias</th>\n",
              "      <th>Comunidad Autónoma_La Rioja</th>\n",
              "      <th>Comunidad Autónoma_Madrid</th>\n",
              "      <th>Comunidad Autónoma_Navarra</th>\n",
              "      <th>Comunidad Autónoma_País Vasco</th>\n",
              "      <th>Titularidad_Católico</th>\n",
              "      <th>Titularidad_Privado</th>\n",
              "      <th>Titularidad_Público</th>\n",
              "      <th>cluster</th>\n",
              "    </tr>\n",
              "  </thead>\n",
              "  <tbody>\n",
              "    <tr>\n",
              "      <th>0</th>\n",
              "      <td>113958</td>\n",
              "      <td>2</td>\n",
              "      <td>65</td>\n",
              "      <td>3</td>\n",
              "      <td>31</td>\n",
              "      <td>26</td>\n",
              "      <td>1</td>\n",
              "      <td>16.0</td>\n",
              "      <td>70.72</td>\n",
              "      <td>False</td>\n",
              "      <td>4.42</td>\n",
              "      <td>42.853774</td>\n",
              "      <td>-2.391622</td>\n",
              "      <td>0</td>\n",
              "      <td>0</td>\n",
              "      <td>0</td>\n",
              "      <td>0</td>\n",
              "      <td>0</td>\n",
              "      <td>1</td>\n",
              "      <td>0</td>\n",
              "      <td>1</td>\n",
              "      <td>0</td>\n",
              "      <td>3</td>\n",
              "    </tr>\n",
              "    <tr>\n",
              "      <th>1</th>\n",
              "      <td>113958</td>\n",
              "      <td>2</td>\n",
              "      <td>65</td>\n",
              "      <td>3</td>\n",
              "      <td>31</td>\n",
              "      <td>26</td>\n",
              "      <td>1</td>\n",
              "      <td>18.0</td>\n",
              "      <td>79.56</td>\n",
              "      <td>False</td>\n",
              "      <td>4.42</td>\n",
              "      <td>42.853774</td>\n",
              "      <td>-2.391622</td>\n",
              "      <td>0</td>\n",
              "      <td>0</td>\n",
              "      <td>0</td>\n",
              "      <td>0</td>\n",
              "      <td>0</td>\n",
              "      <td>1</td>\n",
              "      <td>0</td>\n",
              "      <td>1</td>\n",
              "      <td>0</td>\n",
              "      <td>3</td>\n",
              "    </tr>\n",
              "    <tr>\n",
              "      <th>2</th>\n",
              "      <td>113958</td>\n",
              "      <td>2</td>\n",
              "      <td>65</td>\n",
              "      <td>3</td>\n",
              "      <td>31</td>\n",
              "      <td>26</td>\n",
              "      <td>1</td>\n",
              "      <td>22.0</td>\n",
              "      <td>97.24</td>\n",
              "      <td>False</td>\n",
              "      <td>4.42</td>\n",
              "      <td>42.853774</td>\n",
              "      <td>-2.391622</td>\n",
              "      <td>0</td>\n",
              "      <td>0</td>\n",
              "      <td>0</td>\n",
              "      <td>0</td>\n",
              "      <td>0</td>\n",
              "      <td>1</td>\n",
              "      <td>0</td>\n",
              "      <td>1</td>\n",
              "      <td>0</td>\n",
              "      <td>3</td>\n",
              "    </tr>\n",
              "    <tr>\n",
              "      <th>3</th>\n",
              "      <td>113958</td>\n",
              "      <td>2</td>\n",
              "      <td>65</td>\n",
              "      <td>3</td>\n",
              "      <td>31</td>\n",
              "      <td>26</td>\n",
              "      <td>1</td>\n",
              "      <td>18.0</td>\n",
              "      <td>79.56</td>\n",
              "      <td>False</td>\n",
              "      <td>4.42</td>\n",
              "      <td>42.853774</td>\n",
              "      <td>-2.391622</td>\n",
              "      <td>0</td>\n",
              "      <td>0</td>\n",
              "      <td>0</td>\n",
              "      <td>0</td>\n",
              "      <td>0</td>\n",
              "      <td>1</td>\n",
              "      <td>0</td>\n",
              "      <td>1</td>\n",
              "      <td>0</td>\n",
              "      <td>3</td>\n",
              "    </tr>\n",
              "    <tr>\n",
              "      <th>4</th>\n",
              "      <td>113958</td>\n",
              "      <td>2</td>\n",
              "      <td>65</td>\n",
              "      <td>3</td>\n",
              "      <td>31</td>\n",
              "      <td>26</td>\n",
              "      <td>1</td>\n",
              "      <td>17.0</td>\n",
              "      <td>75.82</td>\n",
              "      <td>False</td>\n",
              "      <td>4.46</td>\n",
              "      <td>42.853774</td>\n",
              "      <td>-2.391622</td>\n",
              "      <td>0</td>\n",
              "      <td>0</td>\n",
              "      <td>0</td>\n",
              "      <td>0</td>\n",
              "      <td>0</td>\n",
              "      <td>1</td>\n",
              "      <td>0</td>\n",
              "      <td>1</td>\n",
              "      <td>0</td>\n",
              "      <td>3</td>\n",
              "    </tr>\n",
              "    <tr>\n",
              "      <th>...</th>\n",
              "      <td>...</td>\n",
              "      <td>...</td>\n",
              "      <td>...</td>\n",
              "      <td>...</td>\n",
              "      <td>...</td>\n",
              "      <td>...</td>\n",
              "      <td>...</td>\n",
              "      <td>...</td>\n",
              "      <td>...</td>\n",
              "      <td>...</td>\n",
              "      <td>...</td>\n",
              "      <td>...</td>\n",
              "      <td>...</td>\n",
              "      <td>...</td>\n",
              "      <td>...</td>\n",
              "      <td>...</td>\n",
              "      <td>...</td>\n",
              "      <td>...</td>\n",
              "      <td>...</td>\n",
              "      <td>...</td>\n",
              "      <td>...</td>\n",
              "      <td>...</td>\n",
              "      <td>...</td>\n",
              "    </tr>\n",
              "    <tr>\n",
              "      <th>726906</th>\n",
              "      <td>202329</td>\n",
              "      <td>1</td>\n",
              "      <td>41</td>\n",
              "      <td>2</td>\n",
              "      <td>1</td>\n",
              "      <td>10</td>\n",
              "      <td>1</td>\n",
              "      <td>14.0</td>\n",
              "      <td>128.52</td>\n",
              "      <td>False</td>\n",
              "      <td>9.18</td>\n",
              "      <td>42.433621</td>\n",
              "      <td>1.928017</td>\n",
              "      <td>0</td>\n",
              "      <td>0</td>\n",
              "      <td>0</td>\n",
              "      <td>0</td>\n",
              "      <td>0</td>\n",
              "      <td>0</td>\n",
              "      <td>0</td>\n",
              "      <td>0</td>\n",
              "      <td>1</td>\n",
              "      <td>2</td>\n",
              "    </tr>\n",
              "    <tr>\n",
              "      <th>726907</th>\n",
              "      <td>202329</td>\n",
              "      <td>1</td>\n",
              "      <td>41</td>\n",
              "      <td>2</td>\n",
              "      <td>1</td>\n",
              "      <td>10</td>\n",
              "      <td>1</td>\n",
              "      <td>21.0</td>\n",
              "      <td>177.66</td>\n",
              "      <td>False</td>\n",
              "      <td>8.46</td>\n",
              "      <td>42.433621</td>\n",
              "      <td>1.928017</td>\n",
              "      <td>0</td>\n",
              "      <td>0</td>\n",
              "      <td>0</td>\n",
              "      <td>0</td>\n",
              "      <td>0</td>\n",
              "      <td>0</td>\n",
              "      <td>0</td>\n",
              "      <td>0</td>\n",
              "      <td>1</td>\n",
              "      <td>2</td>\n",
              "    </tr>\n",
              "    <tr>\n",
              "      <th>726908</th>\n",
              "      <td>202329</td>\n",
              "      <td>1</td>\n",
              "      <td>41</td>\n",
              "      <td>2</td>\n",
              "      <td>1</td>\n",
              "      <td>10</td>\n",
              "      <td>1</td>\n",
              "      <td>17.0</td>\n",
              "      <td>156.06</td>\n",
              "      <td>False</td>\n",
              "      <td>9.18</td>\n",
              "      <td>42.433621</td>\n",
              "      <td>1.928017</td>\n",
              "      <td>0</td>\n",
              "      <td>0</td>\n",
              "      <td>0</td>\n",
              "      <td>0</td>\n",
              "      <td>0</td>\n",
              "      <td>0</td>\n",
              "      <td>0</td>\n",
              "      <td>0</td>\n",
              "      <td>1</td>\n",
              "      <td>2</td>\n",
              "    </tr>\n",
              "    <tr>\n",
              "      <th>726909</th>\n",
              "      <td>190082</td>\n",
              "      <td>2</td>\n",
              "      <td>87</td>\n",
              "      <td>2</td>\n",
              "      <td>1</td>\n",
              "      <td>13</td>\n",
              "      <td>1</td>\n",
              "      <td>46.0</td>\n",
              "      <td>529.00</td>\n",
              "      <td>False</td>\n",
              "      <td>11.50</td>\n",
              "      <td>42.054154</td>\n",
              "      <td>2.264484</td>\n",
              "      <td>0</td>\n",
              "      <td>0</td>\n",
              "      <td>0</td>\n",
              "      <td>0</td>\n",
              "      <td>0</td>\n",
              "      <td>0</td>\n",
              "      <td>0</td>\n",
              "      <td>0</td>\n",
              "      <td>1</td>\n",
              "      <td>4</td>\n",
              "    </tr>\n",
              "    <tr>\n",
              "      <th>726910</th>\n",
              "      <td>190082</td>\n",
              "      <td>2</td>\n",
              "      <td>87</td>\n",
              "      <td>2</td>\n",
              "      <td>1</td>\n",
              "      <td>13</td>\n",
              "      <td>1</td>\n",
              "      <td>50.0</td>\n",
              "      <td>575.00</td>\n",
              "      <td>False</td>\n",
              "      <td>11.50</td>\n",
              "      <td>42.054154</td>\n",
              "      <td>2.264484</td>\n",
              "      <td>0</td>\n",
              "      <td>0</td>\n",
              "      <td>0</td>\n",
              "      <td>0</td>\n",
              "      <td>0</td>\n",
              "      <td>0</td>\n",
              "      <td>0</td>\n",
              "      <td>0</td>\n",
              "      <td>1</td>\n",
              "      <td>4</td>\n",
              "    </tr>\n",
              "  </tbody>\n",
              "</table>\n",
              "<p>726911 rows × 23 columns</p>\n",
              "</div>"
            ],
            "text/plain": [
              "        client_id course  ...  Titularidad_Público cluster\n",
              "0          113958      2  ...                    0       3\n",
              "1          113958      2  ...                    0       3\n",
              "2          113958      2  ...                    0       3\n",
              "3          113958      2  ...                    0       3\n",
              "4          113958      2  ...                    0       3\n",
              "...           ...    ...  ...                  ...     ...\n",
              "726906     202329      1  ...                    1       2\n",
              "726907     202329      1  ...                    1       2\n",
              "726908     202329      1  ...                    1       2\n",
              "726909     190082      2  ...                    1       4\n",
              "726910     190082      2  ...                    1       4\n",
              "\n",
              "[726911 rows x 23 columns]"
            ]
          },
          "metadata": {
            "tags": []
          },
          "execution_count": 129
        }
      ]
    },
    {
      "cell_type": "code",
      "metadata": {
        "id": "g45DubB8_qua",
        "colab_type": "code",
        "colab": {}
      },
      "source": [
        ""
      ],
      "execution_count": 0,
      "outputs": []
    },
    {
      "cell_type": "code",
      "metadata": {
        "id": "FSdxqE7h9fPf",
        "colab_type": "code",
        "outputId": "1f6b2423-c22b-463e-cc18-1372b33462cd",
        "colab": {
          "base_uri": "https://localhost:8080/",
          "height": 455
        }
      },
      "source": [
        "data_tf"
      ],
      "execution_count": 0,
      "outputs": [
        {
          "output_type": "execute_result",
          "data": {
            "text/html": [
              "<div>\n",
              "<style scoped>\n",
              "    .dataframe tbody tr th:only-of-type {\n",
              "        vertical-align: middle;\n",
              "    }\n",
              "\n",
              "    .dataframe tbody tr th {\n",
              "        vertical-align: top;\n",
              "    }\n",
              "\n",
              "    .dataframe thead th {\n",
              "        text-align: right;\n",
              "    }\n",
              "</style>\n",
              "<table border=\"1\" class=\"dataframe\">\n",
              "  <thead>\n",
              "    <tr style=\"text-align: right;\">\n",
              "      <th></th>\n",
              "      <th>client_id</th>\n",
              "      <th>course</th>\n",
              "      <th>subject</th>\n",
              "      <th>type_of_material</th>\n",
              "      <th>editorial_groupold</th>\n",
              "      <th>language</th>\n",
              "      <th>media</th>\n",
              "      <th>Variable1old</th>\n",
              "      <th>Variable2old</th>\n",
              "      <th>Variable1new</th>\n",
              "      <th>Variable2new</th>\n",
              "      <th>target</th>\n",
              "      <th>oldcost</th>\n",
              "      <th>newcost</th>\n",
              "      <th>Latitude</th>\n",
              "      <th>Longitude</th>\n",
              "      <th>Comunidad Autónoma_Comunidad Valenciana</th>\n",
              "      <th>Comunidad Autónoma_Islas Canarias</th>\n",
              "      <th>Comunidad Autónoma_La Rioja</th>\n",
              "      <th>Comunidad Autónoma_Madrid</th>\n",
              "      <th>Comunidad Autónoma_Navarra</th>\n",
              "      <th>Comunidad Autónoma_País Vasco</th>\n",
              "      <th>Titularidad_Católico</th>\n",
              "      <th>Titularidad_Privado</th>\n",
              "      <th>Titularidad_Público</th>\n",
              "      <th>cluster</th>\n",
              "    </tr>\n",
              "  </thead>\n",
              "  <tbody>\n",
              "    <tr>\n",
              "      <th>0</th>\n",
              "      <td>113958</td>\n",
              "      <td>2</td>\n",
              "      <td>65</td>\n",
              "      <td>3</td>\n",
              "      <td>31</td>\n",
              "      <td>26</td>\n",
              "      <td>1</td>\n",
              "      <td>16.0</td>\n",
              "      <td>70.72</td>\n",
              "      <td>18.0</td>\n",
              "      <td>79.92</td>\n",
              "      <td>False</td>\n",
              "      <td>4.42</td>\n",
              "      <td>4.44</td>\n",
              "      <td>42.853774</td>\n",
              "      <td>-2.391622</td>\n",
              "      <td>0</td>\n",
              "      <td>0</td>\n",
              "      <td>0</td>\n",
              "      <td>0</td>\n",
              "      <td>0</td>\n",
              "      <td>1</td>\n",
              "      <td>0</td>\n",
              "      <td>1</td>\n",
              "      <td>0</td>\n",
              "      <td>3</td>\n",
              "    </tr>\n",
              "    <tr>\n",
              "      <th>1</th>\n",
              "      <td>113958</td>\n",
              "      <td>2</td>\n",
              "      <td>65</td>\n",
              "      <td>3</td>\n",
              "      <td>31</td>\n",
              "      <td>26</td>\n",
              "      <td>1</td>\n",
              "      <td>18.0</td>\n",
              "      <td>79.56</td>\n",
              "      <td>27.0</td>\n",
              "      <td>119.88</td>\n",
              "      <td>False</td>\n",
              "      <td>4.42</td>\n",
              "      <td>4.44</td>\n",
              "      <td>42.853774</td>\n",
              "      <td>-2.391622</td>\n",
              "      <td>0</td>\n",
              "      <td>0</td>\n",
              "      <td>0</td>\n",
              "      <td>0</td>\n",
              "      <td>0</td>\n",
              "      <td>1</td>\n",
              "      <td>0</td>\n",
              "      <td>1</td>\n",
              "      <td>0</td>\n",
              "      <td>3</td>\n",
              "    </tr>\n",
              "    <tr>\n",
              "      <th>2</th>\n",
              "      <td>113958</td>\n",
              "      <td>2</td>\n",
              "      <td>65</td>\n",
              "      <td>3</td>\n",
              "      <td>31</td>\n",
              "      <td>26</td>\n",
              "      <td>1</td>\n",
              "      <td>22.0</td>\n",
              "      <td>97.24</td>\n",
              "      <td>17.0</td>\n",
              "      <td>86.70</td>\n",
              "      <td>False</td>\n",
              "      <td>4.42</td>\n",
              "      <td>5.10</td>\n",
              "      <td>42.853774</td>\n",
              "      <td>-2.391622</td>\n",
              "      <td>0</td>\n",
              "      <td>0</td>\n",
              "      <td>0</td>\n",
              "      <td>0</td>\n",
              "      <td>0</td>\n",
              "      <td>1</td>\n",
              "      <td>0</td>\n",
              "      <td>1</td>\n",
              "      <td>0</td>\n",
              "      <td>3</td>\n",
              "    </tr>\n",
              "    <tr>\n",
              "      <th>3</th>\n",
              "      <td>113958</td>\n",
              "      <td>2</td>\n",
              "      <td>65</td>\n",
              "      <td>3</td>\n",
              "      <td>31</td>\n",
              "      <td>26</td>\n",
              "      <td>1</td>\n",
              "      <td>18.0</td>\n",
              "      <td>79.56</td>\n",
              "      <td>22.0</td>\n",
              "      <td>112.64</td>\n",
              "      <td>False</td>\n",
              "      <td>4.42</td>\n",
              "      <td>5.12</td>\n",
              "      <td>42.853774</td>\n",
              "      <td>-2.391622</td>\n",
              "      <td>0</td>\n",
              "      <td>0</td>\n",
              "      <td>0</td>\n",
              "      <td>0</td>\n",
              "      <td>0</td>\n",
              "      <td>1</td>\n",
              "      <td>0</td>\n",
              "      <td>1</td>\n",
              "      <td>0</td>\n",
              "      <td>3</td>\n",
              "    </tr>\n",
              "    <tr>\n",
              "      <th>4</th>\n",
              "      <td>113958</td>\n",
              "      <td>2</td>\n",
              "      <td>65</td>\n",
              "      <td>3</td>\n",
              "      <td>31</td>\n",
              "      <td>26</td>\n",
              "      <td>1</td>\n",
              "      <td>17.0</td>\n",
              "      <td>75.82</td>\n",
              "      <td>18.0</td>\n",
              "      <td>93.24</td>\n",
              "      <td>False</td>\n",
              "      <td>4.46</td>\n",
              "      <td>5.18</td>\n",
              "      <td>42.853774</td>\n",
              "      <td>-2.391622</td>\n",
              "      <td>0</td>\n",
              "      <td>0</td>\n",
              "      <td>0</td>\n",
              "      <td>0</td>\n",
              "      <td>0</td>\n",
              "      <td>1</td>\n",
              "      <td>0</td>\n",
              "      <td>1</td>\n",
              "      <td>0</td>\n",
              "      <td>3</td>\n",
              "    </tr>\n",
              "    <tr>\n",
              "      <th>...</th>\n",
              "      <td>...</td>\n",
              "      <td>...</td>\n",
              "      <td>...</td>\n",
              "      <td>...</td>\n",
              "      <td>...</td>\n",
              "      <td>...</td>\n",
              "      <td>...</td>\n",
              "      <td>...</td>\n",
              "      <td>...</td>\n",
              "      <td>...</td>\n",
              "      <td>...</td>\n",
              "      <td>...</td>\n",
              "      <td>...</td>\n",
              "      <td>...</td>\n",
              "      <td>...</td>\n",
              "      <td>...</td>\n",
              "      <td>...</td>\n",
              "      <td>...</td>\n",
              "      <td>...</td>\n",
              "      <td>...</td>\n",
              "      <td>...</td>\n",
              "      <td>...</td>\n",
              "      <td>...</td>\n",
              "      <td>...</td>\n",
              "      <td>...</td>\n",
              "      <td>...</td>\n",
              "    </tr>\n",
              "    <tr>\n",
              "      <th>726906</th>\n",
              "      <td>202329</td>\n",
              "      <td>1</td>\n",
              "      <td>41</td>\n",
              "      <td>2</td>\n",
              "      <td>1</td>\n",
              "      <td>10</td>\n",
              "      <td>1</td>\n",
              "      <td>14.0</td>\n",
              "      <td>128.52</td>\n",
              "      <td>14.0</td>\n",
              "      <td>128.52</td>\n",
              "      <td>False</td>\n",
              "      <td>9.18</td>\n",
              "      <td>9.18</td>\n",
              "      <td>42.433621</td>\n",
              "      <td>1.928017</td>\n",
              "      <td>0</td>\n",
              "      <td>0</td>\n",
              "      <td>0</td>\n",
              "      <td>0</td>\n",
              "      <td>0</td>\n",
              "      <td>0</td>\n",
              "      <td>0</td>\n",
              "      <td>0</td>\n",
              "      <td>1</td>\n",
              "      <td>2</td>\n",
              "    </tr>\n",
              "    <tr>\n",
              "      <th>726907</th>\n",
              "      <td>202329</td>\n",
              "      <td>1</td>\n",
              "      <td>41</td>\n",
              "      <td>2</td>\n",
              "      <td>1</td>\n",
              "      <td>10</td>\n",
              "      <td>1</td>\n",
              "      <td>21.0</td>\n",
              "      <td>177.66</td>\n",
              "      <td>21.0</td>\n",
              "      <td>177.66</td>\n",
              "      <td>False</td>\n",
              "      <td>8.46</td>\n",
              "      <td>8.46</td>\n",
              "      <td>42.433621</td>\n",
              "      <td>1.928017</td>\n",
              "      <td>0</td>\n",
              "      <td>0</td>\n",
              "      <td>0</td>\n",
              "      <td>0</td>\n",
              "      <td>0</td>\n",
              "      <td>0</td>\n",
              "      <td>0</td>\n",
              "      <td>0</td>\n",
              "      <td>1</td>\n",
              "      <td>2</td>\n",
              "    </tr>\n",
              "    <tr>\n",
              "      <th>726908</th>\n",
              "      <td>202329</td>\n",
              "      <td>1</td>\n",
              "      <td>41</td>\n",
              "      <td>2</td>\n",
              "      <td>1</td>\n",
              "      <td>10</td>\n",
              "      <td>1</td>\n",
              "      <td>17.0</td>\n",
              "      <td>156.06</td>\n",
              "      <td>17.0</td>\n",
              "      <td>156.06</td>\n",
              "      <td>False</td>\n",
              "      <td>9.18</td>\n",
              "      <td>9.18</td>\n",
              "      <td>42.433621</td>\n",
              "      <td>1.928017</td>\n",
              "      <td>0</td>\n",
              "      <td>0</td>\n",
              "      <td>0</td>\n",
              "      <td>0</td>\n",
              "      <td>0</td>\n",
              "      <td>0</td>\n",
              "      <td>0</td>\n",
              "      <td>0</td>\n",
              "      <td>1</td>\n",
              "      <td>2</td>\n",
              "    </tr>\n",
              "    <tr>\n",
              "      <th>726909</th>\n",
              "      <td>190082</td>\n",
              "      <td>2</td>\n",
              "      <td>87</td>\n",
              "      <td>2</td>\n",
              "      <td>1</td>\n",
              "      <td>13</td>\n",
              "      <td>1</td>\n",
              "      <td>46.0</td>\n",
              "      <td>529.00</td>\n",
              "      <td>46.0</td>\n",
              "      <td>529.00</td>\n",
              "      <td>False</td>\n",
              "      <td>11.50</td>\n",
              "      <td>11.50</td>\n",
              "      <td>42.054154</td>\n",
              "      <td>2.264484</td>\n",
              "      <td>0</td>\n",
              "      <td>0</td>\n",
              "      <td>0</td>\n",
              "      <td>0</td>\n",
              "      <td>0</td>\n",
              "      <td>0</td>\n",
              "      <td>0</td>\n",
              "      <td>0</td>\n",
              "      <td>1</td>\n",
              "      <td>4</td>\n",
              "    </tr>\n",
              "    <tr>\n",
              "      <th>726910</th>\n",
              "      <td>190082</td>\n",
              "      <td>2</td>\n",
              "      <td>87</td>\n",
              "      <td>2</td>\n",
              "      <td>1</td>\n",
              "      <td>13</td>\n",
              "      <td>1</td>\n",
              "      <td>50.0</td>\n",
              "      <td>575.00</td>\n",
              "      <td>50.0</td>\n",
              "      <td>575.00</td>\n",
              "      <td>False</td>\n",
              "      <td>11.50</td>\n",
              "      <td>11.50</td>\n",
              "      <td>42.054154</td>\n",
              "      <td>2.264484</td>\n",
              "      <td>0</td>\n",
              "      <td>0</td>\n",
              "      <td>0</td>\n",
              "      <td>0</td>\n",
              "      <td>0</td>\n",
              "      <td>0</td>\n",
              "      <td>0</td>\n",
              "      <td>0</td>\n",
              "      <td>1</td>\n",
              "      <td>4</td>\n",
              "    </tr>\n",
              "  </tbody>\n",
              "</table>\n",
              "<p>726911 rows × 26 columns</p>\n",
              "</div>"
            ],
            "text/plain": [
              "        client_id course  ...  Titularidad_Público cluster\n",
              "0          113958      2  ...                    0       3\n",
              "1          113958      2  ...                    0       3\n",
              "2          113958      2  ...                    0       3\n",
              "3          113958      2  ...                    0       3\n",
              "4          113958      2  ...                    0       3\n",
              "...           ...    ...  ...                  ...     ...\n",
              "726906     202329      1  ...                    1       2\n",
              "726907     202329      1  ...                    1       2\n",
              "726908     202329      1  ...                    1       2\n",
              "726909     190082      2  ...                    1       4\n",
              "726910     190082      2  ...                    1       4\n",
              "\n",
              "[726911 rows x 26 columns]"
            ]
          },
          "metadata": {
            "tags": []
          },
          "execution_count": 124
        }
      ]
    },
    {
      "cell_type": "markdown",
      "metadata": {
        "id": "0VOPZ8EcrW3K",
        "colab_type": "text"
      },
      "source": [
        "Predictions for 2019"
      ]
    },
    {
      "cell_type": "code",
      "metadata": {
        "id": "liFD7sF7rV2q",
        "colab_type": "code",
        "colab": {}
      },
      "source": [
        "cdsfin2 = pd.merge(left = cds2018, right = cds2019, on =a,how = 'right', suffixes=('old','new'))\n",
        "cdsfin2['oldcost'] = cdsfin2.Variable2old/cdsfin2.Variable1old\n",
        "cdsfin2['newcost'] = cdsfin2.Variable2new/cdsfin2.Variable1new\n",
        "cdsfin2.loc[cdsfin2.oldcost.isnull(),'oldcost']=0\n",
        "cdsfin2.loc[cdsfin2.newcost.isnull(),'newcost']=0"
      ],
      "execution_count": 0,
      "outputs": []
    },
    {
      "cell_type": "code",
      "metadata": {
        "id": "Hmu__kQxKbG2",
        "colab_type": "code",
        "colab": {}
      },
      "source": [
        "datatf = pd.merge(left = cdsfin2, right = subjects.subject[0:92].astype('int'), on = 'subject',how = 'inner')\n",
        "datatf = pd.merge(left = datatf, right = maestros, on = 'client_id',how = 'inner')\n"
      ],
      "execution_count": 0,
      "outputs": []
    },
    {
      "cell_type": "code",
      "metadata": {
        "id": "2raTX51kK5wL",
        "colab_type": "code",
        "colab": {}
      },
      "source": [
        "col_names = ['client_id', 'course', 'subject', 'type_of_material',\n",
        "       'editorial_group', 'language', 'media']\n",
        "for col in col_names:\n",
        "    datatf[col] = datatf[col].astype('category',copy=False)"
      ],
      "execution_count": 0,
      "outputs": []
    },
    {
      "cell_type": "code",
      "metadata": {
        "id": "zQa6qOMrLqcm",
        "colab_type": "code",
        "outputId": "74dfc51e-8292-4c61-9244-62f43efba336",
        "colab": {
          "base_uri": "https://localhost:8080/",
          "height": 455
        }
      },
      "source": [
        "datatf.drop('year',axis = 1)"
      ],
      "execution_count": 0,
      "outputs": [
        {
          "output_type": "execute_result",
          "data": {
            "text/html": [
              "<div>\n",
              "<style scoped>\n",
              "    .dataframe tbody tr th:only-of-type {\n",
              "        vertical-align: middle;\n",
              "    }\n",
              "\n",
              "    .dataframe tbody tr th {\n",
              "        vertical-align: top;\n",
              "    }\n",
              "\n",
              "    .dataframe thead th {\n",
              "        text-align: right;\n",
              "    }\n",
              "</style>\n",
              "<table border=\"1\" class=\"dataframe\">\n",
              "  <thead>\n",
              "    <tr style=\"text-align: right;\">\n",
              "      <th></th>\n",
              "      <th>client_id</th>\n",
              "      <th>course</th>\n",
              "      <th>subject</th>\n",
              "      <th>type_of_material</th>\n",
              "      <th>editorial_group</th>\n",
              "      <th>language</th>\n",
              "      <th>media</th>\n",
              "      <th>Variable1old</th>\n",
              "      <th>Variable2old</th>\n",
              "      <th>Variable1new</th>\n",
              "      <th>Variable2new</th>\n",
              "      <th>oldcost</th>\n",
              "      <th>newcost</th>\n",
              "      <th>Latitude</th>\n",
              "      <th>Longitude</th>\n",
              "      <th>Comunidad Autónoma_Comunidad Valenciana</th>\n",
              "      <th>Comunidad Autónoma_Islas Canarias</th>\n",
              "      <th>Comunidad Autónoma_La Rioja</th>\n",
              "      <th>Comunidad Autónoma_Madrid</th>\n",
              "      <th>Comunidad Autónoma_Navarra</th>\n",
              "      <th>Comunidad Autónoma_País Vasco</th>\n",
              "      <th>Titularidad_Católico</th>\n",
              "      <th>Titularidad_Privado</th>\n",
              "      <th>Titularidad_Público</th>\n",
              "    </tr>\n",
              "  </thead>\n",
              "  <tbody>\n",
              "    <tr>\n",
              "      <th>0</th>\n",
              "      <td>113956</td>\n",
              "      <td>35</td>\n",
              "      <td>37</td>\n",
              "      <td>1</td>\n",
              "      <td>3.0</td>\n",
              "      <td>13</td>\n",
              "      <td>1</td>\n",
              "      <td>38.0</td>\n",
              "      <td>1046.90</td>\n",
              "      <td>38.0</td>\n",
              "      <td>10.4690</td>\n",
              "      <td>27.55</td>\n",
              "      <td>0.2755</td>\n",
              "      <td>42.852859</td>\n",
              "      <td>-2.668525</td>\n",
              "      <td>0</td>\n",
              "      <td>0</td>\n",
              "      <td>0</td>\n",
              "      <td>0</td>\n",
              "      <td>0</td>\n",
              "      <td>1</td>\n",
              "      <td>1</td>\n",
              "      <td>0</td>\n",
              "      <td>0</td>\n",
              "    </tr>\n",
              "    <tr>\n",
              "      <th>1</th>\n",
              "      <td>113956</td>\n",
              "      <td>33</td>\n",
              "      <td>37</td>\n",
              "      <td>1</td>\n",
              "      <td>5.0</td>\n",
              "      <td>13</td>\n",
              "      <td>1</td>\n",
              "      <td>60.0</td>\n",
              "      <td>1653.60</td>\n",
              "      <td>60.0</td>\n",
              "      <td>16.5360</td>\n",
              "      <td>27.56</td>\n",
              "      <td>0.2756</td>\n",
              "      <td>42.852859</td>\n",
              "      <td>-2.668525</td>\n",
              "      <td>0</td>\n",
              "      <td>0</td>\n",
              "      <td>0</td>\n",
              "      <td>0</td>\n",
              "      <td>0</td>\n",
              "      <td>1</td>\n",
              "      <td>1</td>\n",
              "      <td>0</td>\n",
              "      <td>0</td>\n",
              "    </tr>\n",
              "    <tr>\n",
              "      <th>2</th>\n",
              "      <td>113956</td>\n",
              "      <td>34</td>\n",
              "      <td>37</td>\n",
              "      <td>1</td>\n",
              "      <td>3.0</td>\n",
              "      <td>13</td>\n",
              "      <td>1</td>\n",
              "      <td>60.0</td>\n",
              "      <td>1637.40</td>\n",
              "      <td>60.0</td>\n",
              "      <td>16.3740</td>\n",
              "      <td>27.29</td>\n",
              "      <td>0.2729</td>\n",
              "      <td>42.852859</td>\n",
              "      <td>-2.668525</td>\n",
              "      <td>0</td>\n",
              "      <td>0</td>\n",
              "      <td>0</td>\n",
              "      <td>0</td>\n",
              "      <td>0</td>\n",
              "      <td>1</td>\n",
              "      <td>1</td>\n",
              "      <td>0</td>\n",
              "      <td>0</td>\n",
              "    </tr>\n",
              "    <tr>\n",
              "      <th>3</th>\n",
              "      <td>113956</td>\n",
              "      <td>34</td>\n",
              "      <td>37</td>\n",
              "      <td>1</td>\n",
              "      <td>3.0</td>\n",
              "      <td>26</td>\n",
              "      <td>1</td>\n",
              "      <td>69.0</td>\n",
              "      <td>1883.01</td>\n",
              "      <td>69.0</td>\n",
              "      <td>18.8301</td>\n",
              "      <td>27.29</td>\n",
              "      <td>0.2729</td>\n",
              "      <td>42.852859</td>\n",
              "      <td>-2.668525</td>\n",
              "      <td>0</td>\n",
              "      <td>0</td>\n",
              "      <td>0</td>\n",
              "      <td>0</td>\n",
              "      <td>0</td>\n",
              "      <td>1</td>\n",
              "      <td>1</td>\n",
              "      <td>0</td>\n",
              "      <td>0</td>\n",
              "    </tr>\n",
              "    <tr>\n",
              "      <th>4</th>\n",
              "      <td>113956</td>\n",
              "      <td>33</td>\n",
              "      <td>37</td>\n",
              "      <td>1</td>\n",
              "      <td>5.0</td>\n",
              "      <td>26</td>\n",
              "      <td>1</td>\n",
              "      <td>90.0</td>\n",
              "      <td>2480.40</td>\n",
              "      <td>90.0</td>\n",
              "      <td>24.8040</td>\n",
              "      <td>27.56</td>\n",
              "      <td>0.2756</td>\n",
              "      <td>42.852859</td>\n",
              "      <td>-2.668525</td>\n",
              "      <td>0</td>\n",
              "      <td>0</td>\n",
              "      <td>0</td>\n",
              "      <td>0</td>\n",
              "      <td>0</td>\n",
              "      <td>1</td>\n",
              "      <td>1</td>\n",
              "      <td>0</td>\n",
              "      <td>0</td>\n",
              "    </tr>\n",
              "    <tr>\n",
              "      <th>...</th>\n",
              "      <td>...</td>\n",
              "      <td>...</td>\n",
              "      <td>...</td>\n",
              "      <td>...</td>\n",
              "      <td>...</td>\n",
              "      <td>...</td>\n",
              "      <td>...</td>\n",
              "      <td>...</td>\n",
              "      <td>...</td>\n",
              "      <td>...</td>\n",
              "      <td>...</td>\n",
              "      <td>...</td>\n",
              "      <td>...</td>\n",
              "      <td>...</td>\n",
              "      <td>...</td>\n",
              "      <td>...</td>\n",
              "      <td>...</td>\n",
              "      <td>...</td>\n",
              "      <td>...</td>\n",
              "      <td>...</td>\n",
              "      <td>...</td>\n",
              "      <td>...</td>\n",
              "      <td>...</td>\n",
              "      <td>...</td>\n",
              "    </tr>\n",
              "    <tr>\n",
              "      <th>617730</th>\n",
              "      <td>206667</td>\n",
              "      <td>33</td>\n",
              "      <td>38</td>\n",
              "      <td>3</td>\n",
              "      <td>1.0</td>\n",
              "      <td>13</td>\n",
              "      <td>1</td>\n",
              "      <td>33.0</td>\n",
              "      <td>382.47</td>\n",
              "      <td>33.0</td>\n",
              "      <td>3.9798</td>\n",
              "      <td>11.59</td>\n",
              "      <td>0.1206</td>\n",
              "      <td>40.424754</td>\n",
              "      <td>-3.692207</td>\n",
              "      <td>0</td>\n",
              "      <td>0</td>\n",
              "      <td>0</td>\n",
              "      <td>1</td>\n",
              "      <td>0</td>\n",
              "      <td>0</td>\n",
              "      <td>0</td>\n",
              "      <td>1</td>\n",
              "      <td>0</td>\n",
              "    </tr>\n",
              "    <tr>\n",
              "      <th>617731</th>\n",
              "      <td>206667</td>\n",
              "      <td>36</td>\n",
              "      <td>38</td>\n",
              "      <td>3</td>\n",
              "      <td>1.0</td>\n",
              "      <td>13</td>\n",
              "      <td>1</td>\n",
              "      <td>12.0</td>\n",
              "      <td>200.88</td>\n",
              "      <td>12.0</td>\n",
              "      <td>2.0676</td>\n",
              "      <td>16.74</td>\n",
              "      <td>0.1723</td>\n",
              "      <td>40.424754</td>\n",
              "      <td>-3.692207</td>\n",
              "      <td>0</td>\n",
              "      <td>0</td>\n",
              "      <td>0</td>\n",
              "      <td>1</td>\n",
              "      <td>0</td>\n",
              "      <td>0</td>\n",
              "      <td>0</td>\n",
              "      <td>1</td>\n",
              "      <td>0</td>\n",
              "    </tr>\n",
              "    <tr>\n",
              "      <th>617732</th>\n",
              "      <td>206667</td>\n",
              "      <td>37</td>\n",
              "      <td>38</td>\n",
              "      <td>1</td>\n",
              "      <td>1.0</td>\n",
              "      <td>13</td>\n",
              "      <td>1</td>\n",
              "      <td>28.0</td>\n",
              "      <td>832.44</td>\n",
              "      <td>28.0</td>\n",
              "      <td>8.5708</td>\n",
              "      <td>29.73</td>\n",
              "      <td>0.3061</td>\n",
              "      <td>40.424754</td>\n",
              "      <td>-3.692207</td>\n",
              "      <td>0</td>\n",
              "      <td>0</td>\n",
              "      <td>0</td>\n",
              "      <td>1</td>\n",
              "      <td>0</td>\n",
              "      <td>0</td>\n",
              "      <td>0</td>\n",
              "      <td>1</td>\n",
              "      <td>0</td>\n",
              "    </tr>\n",
              "    <tr>\n",
              "      <th>617733</th>\n",
              "      <td>206667</td>\n",
              "      <td>37</td>\n",
              "      <td>38</td>\n",
              "      <td>3</td>\n",
              "      <td>1.0</td>\n",
              "      <td>13</td>\n",
              "      <td>1</td>\n",
              "      <td>28.0</td>\n",
              "      <td>468.72</td>\n",
              "      <td>28.0</td>\n",
              "      <td>4.8244</td>\n",
              "      <td>16.74</td>\n",
              "      <td>0.1723</td>\n",
              "      <td>40.424754</td>\n",
              "      <td>-3.692207</td>\n",
              "      <td>0</td>\n",
              "      <td>0</td>\n",
              "      <td>0</td>\n",
              "      <td>1</td>\n",
              "      <td>0</td>\n",
              "      <td>0</td>\n",
              "      <td>0</td>\n",
              "      <td>1</td>\n",
              "      <td>0</td>\n",
              "    </tr>\n",
              "    <tr>\n",
              "      <th>617734</th>\n",
              "      <td>206667</td>\n",
              "      <td>36</td>\n",
              "      <td>38</td>\n",
              "      <td>1</td>\n",
              "      <td>1.0</td>\n",
              "      <td>13</td>\n",
              "      <td>1</td>\n",
              "      <td>12.0</td>\n",
              "      <td>356.76</td>\n",
              "      <td>12.0</td>\n",
              "      <td>3.6732</td>\n",
              "      <td>29.73</td>\n",
              "      <td>0.3061</td>\n",
              "      <td>40.424754</td>\n",
              "      <td>-3.692207</td>\n",
              "      <td>0</td>\n",
              "      <td>0</td>\n",
              "      <td>0</td>\n",
              "      <td>1</td>\n",
              "      <td>0</td>\n",
              "      <td>0</td>\n",
              "      <td>0</td>\n",
              "      <td>1</td>\n",
              "      <td>0</td>\n",
              "    </tr>\n",
              "  </tbody>\n",
              "</table>\n",
              "<p>617735 rows × 24 columns</p>\n",
              "</div>"
            ],
            "text/plain": [
              "       client_id course  ... Titularidad_Privado Titularidad_Público\n",
              "0         113956     35  ...                   0                   0\n",
              "1         113956     33  ...                   0                   0\n",
              "2         113956     34  ...                   0                   0\n",
              "3         113956     34  ...                   0                   0\n",
              "4         113956     33  ...                   0                   0\n",
              "...          ...    ...  ...                 ...                 ...\n",
              "617730    206667     33  ...                   1                   0\n",
              "617731    206667     36  ...                   1                   0\n",
              "617732    206667     37  ...                   1                   0\n",
              "617733    206667     37  ...                   1                   0\n",
              "617734    206667     36  ...                   1                   0\n",
              "\n",
              "[617735 rows x 24 columns]"
            ]
          },
          "metadata": {
            "tags": []
          },
          "execution_count": 171
        }
      ]
    },
    {
      "cell_type": "code",
      "metadata": {
        "id": "KH58Ufk_Lz--",
        "colab_type": "code",
        "outputId": "e34ac076-68c7-4884-a5a0-9fa90913e349",
        "colab": {
          "base_uri": "https://localhost:8080/",
          "height": 249
        }
      },
      "source": [
        "data_tf.head()"
      ],
      "execution_count": 0,
      "outputs": [
        {
          "output_type": "execute_result",
          "data": {
            "text/html": [
              "<div>\n",
              "<style scoped>\n",
              "    .dataframe tbody tr th:only-of-type {\n",
              "        vertical-align: middle;\n",
              "    }\n",
              "\n",
              "    .dataframe tbody tr th {\n",
              "        vertical-align: top;\n",
              "    }\n",
              "\n",
              "    .dataframe thead th {\n",
              "        text-align: right;\n",
              "    }\n",
              "</style>\n",
              "<table border=\"1\" class=\"dataframe\">\n",
              "  <thead>\n",
              "    <tr style=\"text-align: right;\">\n",
              "      <th></th>\n",
              "      <th>client_id</th>\n",
              "      <th>course</th>\n",
              "      <th>subject</th>\n",
              "      <th>type_of_material</th>\n",
              "      <th>editorial_groupold</th>\n",
              "      <th>language</th>\n",
              "      <th>media</th>\n",
              "      <th>Variable1old</th>\n",
              "      <th>Variable2old</th>\n",
              "      <th>Variable1new</th>\n",
              "      <th>Variable2new</th>\n",
              "      <th>target</th>\n",
              "      <th>oldcost</th>\n",
              "      <th>newcost</th>\n",
              "      <th>Latitude</th>\n",
              "      <th>Longitude</th>\n",
              "      <th>Comunidad Autónoma_Comunidad Valenciana</th>\n",
              "      <th>Comunidad Autónoma_Islas Canarias</th>\n",
              "      <th>Comunidad Autónoma_La Rioja</th>\n",
              "      <th>Comunidad Autónoma_Madrid</th>\n",
              "      <th>Comunidad Autónoma_Navarra</th>\n",
              "      <th>Comunidad Autónoma_País Vasco</th>\n",
              "      <th>Titularidad_Católico</th>\n",
              "      <th>Titularidad_Privado</th>\n",
              "      <th>Titularidad_Público</th>\n",
              "      <th>cluster</th>\n",
              "    </tr>\n",
              "  </thead>\n",
              "  <tbody>\n",
              "    <tr>\n",
              "      <th>0</th>\n",
              "      <td>113958</td>\n",
              "      <td>2</td>\n",
              "      <td>65</td>\n",
              "      <td>3</td>\n",
              "      <td>31</td>\n",
              "      <td>26</td>\n",
              "      <td>1</td>\n",
              "      <td>16.0</td>\n",
              "      <td>70.72</td>\n",
              "      <td>18.0</td>\n",
              "      <td>79.92</td>\n",
              "      <td>False</td>\n",
              "      <td>4.42</td>\n",
              "      <td>4.44</td>\n",
              "      <td>42.853774</td>\n",
              "      <td>-2.391622</td>\n",
              "      <td>0</td>\n",
              "      <td>0</td>\n",
              "      <td>0</td>\n",
              "      <td>0</td>\n",
              "      <td>0</td>\n",
              "      <td>1</td>\n",
              "      <td>0</td>\n",
              "      <td>1</td>\n",
              "      <td>0</td>\n",
              "      <td>3</td>\n",
              "    </tr>\n",
              "    <tr>\n",
              "      <th>1</th>\n",
              "      <td>113958</td>\n",
              "      <td>2</td>\n",
              "      <td>65</td>\n",
              "      <td>3</td>\n",
              "      <td>31</td>\n",
              "      <td>26</td>\n",
              "      <td>1</td>\n",
              "      <td>18.0</td>\n",
              "      <td>79.56</td>\n",
              "      <td>27.0</td>\n",
              "      <td>119.88</td>\n",
              "      <td>False</td>\n",
              "      <td>4.42</td>\n",
              "      <td>4.44</td>\n",
              "      <td>42.853774</td>\n",
              "      <td>-2.391622</td>\n",
              "      <td>0</td>\n",
              "      <td>0</td>\n",
              "      <td>0</td>\n",
              "      <td>0</td>\n",
              "      <td>0</td>\n",
              "      <td>1</td>\n",
              "      <td>0</td>\n",
              "      <td>1</td>\n",
              "      <td>0</td>\n",
              "      <td>3</td>\n",
              "    </tr>\n",
              "    <tr>\n",
              "      <th>2</th>\n",
              "      <td>113958</td>\n",
              "      <td>2</td>\n",
              "      <td>65</td>\n",
              "      <td>3</td>\n",
              "      <td>31</td>\n",
              "      <td>26</td>\n",
              "      <td>1</td>\n",
              "      <td>22.0</td>\n",
              "      <td>97.24</td>\n",
              "      <td>17.0</td>\n",
              "      <td>86.70</td>\n",
              "      <td>False</td>\n",
              "      <td>4.42</td>\n",
              "      <td>5.10</td>\n",
              "      <td>42.853774</td>\n",
              "      <td>-2.391622</td>\n",
              "      <td>0</td>\n",
              "      <td>0</td>\n",
              "      <td>0</td>\n",
              "      <td>0</td>\n",
              "      <td>0</td>\n",
              "      <td>1</td>\n",
              "      <td>0</td>\n",
              "      <td>1</td>\n",
              "      <td>0</td>\n",
              "      <td>3</td>\n",
              "    </tr>\n",
              "    <tr>\n",
              "      <th>3</th>\n",
              "      <td>113958</td>\n",
              "      <td>2</td>\n",
              "      <td>65</td>\n",
              "      <td>3</td>\n",
              "      <td>31</td>\n",
              "      <td>26</td>\n",
              "      <td>1</td>\n",
              "      <td>18.0</td>\n",
              "      <td>79.56</td>\n",
              "      <td>22.0</td>\n",
              "      <td>112.64</td>\n",
              "      <td>False</td>\n",
              "      <td>4.42</td>\n",
              "      <td>5.12</td>\n",
              "      <td>42.853774</td>\n",
              "      <td>-2.391622</td>\n",
              "      <td>0</td>\n",
              "      <td>0</td>\n",
              "      <td>0</td>\n",
              "      <td>0</td>\n",
              "      <td>0</td>\n",
              "      <td>1</td>\n",
              "      <td>0</td>\n",
              "      <td>1</td>\n",
              "      <td>0</td>\n",
              "      <td>3</td>\n",
              "    </tr>\n",
              "    <tr>\n",
              "      <th>4</th>\n",
              "      <td>113958</td>\n",
              "      <td>2</td>\n",
              "      <td>65</td>\n",
              "      <td>3</td>\n",
              "      <td>31</td>\n",
              "      <td>26</td>\n",
              "      <td>1</td>\n",
              "      <td>17.0</td>\n",
              "      <td>75.82</td>\n",
              "      <td>18.0</td>\n",
              "      <td>93.24</td>\n",
              "      <td>False</td>\n",
              "      <td>4.46</td>\n",
              "      <td>5.18</td>\n",
              "      <td>42.853774</td>\n",
              "      <td>-2.391622</td>\n",
              "      <td>0</td>\n",
              "      <td>0</td>\n",
              "      <td>0</td>\n",
              "      <td>0</td>\n",
              "      <td>0</td>\n",
              "      <td>1</td>\n",
              "      <td>0</td>\n",
              "      <td>1</td>\n",
              "      <td>0</td>\n",
              "      <td>3</td>\n",
              "    </tr>\n",
              "  </tbody>\n",
              "</table>\n",
              "</div>"
            ],
            "text/plain": [
              "   client_id course  subject  ... Titularidad_Privado Titularidad_Público cluster\n",
              "0     113958      2       65  ...                   1                   0       3\n",
              "1     113958      2       65  ...                   1                   0       3\n",
              "2     113958      2       65  ...                   1                   0       3\n",
              "3     113958      2       65  ...                   1                   0       3\n",
              "4     113958      2       65  ...                   1                   0       3\n",
              "\n",
              "[5 rows x 26 columns]"
            ]
          },
          "metadata": {
            "tags": []
          },
          "execution_count": 141
        }
      ]
    },
    {
      "cell_type": "code",
      "metadata": {
        "id": "LaFNxuMFLVzl",
        "colab_type": "code",
        "colab": {}
      },
      "source": [
        "def cluster_predict(row):\n",
        "  if row.Variable1old.isnull():\n",
        "    kmeans1.predict(row.drop(['Variable1old','Variable2old','oldcost'],axis=1)\n",
        "  else:\n",
        "    kmeans.predict(row)"
      ],
      "execution_count": 0,
      "outputs": []
    },
    {
      "cell_type": "code",
      "metadata": {
        "id": "Nrs30-XrwFp9",
        "colab_type": "code",
        "colab": {}
      },
      "source": [
        "def final_predict(row):\n",
        "  if row.Variable1old.isnull():\n",
        "    rf2.predict(row.drop['Variable1old','Variable2old','costold'])\n",
        "  else:\n",
        "    rf1.predict(row)\n"
      ],
      "execution_count": 0,
      "outputs": []
    },
    {
      "cell_type": "code",
      "metadata": {
        "id": "VqeKBBlJk3Pf",
        "colab_type": "code",
        "colab": {}
      },
      "source": [
        "final = datatf[datatf.editorial_group != 90]"
      ],
      "execution_count": 0,
      "outputs": []
    },
    {
      "cell_type": "code",
      "metadata": {
        "id": "UX_AFxYtNRdT",
        "colab_type": "code",
        "colab": {}
      },
      "source": [
        "final['cluster'] = 0"
      ],
      "execution_count": 0,
      "outputs": []
    },
    {
      "cell_type": "code",
      "metadata": {
        "id": "HQ4h5RTKSbNV",
        "colab_type": "code",
        "outputId": "5b0196d7-eff7-41fb-c055-e2ebf88f6c85",
        "colab": {
          "base_uri": "https://localhost:8080/",
          "height": 303
        }
      },
      "source": [
        "final.loc[~final.Variable1old.isnull(),'cluster']=kmeans.predict(final[~final.Variable1old.isnull()].iloc[:,0:-1]) "
      ],
      "execution_count": 0,
      "outputs": [
        {
          "output_type": "error",
          "ename": "ValueError",
          "evalue": "ignored",
          "traceback": [
            "\u001b[0;31m---------------------------------------------------------------------------\u001b[0m",
            "\u001b[0;31mValueError\u001b[0m                                Traceback (most recent call last)",
            "\u001b[0;32m<ipython-input-162-f9f8e002020d>\u001b[0m in \u001b[0;36m<module>\u001b[0;34m()\u001b[0m\n\u001b[0;32m----> 1\u001b[0;31m \u001b[0mfinal\u001b[0m\u001b[0;34m.\u001b[0m\u001b[0mloc\u001b[0m\u001b[0;34m[\u001b[0m\u001b[0;34m~\u001b[0m\u001b[0mfinal\u001b[0m\u001b[0;34m.\u001b[0m\u001b[0mVariable1old\u001b[0m\u001b[0;34m.\u001b[0m\u001b[0misnull\u001b[0m\u001b[0;34m(\u001b[0m\u001b[0;34m)\u001b[0m\u001b[0;34m,\u001b[0m\u001b[0;34m'cluster'\u001b[0m\u001b[0;34m]\u001b[0m\u001b[0;34m=\u001b[0m\u001b[0mkmeans\u001b[0m\u001b[0;34m.\u001b[0m\u001b[0mpredict\u001b[0m\u001b[0;34m(\u001b[0m\u001b[0mfinal\u001b[0m\u001b[0;34m[\u001b[0m\u001b[0;34m~\u001b[0m\u001b[0mfinal\u001b[0m\u001b[0;34m.\u001b[0m\u001b[0mVariable1old\u001b[0m\u001b[0;34m.\u001b[0m\u001b[0misnull\u001b[0m\u001b[0;34m(\u001b[0m\u001b[0;34m)\u001b[0m\u001b[0;34m]\u001b[0m\u001b[0;34m.\u001b[0m\u001b[0miloc\u001b[0m\u001b[0;34m[\u001b[0m\u001b[0;34m:\u001b[0m\u001b[0;34m,\u001b[0m\u001b[0;36m0\u001b[0m\u001b[0;34m:\u001b[0m\u001b[0;34m-\u001b[0m\u001b[0;36m1\u001b[0m\u001b[0;34m]\u001b[0m\u001b[0;34m)\u001b[0m\u001b[0;34m\u001b[0m\u001b[0;34m\u001b[0m\u001b[0m\n\u001b[0m",
            "\u001b[0;32m/usr/local/lib/python3.6/dist-packages/sklearn/cluster/_kmeans.py\u001b[0m in \u001b[0;36mpredict\u001b[0;34m(self, X, sample_weight)\u001b[0m\n\u001b[1;32m   1085\u001b[0m         \u001b[0mcheck_is_fitted\u001b[0m\u001b[0;34m(\u001b[0m\u001b[0mself\u001b[0m\u001b[0;34m)\u001b[0m\u001b[0;34m\u001b[0m\u001b[0;34m\u001b[0m\u001b[0m\n\u001b[1;32m   1086\u001b[0m \u001b[0;34m\u001b[0m\u001b[0m\n\u001b[0;32m-> 1087\u001b[0;31m         \u001b[0mX\u001b[0m \u001b[0;34m=\u001b[0m \u001b[0mself\u001b[0m\u001b[0;34m.\u001b[0m\u001b[0m_check_test_data\u001b[0m\u001b[0;34m(\u001b[0m\u001b[0mX\u001b[0m\u001b[0;34m)\u001b[0m\u001b[0;34m\u001b[0m\u001b[0;34m\u001b[0m\u001b[0m\n\u001b[0m\u001b[1;32m   1088\u001b[0m         \u001b[0mx_squared_norms\u001b[0m \u001b[0;34m=\u001b[0m \u001b[0mrow_norms\u001b[0m\u001b[0;34m(\u001b[0m\u001b[0mX\u001b[0m\u001b[0;34m,\u001b[0m \u001b[0msquared\u001b[0m\u001b[0;34m=\u001b[0m\u001b[0;32mTrue\u001b[0m\u001b[0;34m)\u001b[0m\u001b[0;34m\u001b[0m\u001b[0;34m\u001b[0m\u001b[0m\n\u001b[1;32m   1089\u001b[0m         return _labels_inertia(X, sample_weight, x_squared_norms,\n",
            "\u001b[0;32m/usr/local/lib/python3.6/dist-packages/sklearn/cluster/_kmeans.py\u001b[0m in \u001b[0;36m_check_test_data\u001b[0;34m(self, X)\u001b[0m\n\u001b[1;32m    815\u001b[0m             raise ValueError(\"Incorrect number of features. \"\n\u001b[1;32m    816\u001b[0m                              \"Got %d features, expected %d\" % (\n\u001b[0;32m--> 817\u001b[0;31m                                  n_features, expected_n_features))\n\u001b[0m\u001b[1;32m    818\u001b[0m \u001b[0;34m\u001b[0m\u001b[0m\n\u001b[1;32m    819\u001b[0m         \u001b[0;32mreturn\u001b[0m \u001b[0mX\u001b[0m\u001b[0;34m\u001b[0m\u001b[0;34m\u001b[0m\u001b[0m\n",
            "\u001b[0;31mValueError\u001b[0m: Incorrect number of features. Got 25 features, expected 21"
          ]
        }
      ]
    },
    {
      "cell_type": "code",
      "metadata": {
        "id": "25ZudALBPNnt",
        "colab_type": "code",
        "outputId": "0f0d8b45-e9d9-47ca-b679-f438b13611d1",
        "colab": {
          "base_uri": "https://localhost:8080/",
          "height": 474
        }
      },
      "source": [
        "for i in range(final.shape[0]):\n",
        "  final.cluster[i] = cluster_predict(final.iloc[i,0:-1])"
      ],
      "execution_count": 0,
      "outputs": [
        {
          "output_type": "error",
          "ename": "ValueError",
          "evalue": "ignored",
          "traceback": [
            "\u001b[0;31m---------------------------------------------------------------------------\u001b[0m",
            "\u001b[0;31mValueError\u001b[0m                                Traceback (most recent call last)",
            "\u001b[0;32m<ipython-input-155-6bae19226fe3>\u001b[0m in \u001b[0;36m<module>\u001b[0;34m()\u001b[0m\n\u001b[1;32m      1\u001b[0m \u001b[0;32mfor\u001b[0m \u001b[0mi\u001b[0m \u001b[0;32min\u001b[0m \u001b[0mrange\u001b[0m\u001b[0;34m(\u001b[0m\u001b[0mfinal\u001b[0m\u001b[0;34m.\u001b[0m\u001b[0mshape\u001b[0m\u001b[0;34m[\u001b[0m\u001b[0;36m0\u001b[0m\u001b[0;34m]\u001b[0m\u001b[0;34m)\u001b[0m\u001b[0;34m:\u001b[0m\u001b[0;34m\u001b[0m\u001b[0;34m\u001b[0m\u001b[0m\n\u001b[0;32m----> 2\u001b[0;31m   \u001b[0mfinal\u001b[0m\u001b[0;34m.\u001b[0m\u001b[0mcluster\u001b[0m\u001b[0;34m[\u001b[0m\u001b[0mi\u001b[0m\u001b[0;34m]\u001b[0m \u001b[0;34m=\u001b[0m \u001b[0mcluster_predict\u001b[0m\u001b[0;34m(\u001b[0m\u001b[0mfinal\u001b[0m\u001b[0;34m.\u001b[0m\u001b[0miloc\u001b[0m\u001b[0;34m[\u001b[0m\u001b[0mi\u001b[0m\u001b[0;34m,\u001b[0m\u001b[0;36m0\u001b[0m\u001b[0;34m:\u001b[0m\u001b[0;34m-\u001b[0m\u001b[0;36m1\u001b[0m\u001b[0;34m]\u001b[0m\u001b[0;34m)\u001b[0m\u001b[0;34m\u001b[0m\u001b[0;34m\u001b[0m\u001b[0m\n\u001b[0m",
            "\u001b[0;32m<ipython-input-153-f4a0954154ba>\u001b[0m in \u001b[0;36mcluster_predict\u001b[0;34m(row)\u001b[0m\n\u001b[1;32m      3\u001b[0m     \u001b[0mkmeans1\u001b[0m\u001b[0;34m.\u001b[0m\u001b[0mpredict\u001b[0m\u001b[0;34m(\u001b[0m\u001b[0mrow\u001b[0m\u001b[0;34m.\u001b[0m\u001b[0mdrop\u001b[0m\u001b[0;34m[\u001b[0m\u001b[0;34m'Variable1old'\u001b[0m\u001b[0;34m,\u001b[0m\u001b[0;34m'Variable2old'\u001b[0m\u001b[0;34m,\u001b[0m\u001b[0;34m'oldcost'\u001b[0m\u001b[0;34m]\u001b[0m\u001b[0;34m)\u001b[0m\u001b[0;34m\u001b[0m\u001b[0;34m\u001b[0m\u001b[0m\n\u001b[1;32m      4\u001b[0m   \u001b[0;32melse\u001b[0m\u001b[0;34m:\u001b[0m\u001b[0;34m\u001b[0m\u001b[0;34m\u001b[0m\u001b[0m\n\u001b[0;32m----> 5\u001b[0;31m     \u001b[0mkmeans\u001b[0m\u001b[0;34m.\u001b[0m\u001b[0mpredict\u001b[0m\u001b[0;34m(\u001b[0m\u001b[0mrow\u001b[0m\u001b[0;34m)\u001b[0m\u001b[0;34m\u001b[0m\u001b[0;34m\u001b[0m\u001b[0m\n\u001b[0m",
            "\u001b[0;32m/usr/local/lib/python3.6/dist-packages/sklearn/cluster/_kmeans.py\u001b[0m in \u001b[0;36mpredict\u001b[0;34m(self, X, sample_weight)\u001b[0m\n\u001b[1;32m   1085\u001b[0m         \u001b[0mcheck_is_fitted\u001b[0m\u001b[0;34m(\u001b[0m\u001b[0mself\u001b[0m\u001b[0;34m)\u001b[0m\u001b[0;34m\u001b[0m\u001b[0;34m\u001b[0m\u001b[0m\n\u001b[1;32m   1086\u001b[0m \u001b[0;34m\u001b[0m\u001b[0m\n\u001b[0;32m-> 1087\u001b[0;31m         \u001b[0mX\u001b[0m \u001b[0;34m=\u001b[0m \u001b[0mself\u001b[0m\u001b[0;34m.\u001b[0m\u001b[0m_check_test_data\u001b[0m\u001b[0;34m(\u001b[0m\u001b[0mX\u001b[0m\u001b[0;34m)\u001b[0m\u001b[0;34m\u001b[0m\u001b[0;34m\u001b[0m\u001b[0m\n\u001b[0m\u001b[1;32m   1088\u001b[0m         \u001b[0mx_squared_norms\u001b[0m \u001b[0;34m=\u001b[0m \u001b[0mrow_norms\u001b[0m\u001b[0;34m(\u001b[0m\u001b[0mX\u001b[0m\u001b[0;34m,\u001b[0m \u001b[0msquared\u001b[0m\u001b[0;34m=\u001b[0m\u001b[0;32mTrue\u001b[0m\u001b[0;34m)\u001b[0m\u001b[0;34m\u001b[0m\u001b[0;34m\u001b[0m\u001b[0m\n\u001b[1;32m   1089\u001b[0m         return _labels_inertia(X, sample_weight, x_squared_norms,\n",
            "\u001b[0;32m/usr/local/lib/python3.6/dist-packages/sklearn/cluster/_kmeans.py\u001b[0m in \u001b[0;36m_check_test_data\u001b[0;34m(self, X)\u001b[0m\n\u001b[1;32m    809\u001b[0m \u001b[0;34m\u001b[0m\u001b[0m\n\u001b[1;32m    810\u001b[0m     \u001b[0;32mdef\u001b[0m \u001b[0m_check_test_data\u001b[0m\u001b[0;34m(\u001b[0m\u001b[0mself\u001b[0m\u001b[0;34m,\u001b[0m \u001b[0mX\u001b[0m\u001b[0;34m)\u001b[0m\u001b[0;34m:\u001b[0m\u001b[0;34m\u001b[0m\u001b[0;34m\u001b[0m\u001b[0m\n\u001b[0;32m--> 811\u001b[0;31m         \u001b[0mX\u001b[0m \u001b[0;34m=\u001b[0m \u001b[0mcheck_array\u001b[0m\u001b[0;34m(\u001b[0m\u001b[0mX\u001b[0m\u001b[0;34m,\u001b[0m \u001b[0maccept_sparse\u001b[0m\u001b[0;34m=\u001b[0m\u001b[0;34m'csr'\u001b[0m\u001b[0;34m,\u001b[0m \u001b[0mdtype\u001b[0m\u001b[0;34m=\u001b[0m\u001b[0mFLOAT_DTYPES\u001b[0m\u001b[0;34m)\u001b[0m\u001b[0;34m\u001b[0m\u001b[0;34m\u001b[0m\u001b[0m\n\u001b[0m\u001b[1;32m    812\u001b[0m         \u001b[0mn_samples\u001b[0m\u001b[0;34m,\u001b[0m \u001b[0mn_features\u001b[0m \u001b[0;34m=\u001b[0m \u001b[0mX\u001b[0m\u001b[0;34m.\u001b[0m\u001b[0mshape\u001b[0m\u001b[0;34m\u001b[0m\u001b[0;34m\u001b[0m\u001b[0m\n\u001b[1;32m    813\u001b[0m         \u001b[0mexpected_n_features\u001b[0m \u001b[0;34m=\u001b[0m \u001b[0mself\u001b[0m\u001b[0;34m.\u001b[0m\u001b[0mcluster_centers_\u001b[0m\u001b[0;34m.\u001b[0m\u001b[0mshape\u001b[0m\u001b[0;34m[\u001b[0m\u001b[0;36m1\u001b[0m\u001b[0;34m]\u001b[0m\u001b[0;34m\u001b[0m\u001b[0;34m\u001b[0m\u001b[0m\n",
            "\u001b[0;32m/usr/local/lib/python3.6/dist-packages/sklearn/utils/validation.py\u001b[0m in \u001b[0;36mcheck_array\u001b[0;34m(array, accept_sparse, accept_large_sparse, dtype, order, copy, force_all_finite, ensure_2d, allow_nd, ensure_min_samples, ensure_min_features, warn_on_dtype, estimator)\u001b[0m\n\u001b[1;32m    554\u001b[0m                     \u001b[0;34m\"Reshape your data either using array.reshape(-1, 1) if \"\u001b[0m\u001b[0;34m\u001b[0m\u001b[0;34m\u001b[0m\u001b[0m\n\u001b[1;32m    555\u001b[0m                     \u001b[0;34m\"your data has a single feature or array.reshape(1, -1) \"\u001b[0m\u001b[0;34m\u001b[0m\u001b[0;34m\u001b[0m\u001b[0m\n\u001b[0;32m--> 556\u001b[0;31m                     \"if it contains a single sample.\".format(array))\n\u001b[0m\u001b[1;32m    557\u001b[0m \u001b[0;34m\u001b[0m\u001b[0m\n\u001b[1;32m    558\u001b[0m         \u001b[0;31m# in the future np.flexible dtypes will be handled like object dtypes\u001b[0m\u001b[0;34m\u001b[0m\u001b[0;34m\u001b[0m\u001b[0;34m\u001b[0m\u001b[0m\n",
            "\u001b[0;31mValueError\u001b[0m: Expected 2D array, got 1D array instead:\narray=[ 1.1395600e+05  3.5000000e+01  3.7000000e+01  1.0000000e+00\n  3.0000000e+00  1.3000000e+01  1.0000000e+00  3.8000000e+01\n  1.0469000e+03  2.0190000e+03  3.8000000e+01  1.0469000e+01\n  2.7550000e+01  2.7550000e-01  4.2852859e+01 -2.6685250e+00\n  0.0000000e+00  0.0000000e+00  0.0000000e+00  0.0000000e+00\n  0.0000000e+00  1.0000000e+00  1.0000000e+00  0.0000000e+00\n  0.0000000e+00].\nReshape your data either using array.reshape(-1, 1) if your data has a single feature or array.reshape(1, -1) if it contains a single sample."
          ]
        }
      ]
    },
    {
      "cell_type": "code",
      "metadata": {
        "id": "JT82BgiVQWOn",
        "colab_type": "code",
        "outputId": "4e9b93b9-6d41-44e2-f64f-f7216b4bbe46",
        "colab": {
          "base_uri": "https://localhost:8080/",
          "height": 454
        }
      },
      "source": [
        "final.iloc[1,0:-1]"
      ],
      "execution_count": 0,
      "outputs": [
        {
          "output_type": "execute_result",
          "data": {
            "text/plain": [
              "client_id                                   113956\n",
              "course                                          33\n",
              "subject                                         37\n",
              "type_of_material                                 1\n",
              "editorial_group                                  5\n",
              "language                                        13\n",
              "media                                            1\n",
              "Variable1old                                    60\n",
              "Variable2old                                1653.6\n",
              "year                                          2019\n",
              "Variable1new                                    60\n",
              "Variable2new                                16.536\n",
              "oldcost                                      27.56\n",
              "newcost                                     0.2756\n",
              "Latitude                                   42.8529\n",
              "Longitude                                 -2.66852\n",
              "Comunidad Autónoma_Comunidad Valenciana          0\n",
              "Comunidad Autónoma_Islas Canarias                0\n",
              "Comunidad Autónoma_La Rioja                      0\n",
              "Comunidad Autónoma_Madrid                        0\n",
              "Comunidad Autónoma_Navarra                       0\n",
              "Comunidad Autónoma_País Vasco                    1\n",
              "Titularidad_Católico                             1\n",
              "Titularidad_Privado                              0\n",
              "Titularidad_Público                              0\n",
              "Name: 1, dtype: object"
            ]
          },
          "metadata": {
            "tags": []
          },
          "execution_count": 150
        }
      ]
    },
    {
      "cell_type": "code",
      "metadata": {
        "id": "P3bHIR7-xxNx",
        "colab_type": "code",
        "colab": {}
      },
      "source": [
        "cdsfin2['target']=cdsfin2.map(final_predict)"
      ],
      "execution_count": 0,
      "outputs": []
    },
    {
      "cell_type": "code",
      "metadata": {
        "id": "4g4Avk-h9NC0",
        "colab_type": "code",
        "colab": {}
      },
      "source": [
        "print(\"shape 2016: \", cds2016.shape)\n",
        "print(\"shape 2017: \", cds2017.shape)\n",
        "print(\"shape 2018: \", cds2018.shape)\n",
        "print(\"shape 2019: \", cds2019.shape)\n",
        "print()\n",
        "\n",
        "duplicate_rows_2016 = cds2016[cds2016.duplicated()]\n",
        "print(\"number of duplicate rows 2016: \", duplicate_rows_2016.shape)\n",
        "duplicate_rows_2017 = cds2017[cds2017.duplicated()]\n",
        "print(\"number of duplicate rows 2017: \", duplicate_rows_2017.shape)\n",
        "duplicate_rows_2018 = cds2018[cds2018.duplicated()]\n",
        "print(\"number of duplicate rows 2018: \", duplicate_rows_2018.shape)\n",
        "duplicate_rows_2019 = cds2019[cds2019.duplicated()]\n",
        "print(\"number of duplicate rows 2019: \", duplicate_rows_2019.shape)"
      ],
      "execution_count": 0,
      "outputs": []
    },
    {
      "cell_type": "code",
      "metadata": {
        "id": "6LMRmJegCk9h",
        "colab_type": "code",
        "colab": {}
      },
      "source": [
        "def curso_cat(x):\n",
        "    if x == 20 or x == 21 or x == 22 or x == 23 or x == 24 or x == 25:\n",
        "        return \"infantil\"\n",
        "    if x == 26 or x == 27 or x == 28 or x == 29 or x == 30 or x == 31:\n",
        "        return \"primaria\"\n",
        "    if x == 32 or x == 33 or x == 34 or x == 35:\n",
        "        return \"secundaria\"\n",
        "    if x == 36 or x == 37:\n",
        "        return \"bachillerato\""
      ],
      "execution_count": 0,
      "outputs": []
    },
    {
      "cell_type": "code",
      "metadata": {
        "id": "cufwiXKmClAl",
        "colab_type": "code",
        "colab": {}
      },
      "source": [
        "cds2016[\"course\"] = cds2016[\"course\"].map(curso_cat)\n",
        "cds2017[\"course\"] = cds2017[\"course\"].map(curso_cat)\n",
        "cds2018[\"course\"] = cds2018[\"course\"].map(curso_cat)\n",
        "cds2019[\"Curso\"] = cds2019[\"Curso\"].map(curso_cat)"
      ],
      "execution_count": 0,
      "outputs": []
    },
    {
      "cell_type": "code",
      "metadata": {
        "id": "7ltDCDDTZwDT",
        "colab_type": "code",
        "colab": {}
      },
      "source": [
        "def asignatura_cat(x):\n",
        "    if x == 1:\n",
        "        return \"aprendizajes básicos\"\n",
        "    if x == 4:\n",
        "        return \"atlas escolares\"\n",
        "    if x == 7 or x == 8:\n",
        "        return \"biologia\"\n",
        "    if x == 9:\n",
        "        return \"C.A.B\"\n",
        "    if x == 12 or x == 13 or x == 14 or x == 15:\n",
        "        return \"ciencia\"\n",
        "    if x == 16:\n",
        "        return \"comprension lectora\"\n",
        "    if x == 18 or x == 19 or x == 20:\n",
        "        return \"conocimiento\"\n",
        "    if x == 21:\n",
        "        return \"conviure\"\n",
        "    if x == 22:\n",
        "        return \"cultura clasica\"\n",
        "    if x == 24:\n",
        "        return \"dibujo tecnico\"\n",
        "    if x == 25:\n",
        "        return \"diccionarios escolares\"\n",
        "    if x == 26:\n",
        "        return \"economia\"\n",
        "    if x == 29:\n",
        "        return \"educación para la ciudadanía\"\n",
        "    if x == 34:\n",
        "        return \"etica\"\n",
        "    if x == 35:\n",
        "        return \"filosofia\"\n",
        "    if x == 36 or x == 37:\n",
        "        return \"fisica\"\n",
        "    if x == 38:\n",
        "        return \"francés\"\n",
        "    if x == 39 or x == 40:\n",
        "        return \"geografia\"\n",
        "    if x == 41:\n",
        "        return \"grafomotricidad\"\n",
        "    if x == 42:\n",
        "        return \"griego\"\n",
        "    if x == 43 or x == 45:\n",
        "        return \"historia\"\n",
        "    if x == 47:\n",
        "        return \"informática\"\n",
        "    if x == 48:\n",
        "        return \"inglés\"\n",
        "    if x == 50:\n",
        "        return \"latin\"\n",
        "    if x == 51:\n",
        "        return \"lectoescritura\"\n",
        "    if x == 52:\n",
        "        return \"lecturas\"\n",
        "    if x == 53 or x  == 54:\n",
        "        return \"lengua\"\n",
        "    if x == 60 or x == 61 or x == 62:\n",
        "        return \"matemáticas\"\n",
        "    if x == 63:\n",
        "        return \"areas integradas\"\n",
        "    if x == 65:\n",
        "        return \"música\"\n",
        "    if x == 68:\n",
        "        return \"ortografia\"\n",
        "    if x == 70:\n",
        "        return \"PAI\"\n",
        "    if x == 71:\n",
        "        return \"PAM\"\n",
        "    if x == 72:\n",
        "        return \"plan lector\"\n",
        "    if x == 73:\n",
        "        return \"plástica\"\n",
        "    if x == 78:\n",
        "        return \"química\"\n",
        "    if x == 79:\n",
        "        return \"religión\"\n",
        "    if x == 81:\n",
        "        return \"sociedad cultura y religión\"\n",
        "    if x == 82:\n",
        "        return \"tecnologia\"\n",
        "    if x == 83:\n",
        "        return \"tutoría\"\n",
        "    if x == 84:\n",
        "        return \"vacaciones\"\n",
        "    if x == 85:\n",
        "        return \"biblias escolares\"\n",
        "    if x == 87:\n",
        "        return \"competencias básicas\"\n",
        "    if x == 88:\n",
        "        return \"educación emocional\"\n",
        "    if x == 89:\n",
        "        return \"ciencias de la tierra y medio\"\n",
        "    if x == 90:\n",
        "        return \"tecnologías de la información\"\n",
        "    if x == 227:\n",
        "        return \"diver. curricular (social)\"\n",
        "    if x == 228:\n",
        "        return \"escritura\"\n",
        "    if x == 229:\n",
        "        return \"science\"\n",
        "    if x == 230:\n",
        "        return \"arts & crafts\"\n",
        "    if x == 235:\n",
        "        return \"agenda\"\n",
        "    if x == 236:\n",
        "        return \"music\"\n",
        "    if x == 237:\n",
        "        return \"visual arts\"\n",
        "    if x == 238 or x == 239:\n",
        "        return \"science\"\n",
        "    if x == 241:\n",
        "        return \"tecnologia industrial\"\n",
        "    if x == 242:\n",
        "        return \"diver. curricular (tecno)\"\n",
        "    if x == 243:\n",
        "        return \"alternativa religión\"\n",
        "    if x == 246:\n",
        "        return \"literatura\"\n",
        "    if x == 249:\n",
        "        return \"materias artísticas\"\n",
        "    if x == 259:\n",
        "        return \"proyectos\"\n",
        "    if x == 262:\n",
        "        return \"geography and history\"\n",
        "    if x == 263:\n",
        "        return \"biology and geology\"\n",
        "    if x == 265:\n",
        "        return \"valores sociales y cívicos\"\n",
        "    if x == 266 or x == 267:\n",
        "        return \"scienceFR\"\n",
        "    if x == 269:\n",
        "        return \"cultura científica\"\n",
        "    if x == 270:\n",
        "        return \"educación física\"\n",
        "    if x == 271:\n",
        "        return \"physical education\"\n",
        "    if x == 272:\n",
        "        return \"inteligencias múltiples\"\n",
        "    if x == 274:\n",
        "        return \"publicaciones generales\"\n",
        "    if x == 276 :\n",
        "        return \"areas integradas - Unidades te\"\n",
        "    if x == 277:\n",
        "        return \"tecnology\"\n",
        "    if x == 278:\n",
        "        return \"pastoral\"\n",
        "    if x == 279 or x == 280:\n",
        "        return \"PMAR\"\n",
        "    if x == 292:\n",
        "        return \"Plan lector Loran\"\n",
        "    if x == 293:\n",
        "        return \"APP\"\n",
        "    if x == 298:\n",
        "        return \"areas integradas bilingüe\"\n",
        "    if x == 299:\n",
        "        return \"proyectos bilingüe\"\n",
        "    \n",
        "#if x = \"EE01\""
      ],
      "execution_count": 0,
      "outputs": []
    },
    {
      "cell_type": "code",
      "metadata": {
        "id": "wHGGYD04ZwLW",
        "colab_type": "code",
        "colab": {}
      },
      "source": [
        "cds2016[\"subject\"] = cds2016[\"subject\"].map(asignatura_cat)\n",
        "cds2017[\"subject\"] = cds2017[\"subject\"].map(asignatura_cat)\n",
        "cds2018[\"subject\"] = cds2018[\"subject\"].map(asignatura_cat)\n",
        "cds2019[\"Asignatura\"] = cds2019[\"Asignatura\"].map(asignatura_cat)"
      ],
      "execution_count": 0,
      "outputs": []
    },
    {
      "cell_type": "code",
      "metadata": {
        "id": "JJn_bibuZwOQ",
        "colab_type": "code",
        "colab": {}
      },
      "source": [
        "def TME_cat(x):\n",
        "    if x == 1:\n",
        "        return \"básico\"\n",
        "    if x == 2:\n",
        "        return \"complementario\"\n",
        "    if x == 3:\n",
        "        return \"cuaderno asociado\"\n",
        "    if x == 4:\n",
        "        return \"prescribible\""
      ],
      "execution_count": 0,
      "outputs": []
    },
    {
      "cell_type": "code",
      "metadata": {
        "id": "nIkh8edpZwRd",
        "colab_type": "code",
        "colab": {}
      },
      "source": [
        "cds2016[\"type_of_material\"] = cds2016[\"type_of_material\"].map(TME_cat)\n",
        "cds2017[\"type_of_material\"] = cds2017[\"type_of_material\"].map(TME_cat)\n",
        "cds2018[\"type_of_material\"] = cds2018[\"type_of_material\"].map(TME_cat)\n",
        "cds2019[\"Tipo Material Educativo\"] = cds2019[\"Tipo Material Educativo\"].map(TME_cat)"
      ],
      "execution_count": 0,
      "outputs": []
    },
    {
      "cell_type": "code",
      "metadata": {
        "id": "HX3mepBCZwWL",
        "colab_type": "code",
        "colab": {}
      },
      "source": [
        "def lengua_cat(x):\n",
        "    if x == 10:\n",
        "        return \"Catalán\"\n",
        "    if x == 11:\n",
        "        return \"Gallego\"\n",
        "    if x == 13:\n",
        "        return \"Castellano\"\n",
        "    if x == 18:\n",
        "        return \"Valenciano\"\n",
        "    if x == 26:\n",
        "        return \"Euskera\""
      ],
      "execution_count": 0,
      "outputs": []
    },
    {
      "cell_type": "code",
      "metadata": {
        "id": "TtnULPJaZwZi",
        "colab_type": "code",
        "colab": {}
      },
      "source": [
        "cds2016[\"Lengua\"] = cds2016[\"Lengua\"].map(lengua_cat)\n",
        "cds2017[\"Lengua\"] = cds2017[\"Lengua\"].map(lengua_cat)\n",
        "cds2018[\"Lengua\"] = cds2018[\"Lengua\"].map(lengua_cat)\n",
        "cds2019[\"Lengua\"] = cds2019[\"Lengua\"].map(lengua_cat)"
      ],
      "execution_count": 0,
      "outputs": []
    },
    {
      "cell_type": "code",
      "metadata": {
        "id": "qD55ICfAZwUm",
        "colab_type": "code",
        "colab": {}
      },
      "source": [
        "def TS_cat(x):\n",
        "    if x == 1:\n",
        "        return \"papel\"\n",
        "    if x == 2:\n",
        "        return \"digital\"\n",
        "    if x == 3:\n",
        "        return \"papel-digital\"\n",
        "    if x == 4:\n",
        "        return \"plataforma\""
      ],
      "execution_count": 0,
      "outputs": []
    },
    {
      "cell_type": "code",
      "metadata": {
        "id": "8MTObDaiaQHQ",
        "colab_type": "code",
        "colab": {}
      },
      "source": [
        "cds2016[\"Tipo Soporte Actual\"] = cds2016[\"Tipo Soporte Actual\"].map(TS_cat)\n",
        "cds2017[\"Tipo Soporte Actual\"] = cds2017[\"Tipo Soporte Actual\"].map(TS_cat)\n",
        "cds2018[\"Tipo Soporte Actual\"] = cds2018[\"Tipo Soporte Actual\"].map(TS_cat)\n",
        "cds2019[\"Tipo Soporte Actual\"] = cds2019[\"Tipo Soporte Actual\"].map(TS_cat)"
      ],
      "execution_count": 0,
      "outputs": []
    },
    {
      "cell_type": "code",
      "metadata": {
        "id": "YQR3svf89NDo",
        "colab_type": "code",
        "colab": {}
      },
      "source": [
        "cds2016.iloc[:,0:-2] = cds2016.iloc[:,0:-2].astype('category')"
      ],
      "execution_count": 0,
      "outputs": []
    },
    {
      "cell_type": "code",
      "metadata": {
        "id": "6ASCw4xJ9NDt",
        "colab_type": "code",
        "colab": {}
      },
      "source": [
        "cds2016.hist(figsize=(25, 10))"
      ],
      "execution_count": 0,
      "outputs": []
    },
    {
      "cell_type": "code",
      "metadata": {
        "id": "je9hKVHb9NDy",
        "colab_type": "code",
        "colab": {}
      },
      "source": [
        "cds2017.hist(figsize=(25, 10))"
      ],
      "execution_count": 0,
      "outputs": []
    },
    {
      "cell_type": "code",
      "metadata": {
        "id": "4L5Bputl9ND3",
        "colab_type": "code",
        "colab": {}
      },
      "source": [
        "cds2018.hist(figsize=(25, 10))\n"
      ],
      "execution_count": 0,
      "outputs": []
    },
    {
      "cell_type": "code",
      "metadata": {
        "id": "OUrhal1X9ND9",
        "colab_type": "code",
        "colab": {}
      },
      "source": [
        "cds1 = pd.merge(left = cds2016,right = cds2017, on = a, how='right',suffixes=('2016','2017'))"
      ],
      "execution_count": 0,
      "outputs": []
    },
    {
      "cell_type": "code",
      "metadata": {
        "id": "mm7U7bDyER1_",
        "colab_type": "code",
        "colab": {}
      },
      "source": [
        "cds2 = pd.merge(left = cds1,right = cds2018, on = a, how='inner')"
      ],
      "execution_count": 0,
      "outputs": []
    },
    {
      "cell_type": "code",
      "metadata": {
        "id": "0fKysaouFq1J",
        "colab_type": "code",
        "colab": {}
      },
      "source": [
        "cds = cds2[cds2.editorial_group2016.isnull()]\n",
        "cds = cds[cds.editorial_group2017!=90]"
      ],
      "execution_count": 0,
      "outputs": []
    },
    {
      "cell_type": "code",
      "metadata": {
        "id": "kD0AtZRJFr3l",
        "colab_type": "code",
        "colab": {}
      },
      "source": [
        "cds['target'] = (cds.editorial_group == 90)"
      ],
      "execution_count": 0,
      "outputs": []
    },
    {
      "cell_type": "code",
      "metadata": {
        "id": "BcftW0MSIT13",
        "colab_type": "code",
        "colab": {}
      },
      "source": [
        "cds = cds.drop(['editorial_group2016','Variable12016','Variable22016','editorial_group','Variable1','Variable2'],axis = 1)"
      ],
      "execution_count": 0,
      "outputs": []
    },
    {
      "cell_type": "code",
      "metadata": {
        "id": "ATAhnx0_KXGl",
        "colab_type": "code",
        "outputId": "524cf38f-cd07-43e3-a3f3-6540d3661065",
        "colab": {
          "base_uri": "https://localhost:8080/",
          "height": 151
        }
      },
      "source": [
        "cds.course = cds2018.course.map(course_seg)\n",
        "cds['cost'] = cds.Variable22017/cds.Variable12017\n",
        "cds.loc[cds.cost.isnull(),'cost']=0\n",
        "col_names = ['client_id', 'course', 'subject', 'type_of_material','editorial_group2017', 'language', 'media']\n",
        "for col in col_names:\n",
        "    cds[col] = cds[col].astype('category',copy=False)\n",
        "cds_tf = pd.merge(left = cds, right = subjects.subject[0:92].astype('int'), on = 'subject',how = 'inner')\n",
        "cds_tf = pd.merge(left = cds_tf, right = maestros, on = 'client_id',how = 'inner')\n",
        "X_train,X_test,y_train,y_test = train_test_split(cds_tf.loc[:,cds_tf.columns!='target'],cds_tf['target'],test_size=0.15,random_state = 1)\n",
        "rf = RandomForestClassifier(n_estimators = 200, random_state = 42, max_depth = 15)\n",
        "rf.fit(X_train,y_train)"
      ],
      "execution_count": 0,
      "outputs": [
        {
          "output_type": "execute_result",
          "data": {
            "text/plain": [
              "RandomForestClassifier(bootstrap=True, ccp_alpha=0.0, class_weight=None,\n",
              "                       criterion='gini', max_depth=15, max_features='auto',\n",
              "                       max_leaf_nodes=None, max_samples=None,\n",
              "                       min_impurity_decrease=0.0, min_impurity_split=None,\n",
              "                       min_samples_leaf=1, min_samples_split=2,\n",
              "                       min_weight_fraction_leaf=0.0, n_estimators=200,\n",
              "                       n_jobs=None, oob_score=False, random_state=42, verbose=0,\n",
              "                       warm_start=False)"
            ]
          },
          "metadata": {
            "tags": []
          },
          "execution_count": 24
        }
      ]
    },
    {
      "cell_type": "code",
      "metadata": {
        "id": "4EMqj10cPJOE",
        "colab_type": "code",
        "outputId": "9001bad6-73bd-4896-b77d-aeb38fd4c5cb",
        "colab": {
          "base_uri": "https://localhost:8080/",
          "height": 168
        }
      },
      "source": [
        "predictions = rf.predict(X_test)\n",
        "print(classification_report(y_test,predictions))"
      ],
      "execution_count": 0,
      "outputs": [
        {
          "output_type": "stream",
          "text": [
            "              precision    recall  f1-score   support\n",
            "\n",
            "       False       0.95      1.00      0.97      8497\n",
            "        True       0.89      0.14      0.25       525\n",
            "\n",
            "    accuracy                           0.95      9022\n",
            "   macro avg       0.92      0.57      0.61      9022\n",
            "weighted avg       0.95      0.95      0.93      9022\n",
            "\n"
          ],
          "name": "stdout"
        }
      ]
    },
    {
      "cell_type": "code",
      "metadata": {
        "id": "RZDvG3CXPM0C",
        "colab_type": "code",
        "colab": {}
      },
      "source": [
        "# Number of trees in random forest\n",
        "n_estimators = [int(x) for x in np.linspace(start = 100, stop = 1000, num = 10)]\n",
        "# Number of features to consider at every split\n",
        "max_features = ['auto', 'sqrt']\n",
        "# Maximum number of levels in tree\n",
        "max_depth = [int(x) for x in np.linspace(10, 110, num = 11)]\n",
        "max_depth.append(None)\n",
        "# Minimum number of samples required to split a node\n",
        "min_samples_split = [2, 5, 10]\n",
        "# Minimum number of samples required at each leaf node\n",
        "min_samples_leaf = [1, 2, 4, 8]\n",
        "# Method of selecting samples for training each tree\n",
        "bootstrap = [True, False]\n",
        "# Create the random grid\n",
        "random_grid = {'n_estimators': n_estimators,\n",
        "               'max_features': max_features,\n",
        "               'max_depth': max_depth,\n",
        "               'min_samples_split': min_samples_split,\n",
        "               'min_samples_leaf': min_samples_leaf,\n",
        "               'bootstrap': bootstrap}"
      ],
      "execution_count": 0,
      "outputs": []
    },
    {
      "cell_type": "code",
      "metadata": {
        "id": "YGD0HLfvPglP",
        "colab_type": "code",
        "colab": {}
      },
      "source": [
        "X_train = cds_tf.loc[:,cds_tf.columns!='target']\n",
        "y_train = cds_tf['target']\n",
        "rf = RandomForestClassifier(random_state = 42)"
      ],
      "execution_count": 0,
      "outputs": []
    },
    {
      "cell_type": "code",
      "metadata": {
        "id": "Fj_yulWVPttS",
        "colab_type": "code",
        "outputId": "ce650d40-72b5-4d01-eb3a-c183595a733f",
        "colab": {
          "base_uri": "https://localhost:8080/",
          "height": 337
        }
      },
      "source": [
        "rsearch = RandomizedSearchCV(rf, random_grid, cv = 5,scoring = \"f1_macro\",n_iter=400)\n",
        "rsearch.fit(X_train, y_train)\n",
        "rsearch.best_params_"
      ],
      "execution_count": 0,
      "outputs": [
        {
          "output_type": "error",
          "ename": "KeyboardInterrupt",
          "evalue": "ignored",
          "traceback": [
            "\u001b[0;31m---------------------------------------------------------------------------\u001b[0m",
            "\u001b[0;31mKeyboardInterrupt\u001b[0m                         Traceback (most recent call last)",
            "\u001b[0;32m<ipython-input-28-dd98a934990f>\u001b[0m in \u001b[0;36m<module>\u001b[0;34m()\u001b[0m\n\u001b[1;32m      1\u001b[0m \u001b[0mrsearch\u001b[0m \u001b[0;34m=\u001b[0m \u001b[0mRandomizedSearchCV\u001b[0m\u001b[0;34m(\u001b[0m\u001b[0mrf\u001b[0m\u001b[0;34m,\u001b[0m \u001b[0mrandom_grid\u001b[0m\u001b[0;34m,\u001b[0m \u001b[0mcv\u001b[0m \u001b[0;34m=\u001b[0m \u001b[0;36m5\u001b[0m\u001b[0;34m,\u001b[0m\u001b[0mscoring\u001b[0m \u001b[0;34m=\u001b[0m \u001b[0;34m\"f1_macro\"\u001b[0m\u001b[0;34m,\u001b[0m\u001b[0mn_iter\u001b[0m\u001b[0;34m=\u001b[0m\u001b[0;36m400\u001b[0m\u001b[0;34m)\u001b[0m\u001b[0;34m\u001b[0m\u001b[0;34m\u001b[0m\u001b[0m\n\u001b[0;32m----> 2\u001b[0;31m \u001b[0mrsearch\u001b[0m\u001b[0;34m.\u001b[0m\u001b[0mfit\u001b[0m\u001b[0;34m(\u001b[0m\u001b[0mX_train\u001b[0m\u001b[0;34m,\u001b[0m \u001b[0my_train\u001b[0m\u001b[0;34m)\u001b[0m\u001b[0;34m\u001b[0m\u001b[0;34m\u001b[0m\u001b[0m\n\u001b[0m\u001b[1;32m      3\u001b[0m \u001b[0mrsearch\u001b[0m\u001b[0;34m.\u001b[0m\u001b[0mbest_params_\u001b[0m\u001b[0;34m\u001b[0m\u001b[0;34m\u001b[0m\u001b[0m\n",
            "\u001b[0;32m/usr/local/lib/python3.6/dist-packages/sklearn/model_selection/_search.py\u001b[0m in \u001b[0;36mfit\u001b[0;34m(self, X, y, groups, **fit_params)\u001b[0m\n\u001b[1;32m    708\u001b[0m                 \u001b[0;32mreturn\u001b[0m \u001b[0mresults\u001b[0m\u001b[0;34m\u001b[0m\u001b[0;34m\u001b[0m\u001b[0m\n\u001b[1;32m    709\u001b[0m \u001b[0;34m\u001b[0m\u001b[0m\n\u001b[0;32m--> 710\u001b[0;31m             \u001b[0mself\u001b[0m\u001b[0;34m.\u001b[0m\u001b[0m_run_search\u001b[0m\u001b[0;34m(\u001b[0m\u001b[0mevaluate_candidates\u001b[0m\u001b[0;34m)\u001b[0m\u001b[0;34m\u001b[0m\u001b[0;34m\u001b[0m\u001b[0m\n\u001b[0m\u001b[1;32m    711\u001b[0m \u001b[0;34m\u001b[0m\u001b[0m\n\u001b[1;32m    712\u001b[0m         \u001b[0;31m# For multi-metric evaluation, store the best_index_, best_params_ and\u001b[0m\u001b[0;34m\u001b[0m\u001b[0;34m\u001b[0m\u001b[0;34m\u001b[0m\u001b[0m\n",
            "\u001b[0;32m/usr/local/lib/python3.6/dist-packages/sklearn/model_selection/_search.py\u001b[0m in \u001b[0;36m_run_search\u001b[0;34m(self, evaluate_candidates)\u001b[0m\n\u001b[1;32m   1482\u001b[0m         evaluate_candidates(ParameterSampler(\n\u001b[1;32m   1483\u001b[0m             \u001b[0mself\u001b[0m\u001b[0;34m.\u001b[0m\u001b[0mparam_distributions\u001b[0m\u001b[0;34m,\u001b[0m \u001b[0mself\u001b[0m\u001b[0;34m.\u001b[0m\u001b[0mn_iter\u001b[0m\u001b[0;34m,\u001b[0m\u001b[0;34m\u001b[0m\u001b[0;34m\u001b[0m\u001b[0m\n\u001b[0;32m-> 1484\u001b[0;31m             random_state=self.random_state))\n\u001b[0m",
            "\u001b[0;32m/usr/local/lib/python3.6/dist-packages/sklearn/model_selection/_search.py\u001b[0m in \u001b[0;36mevaluate_candidates\u001b[0;34m(candidate_params)\u001b[0m\n\u001b[1;32m    687\u001b[0m                                \u001b[0;32mfor\u001b[0m \u001b[0mparameters\u001b[0m\u001b[0;34m,\u001b[0m \u001b[0;34m(\u001b[0m\u001b[0mtrain\u001b[0m\u001b[0;34m,\u001b[0m \u001b[0mtest\u001b[0m\u001b[0;34m)\u001b[0m\u001b[0;34m\u001b[0m\u001b[0;34m\u001b[0m\u001b[0m\n\u001b[1;32m    688\u001b[0m                                in product(candidate_params,\n\u001b[0;32m--> 689\u001b[0;31m                                           cv.split(X, y, groups)))\n\u001b[0m\u001b[1;32m    690\u001b[0m \u001b[0;34m\u001b[0m\u001b[0m\n\u001b[1;32m    691\u001b[0m                 \u001b[0;32mif\u001b[0m \u001b[0mlen\u001b[0m\u001b[0;34m(\u001b[0m\u001b[0mout\u001b[0m\u001b[0;34m)\u001b[0m \u001b[0;34m<\u001b[0m \u001b[0;36m1\u001b[0m\u001b[0;34m:\u001b[0m\u001b[0;34m\u001b[0m\u001b[0;34m\u001b[0m\u001b[0m\n",
            "\u001b[0;32m/usr/local/lib/python3.6/dist-packages/joblib/parallel.py\u001b[0m in \u001b[0;36m__call__\u001b[0;34m(self, iterable)\u001b[0m\n\u001b[1;32m   1005\u001b[0m                 \u001b[0mself\u001b[0m\u001b[0;34m.\u001b[0m\u001b[0m_iterating\u001b[0m \u001b[0;34m=\u001b[0m \u001b[0mself\u001b[0m\u001b[0;34m.\u001b[0m\u001b[0m_original_iterator\u001b[0m \u001b[0;32mis\u001b[0m \u001b[0;32mnot\u001b[0m \u001b[0;32mNone\u001b[0m\u001b[0;34m\u001b[0m\u001b[0;34m\u001b[0m\u001b[0m\n\u001b[1;32m   1006\u001b[0m \u001b[0;34m\u001b[0m\u001b[0m\n\u001b[0;32m-> 1007\u001b[0;31m             \u001b[0;32mwhile\u001b[0m \u001b[0mself\u001b[0m\u001b[0;34m.\u001b[0m\u001b[0mdispatch_one_batch\u001b[0m\u001b[0;34m(\u001b[0m\u001b[0miterator\u001b[0m\u001b[0;34m)\u001b[0m\u001b[0;34m:\u001b[0m\u001b[0;34m\u001b[0m\u001b[0;34m\u001b[0m\u001b[0m\n\u001b[0m\u001b[1;32m   1008\u001b[0m                 \u001b[0;32mpass\u001b[0m\u001b[0;34m\u001b[0m\u001b[0;34m\u001b[0m\u001b[0m\n\u001b[1;32m   1009\u001b[0m \u001b[0;34m\u001b[0m\u001b[0m\n",
            "\u001b[0;32m/usr/local/lib/python3.6/dist-packages/joblib/parallel.py\u001b[0m in \u001b[0;36mdispatch_one_batch\u001b[0;34m(self, iterator)\u001b[0m\n\u001b[1;32m    833\u001b[0m                 \u001b[0;32mreturn\u001b[0m \u001b[0;32mFalse\u001b[0m\u001b[0;34m\u001b[0m\u001b[0;34m\u001b[0m\u001b[0m\n\u001b[1;32m    834\u001b[0m             \u001b[0;32melse\u001b[0m\u001b[0;34m:\u001b[0m\u001b[0;34m\u001b[0m\u001b[0;34m\u001b[0m\u001b[0m\n\u001b[0;32m--> 835\u001b[0;31m                 \u001b[0mself\u001b[0m\u001b[0;34m.\u001b[0m\u001b[0m_dispatch\u001b[0m\u001b[0;34m(\u001b[0m\u001b[0mtasks\u001b[0m\u001b[0;34m)\u001b[0m\u001b[0;34m\u001b[0m\u001b[0;34m\u001b[0m\u001b[0m\n\u001b[0m\u001b[1;32m    836\u001b[0m                 \u001b[0;32mreturn\u001b[0m \u001b[0;32mTrue\u001b[0m\u001b[0;34m\u001b[0m\u001b[0;34m\u001b[0m\u001b[0m\n\u001b[1;32m    837\u001b[0m \u001b[0;34m\u001b[0m\u001b[0m\n",
            "\u001b[0;32m/usr/local/lib/python3.6/dist-packages/joblib/parallel.py\u001b[0m in \u001b[0;36m_dispatch\u001b[0;34m(self, batch)\u001b[0m\n\u001b[1;32m    752\u001b[0m         \u001b[0;32mwith\u001b[0m \u001b[0mself\u001b[0m\u001b[0;34m.\u001b[0m\u001b[0m_lock\u001b[0m\u001b[0;34m:\u001b[0m\u001b[0;34m\u001b[0m\u001b[0;34m\u001b[0m\u001b[0m\n\u001b[1;32m    753\u001b[0m             \u001b[0mjob_idx\u001b[0m \u001b[0;34m=\u001b[0m \u001b[0mlen\u001b[0m\u001b[0;34m(\u001b[0m\u001b[0mself\u001b[0m\u001b[0;34m.\u001b[0m\u001b[0m_jobs\u001b[0m\u001b[0;34m)\u001b[0m\u001b[0;34m\u001b[0m\u001b[0;34m\u001b[0m\u001b[0m\n\u001b[0;32m--> 754\u001b[0;31m             \u001b[0mjob\u001b[0m \u001b[0;34m=\u001b[0m \u001b[0mself\u001b[0m\u001b[0;34m.\u001b[0m\u001b[0m_backend\u001b[0m\u001b[0;34m.\u001b[0m\u001b[0mapply_async\u001b[0m\u001b[0;34m(\u001b[0m\u001b[0mbatch\u001b[0m\u001b[0;34m,\u001b[0m \u001b[0mcallback\u001b[0m\u001b[0;34m=\u001b[0m\u001b[0mcb\u001b[0m\u001b[0;34m)\u001b[0m\u001b[0;34m\u001b[0m\u001b[0;34m\u001b[0m\u001b[0m\n\u001b[0m\u001b[1;32m    755\u001b[0m             \u001b[0;31m# A job can complete so quickly than its callback is\u001b[0m\u001b[0;34m\u001b[0m\u001b[0;34m\u001b[0m\u001b[0;34m\u001b[0m\u001b[0m\n\u001b[1;32m    756\u001b[0m             \u001b[0;31m# called before we get here, causing self._jobs to\u001b[0m\u001b[0;34m\u001b[0m\u001b[0;34m\u001b[0m\u001b[0;34m\u001b[0m\u001b[0m\n",
            "\u001b[0;32m/usr/local/lib/python3.6/dist-packages/joblib/_parallel_backends.py\u001b[0m in \u001b[0;36mapply_async\u001b[0;34m(self, func, callback)\u001b[0m\n\u001b[1;32m    207\u001b[0m     \u001b[0;32mdef\u001b[0m \u001b[0mapply_async\u001b[0m\u001b[0;34m(\u001b[0m\u001b[0mself\u001b[0m\u001b[0;34m,\u001b[0m \u001b[0mfunc\u001b[0m\u001b[0;34m,\u001b[0m \u001b[0mcallback\u001b[0m\u001b[0;34m=\u001b[0m\u001b[0;32mNone\u001b[0m\u001b[0;34m)\u001b[0m\u001b[0;34m:\u001b[0m\u001b[0;34m\u001b[0m\u001b[0;34m\u001b[0m\u001b[0m\n\u001b[1;32m    208\u001b[0m         \u001b[0;34m\"\"\"Schedule a func to be run\"\"\"\u001b[0m\u001b[0;34m\u001b[0m\u001b[0;34m\u001b[0m\u001b[0m\n\u001b[0;32m--> 209\u001b[0;31m         \u001b[0mresult\u001b[0m \u001b[0;34m=\u001b[0m \u001b[0mImmediateResult\u001b[0m\u001b[0;34m(\u001b[0m\u001b[0mfunc\u001b[0m\u001b[0;34m)\u001b[0m\u001b[0;34m\u001b[0m\u001b[0;34m\u001b[0m\u001b[0m\n\u001b[0m\u001b[1;32m    210\u001b[0m         \u001b[0;32mif\u001b[0m \u001b[0mcallback\u001b[0m\u001b[0;34m:\u001b[0m\u001b[0;34m\u001b[0m\u001b[0;34m\u001b[0m\u001b[0m\n\u001b[1;32m    211\u001b[0m             \u001b[0mcallback\u001b[0m\u001b[0;34m(\u001b[0m\u001b[0mresult\u001b[0m\u001b[0;34m)\u001b[0m\u001b[0;34m\u001b[0m\u001b[0;34m\u001b[0m\u001b[0m\n",
            "\u001b[0;32m/usr/local/lib/python3.6/dist-packages/joblib/_parallel_backends.py\u001b[0m in \u001b[0;36m__init__\u001b[0;34m(self, batch)\u001b[0m\n\u001b[1;32m    588\u001b[0m         \u001b[0;31m# Don't delay the application, to avoid keeping the input\u001b[0m\u001b[0;34m\u001b[0m\u001b[0;34m\u001b[0m\u001b[0;34m\u001b[0m\u001b[0m\n\u001b[1;32m    589\u001b[0m         \u001b[0;31m# arguments in memory\u001b[0m\u001b[0;34m\u001b[0m\u001b[0;34m\u001b[0m\u001b[0;34m\u001b[0m\u001b[0m\n\u001b[0;32m--> 590\u001b[0;31m         \u001b[0mself\u001b[0m\u001b[0;34m.\u001b[0m\u001b[0mresults\u001b[0m \u001b[0;34m=\u001b[0m \u001b[0mbatch\u001b[0m\u001b[0;34m(\u001b[0m\u001b[0;34m)\u001b[0m\u001b[0;34m\u001b[0m\u001b[0;34m\u001b[0m\u001b[0m\n\u001b[0m\u001b[1;32m    591\u001b[0m \u001b[0;34m\u001b[0m\u001b[0m\n\u001b[1;32m    592\u001b[0m     \u001b[0;32mdef\u001b[0m \u001b[0mget\u001b[0m\u001b[0;34m(\u001b[0m\u001b[0mself\u001b[0m\u001b[0;34m)\u001b[0m\u001b[0;34m:\u001b[0m\u001b[0;34m\u001b[0m\u001b[0;34m\u001b[0m\u001b[0m\n",
            "\u001b[0;32m/usr/local/lib/python3.6/dist-packages/joblib/parallel.py\u001b[0m in \u001b[0;36m__call__\u001b[0;34m(self)\u001b[0m\n\u001b[1;32m    254\u001b[0m         \u001b[0;32mwith\u001b[0m \u001b[0mparallel_backend\u001b[0m\u001b[0;34m(\u001b[0m\u001b[0mself\u001b[0m\u001b[0;34m.\u001b[0m\u001b[0m_backend\u001b[0m\u001b[0;34m,\u001b[0m \u001b[0mn_jobs\u001b[0m\u001b[0;34m=\u001b[0m\u001b[0mself\u001b[0m\u001b[0;34m.\u001b[0m\u001b[0m_n_jobs\u001b[0m\u001b[0;34m)\u001b[0m\u001b[0;34m:\u001b[0m\u001b[0;34m\u001b[0m\u001b[0;34m\u001b[0m\u001b[0m\n\u001b[1;32m    255\u001b[0m             return [func(*args, **kwargs)\n\u001b[0;32m--> 256\u001b[0;31m                     for func, args, kwargs in self.items]\n\u001b[0m\u001b[1;32m    257\u001b[0m \u001b[0;34m\u001b[0m\u001b[0m\n\u001b[1;32m    258\u001b[0m     \u001b[0;32mdef\u001b[0m \u001b[0m__len__\u001b[0m\u001b[0;34m(\u001b[0m\u001b[0mself\u001b[0m\u001b[0;34m)\u001b[0m\u001b[0;34m:\u001b[0m\u001b[0;34m\u001b[0m\u001b[0;34m\u001b[0m\u001b[0m\n",
            "\u001b[0;32m/usr/local/lib/python3.6/dist-packages/joblib/parallel.py\u001b[0m in \u001b[0;36m<listcomp>\u001b[0;34m(.0)\u001b[0m\n\u001b[1;32m    254\u001b[0m         \u001b[0;32mwith\u001b[0m \u001b[0mparallel_backend\u001b[0m\u001b[0;34m(\u001b[0m\u001b[0mself\u001b[0m\u001b[0;34m.\u001b[0m\u001b[0m_backend\u001b[0m\u001b[0;34m,\u001b[0m \u001b[0mn_jobs\u001b[0m\u001b[0;34m=\u001b[0m\u001b[0mself\u001b[0m\u001b[0;34m.\u001b[0m\u001b[0m_n_jobs\u001b[0m\u001b[0;34m)\u001b[0m\u001b[0;34m:\u001b[0m\u001b[0;34m\u001b[0m\u001b[0;34m\u001b[0m\u001b[0m\n\u001b[1;32m    255\u001b[0m             return [func(*args, **kwargs)\n\u001b[0;32m--> 256\u001b[0;31m                     for func, args, kwargs in self.items]\n\u001b[0m\u001b[1;32m    257\u001b[0m \u001b[0;34m\u001b[0m\u001b[0m\n\u001b[1;32m    258\u001b[0m     \u001b[0;32mdef\u001b[0m \u001b[0m__len__\u001b[0m\u001b[0;34m(\u001b[0m\u001b[0mself\u001b[0m\u001b[0;34m)\u001b[0m\u001b[0;34m:\u001b[0m\u001b[0;34m\u001b[0m\u001b[0;34m\u001b[0m\u001b[0m\n",
            "\u001b[0;32m/usr/local/lib/python3.6/dist-packages/sklearn/model_selection/_validation.py\u001b[0m in \u001b[0;36m_fit_and_score\u001b[0;34m(estimator, X, y, scorer, train, test, verbose, parameters, fit_params, return_train_score, return_parameters, return_n_test_samples, return_times, return_estimator, error_score)\u001b[0m\n\u001b[1;32m    513\u001b[0m             \u001b[0mestimator\u001b[0m\u001b[0;34m.\u001b[0m\u001b[0mfit\u001b[0m\u001b[0;34m(\u001b[0m\u001b[0mX_train\u001b[0m\u001b[0;34m,\u001b[0m \u001b[0;34m**\u001b[0m\u001b[0mfit_params\u001b[0m\u001b[0;34m)\u001b[0m\u001b[0;34m\u001b[0m\u001b[0;34m\u001b[0m\u001b[0m\n\u001b[1;32m    514\u001b[0m         \u001b[0;32melse\u001b[0m\u001b[0;34m:\u001b[0m\u001b[0;34m\u001b[0m\u001b[0;34m\u001b[0m\u001b[0m\n\u001b[0;32m--> 515\u001b[0;31m             \u001b[0mestimator\u001b[0m\u001b[0;34m.\u001b[0m\u001b[0mfit\u001b[0m\u001b[0;34m(\u001b[0m\u001b[0mX_train\u001b[0m\u001b[0;34m,\u001b[0m \u001b[0my_train\u001b[0m\u001b[0;34m,\u001b[0m \u001b[0;34m**\u001b[0m\u001b[0mfit_params\u001b[0m\u001b[0;34m)\u001b[0m\u001b[0;34m\u001b[0m\u001b[0;34m\u001b[0m\u001b[0m\n\u001b[0m\u001b[1;32m    516\u001b[0m \u001b[0;34m\u001b[0m\u001b[0m\n\u001b[1;32m    517\u001b[0m     \u001b[0;32mexcept\u001b[0m \u001b[0mException\u001b[0m \u001b[0;32mas\u001b[0m \u001b[0me\u001b[0m\u001b[0;34m:\u001b[0m\u001b[0;34m\u001b[0m\u001b[0;34m\u001b[0m\u001b[0m\n",
            "\u001b[0;32m/usr/local/lib/python3.6/dist-packages/sklearn/ensemble/_forest.py\u001b[0m in \u001b[0;36mfit\u001b[0;34m(self, X, y, sample_weight)\u001b[0m\n\u001b[1;32m    381\u001b[0m                     \u001b[0mverbose\u001b[0m\u001b[0;34m=\u001b[0m\u001b[0mself\u001b[0m\u001b[0;34m.\u001b[0m\u001b[0mverbose\u001b[0m\u001b[0;34m,\u001b[0m \u001b[0mclass_weight\u001b[0m\u001b[0;34m=\u001b[0m\u001b[0mself\u001b[0m\u001b[0;34m.\u001b[0m\u001b[0mclass_weight\u001b[0m\u001b[0;34m,\u001b[0m\u001b[0;34m\u001b[0m\u001b[0;34m\u001b[0m\u001b[0m\n\u001b[1;32m    382\u001b[0m                     n_samples_bootstrap=n_samples_bootstrap)\n\u001b[0;32m--> 383\u001b[0;31m                 for i, t in enumerate(trees))\n\u001b[0m\u001b[1;32m    384\u001b[0m \u001b[0;34m\u001b[0m\u001b[0m\n\u001b[1;32m    385\u001b[0m             \u001b[0;31m# Collect newly grown trees\u001b[0m\u001b[0;34m\u001b[0m\u001b[0;34m\u001b[0m\u001b[0;34m\u001b[0m\u001b[0m\n",
            "\u001b[0;32m/usr/local/lib/python3.6/dist-packages/joblib/parallel.py\u001b[0m in \u001b[0;36m__call__\u001b[0;34m(self, iterable)\u001b[0m\n\u001b[1;32m   1005\u001b[0m                 \u001b[0mself\u001b[0m\u001b[0;34m.\u001b[0m\u001b[0m_iterating\u001b[0m \u001b[0;34m=\u001b[0m \u001b[0mself\u001b[0m\u001b[0;34m.\u001b[0m\u001b[0m_original_iterator\u001b[0m \u001b[0;32mis\u001b[0m \u001b[0;32mnot\u001b[0m \u001b[0;32mNone\u001b[0m\u001b[0;34m\u001b[0m\u001b[0;34m\u001b[0m\u001b[0m\n\u001b[1;32m   1006\u001b[0m \u001b[0;34m\u001b[0m\u001b[0m\n\u001b[0;32m-> 1007\u001b[0;31m             \u001b[0;32mwhile\u001b[0m \u001b[0mself\u001b[0m\u001b[0;34m.\u001b[0m\u001b[0mdispatch_one_batch\u001b[0m\u001b[0;34m(\u001b[0m\u001b[0miterator\u001b[0m\u001b[0;34m)\u001b[0m\u001b[0;34m:\u001b[0m\u001b[0;34m\u001b[0m\u001b[0;34m\u001b[0m\u001b[0m\n\u001b[0m\u001b[1;32m   1008\u001b[0m                 \u001b[0;32mpass\u001b[0m\u001b[0;34m\u001b[0m\u001b[0;34m\u001b[0m\u001b[0m\n\u001b[1;32m   1009\u001b[0m \u001b[0;34m\u001b[0m\u001b[0m\n",
            "\u001b[0;32m/usr/local/lib/python3.6/dist-packages/joblib/parallel.py\u001b[0m in \u001b[0;36mdispatch_one_batch\u001b[0;34m(self, iterator)\u001b[0m\n\u001b[1;32m    833\u001b[0m                 \u001b[0;32mreturn\u001b[0m \u001b[0;32mFalse\u001b[0m\u001b[0;34m\u001b[0m\u001b[0;34m\u001b[0m\u001b[0m\n\u001b[1;32m    834\u001b[0m             \u001b[0;32melse\u001b[0m\u001b[0;34m:\u001b[0m\u001b[0;34m\u001b[0m\u001b[0;34m\u001b[0m\u001b[0m\n\u001b[0;32m--> 835\u001b[0;31m                 \u001b[0mself\u001b[0m\u001b[0;34m.\u001b[0m\u001b[0m_dispatch\u001b[0m\u001b[0;34m(\u001b[0m\u001b[0mtasks\u001b[0m\u001b[0;34m)\u001b[0m\u001b[0;34m\u001b[0m\u001b[0;34m\u001b[0m\u001b[0m\n\u001b[0m\u001b[1;32m    836\u001b[0m                 \u001b[0;32mreturn\u001b[0m \u001b[0;32mTrue\u001b[0m\u001b[0;34m\u001b[0m\u001b[0;34m\u001b[0m\u001b[0m\n\u001b[1;32m    837\u001b[0m \u001b[0;34m\u001b[0m\u001b[0m\n",
            "\u001b[0;32m/usr/local/lib/python3.6/dist-packages/joblib/parallel.py\u001b[0m in \u001b[0;36m_dispatch\u001b[0;34m(self, batch)\u001b[0m\n\u001b[1;32m    752\u001b[0m         \u001b[0;32mwith\u001b[0m \u001b[0mself\u001b[0m\u001b[0;34m.\u001b[0m\u001b[0m_lock\u001b[0m\u001b[0;34m:\u001b[0m\u001b[0;34m\u001b[0m\u001b[0;34m\u001b[0m\u001b[0m\n\u001b[1;32m    753\u001b[0m             \u001b[0mjob_idx\u001b[0m \u001b[0;34m=\u001b[0m \u001b[0mlen\u001b[0m\u001b[0;34m(\u001b[0m\u001b[0mself\u001b[0m\u001b[0;34m.\u001b[0m\u001b[0m_jobs\u001b[0m\u001b[0;34m)\u001b[0m\u001b[0;34m\u001b[0m\u001b[0;34m\u001b[0m\u001b[0m\n\u001b[0;32m--> 754\u001b[0;31m             \u001b[0mjob\u001b[0m \u001b[0;34m=\u001b[0m \u001b[0mself\u001b[0m\u001b[0;34m.\u001b[0m\u001b[0m_backend\u001b[0m\u001b[0;34m.\u001b[0m\u001b[0mapply_async\u001b[0m\u001b[0;34m(\u001b[0m\u001b[0mbatch\u001b[0m\u001b[0;34m,\u001b[0m \u001b[0mcallback\u001b[0m\u001b[0;34m=\u001b[0m\u001b[0mcb\u001b[0m\u001b[0;34m)\u001b[0m\u001b[0;34m\u001b[0m\u001b[0;34m\u001b[0m\u001b[0m\n\u001b[0m\u001b[1;32m    755\u001b[0m             \u001b[0;31m# A job can complete so quickly than its callback is\u001b[0m\u001b[0;34m\u001b[0m\u001b[0;34m\u001b[0m\u001b[0;34m\u001b[0m\u001b[0m\n\u001b[1;32m    756\u001b[0m             \u001b[0;31m# called before we get here, causing self._jobs to\u001b[0m\u001b[0;34m\u001b[0m\u001b[0;34m\u001b[0m\u001b[0;34m\u001b[0m\u001b[0m\n",
            "\u001b[0;32m/usr/local/lib/python3.6/dist-packages/joblib/_parallel_backends.py\u001b[0m in \u001b[0;36mapply_async\u001b[0;34m(self, func, callback)\u001b[0m\n\u001b[1;32m    207\u001b[0m     \u001b[0;32mdef\u001b[0m \u001b[0mapply_async\u001b[0m\u001b[0;34m(\u001b[0m\u001b[0mself\u001b[0m\u001b[0;34m,\u001b[0m \u001b[0mfunc\u001b[0m\u001b[0;34m,\u001b[0m \u001b[0mcallback\u001b[0m\u001b[0;34m=\u001b[0m\u001b[0;32mNone\u001b[0m\u001b[0;34m)\u001b[0m\u001b[0;34m:\u001b[0m\u001b[0;34m\u001b[0m\u001b[0;34m\u001b[0m\u001b[0m\n\u001b[1;32m    208\u001b[0m         \u001b[0;34m\"\"\"Schedule a func to be run\"\"\"\u001b[0m\u001b[0;34m\u001b[0m\u001b[0;34m\u001b[0m\u001b[0m\n\u001b[0;32m--> 209\u001b[0;31m         \u001b[0mresult\u001b[0m \u001b[0;34m=\u001b[0m \u001b[0mImmediateResult\u001b[0m\u001b[0;34m(\u001b[0m\u001b[0mfunc\u001b[0m\u001b[0;34m)\u001b[0m\u001b[0;34m\u001b[0m\u001b[0;34m\u001b[0m\u001b[0m\n\u001b[0m\u001b[1;32m    210\u001b[0m         \u001b[0;32mif\u001b[0m \u001b[0mcallback\u001b[0m\u001b[0;34m:\u001b[0m\u001b[0;34m\u001b[0m\u001b[0;34m\u001b[0m\u001b[0m\n\u001b[1;32m    211\u001b[0m             \u001b[0mcallback\u001b[0m\u001b[0;34m(\u001b[0m\u001b[0mresult\u001b[0m\u001b[0;34m)\u001b[0m\u001b[0;34m\u001b[0m\u001b[0;34m\u001b[0m\u001b[0m\n",
            "\u001b[0;32m/usr/local/lib/python3.6/dist-packages/joblib/_parallel_backends.py\u001b[0m in \u001b[0;36m__init__\u001b[0;34m(self, batch)\u001b[0m\n\u001b[1;32m    588\u001b[0m         \u001b[0;31m# Don't delay the application, to avoid keeping the input\u001b[0m\u001b[0;34m\u001b[0m\u001b[0;34m\u001b[0m\u001b[0;34m\u001b[0m\u001b[0m\n\u001b[1;32m    589\u001b[0m         \u001b[0;31m# arguments in memory\u001b[0m\u001b[0;34m\u001b[0m\u001b[0;34m\u001b[0m\u001b[0;34m\u001b[0m\u001b[0m\n\u001b[0;32m--> 590\u001b[0;31m         \u001b[0mself\u001b[0m\u001b[0;34m.\u001b[0m\u001b[0mresults\u001b[0m \u001b[0;34m=\u001b[0m \u001b[0mbatch\u001b[0m\u001b[0;34m(\u001b[0m\u001b[0;34m)\u001b[0m\u001b[0;34m\u001b[0m\u001b[0;34m\u001b[0m\u001b[0m\n\u001b[0m\u001b[1;32m    591\u001b[0m \u001b[0;34m\u001b[0m\u001b[0m\n\u001b[1;32m    592\u001b[0m     \u001b[0;32mdef\u001b[0m \u001b[0mget\u001b[0m\u001b[0;34m(\u001b[0m\u001b[0mself\u001b[0m\u001b[0;34m)\u001b[0m\u001b[0;34m:\u001b[0m\u001b[0;34m\u001b[0m\u001b[0;34m\u001b[0m\u001b[0m\n",
            "\u001b[0;32m/usr/local/lib/python3.6/dist-packages/joblib/parallel.py\u001b[0m in \u001b[0;36m__call__\u001b[0;34m(self)\u001b[0m\n\u001b[1;32m    254\u001b[0m         \u001b[0;32mwith\u001b[0m \u001b[0mparallel_backend\u001b[0m\u001b[0;34m(\u001b[0m\u001b[0mself\u001b[0m\u001b[0;34m.\u001b[0m\u001b[0m_backend\u001b[0m\u001b[0;34m,\u001b[0m \u001b[0mn_jobs\u001b[0m\u001b[0;34m=\u001b[0m\u001b[0mself\u001b[0m\u001b[0;34m.\u001b[0m\u001b[0m_n_jobs\u001b[0m\u001b[0;34m)\u001b[0m\u001b[0;34m:\u001b[0m\u001b[0;34m\u001b[0m\u001b[0;34m\u001b[0m\u001b[0m\n\u001b[1;32m    255\u001b[0m             return [func(*args, **kwargs)\n\u001b[0;32m--> 256\u001b[0;31m                     for func, args, kwargs in self.items]\n\u001b[0m\u001b[1;32m    257\u001b[0m \u001b[0;34m\u001b[0m\u001b[0m\n\u001b[1;32m    258\u001b[0m     \u001b[0;32mdef\u001b[0m \u001b[0m__len__\u001b[0m\u001b[0;34m(\u001b[0m\u001b[0mself\u001b[0m\u001b[0;34m)\u001b[0m\u001b[0;34m:\u001b[0m\u001b[0;34m\u001b[0m\u001b[0;34m\u001b[0m\u001b[0m\n",
            "\u001b[0;32m/usr/local/lib/python3.6/dist-packages/joblib/parallel.py\u001b[0m in \u001b[0;36m<listcomp>\u001b[0;34m(.0)\u001b[0m\n\u001b[1;32m    254\u001b[0m         \u001b[0;32mwith\u001b[0m \u001b[0mparallel_backend\u001b[0m\u001b[0;34m(\u001b[0m\u001b[0mself\u001b[0m\u001b[0;34m.\u001b[0m\u001b[0m_backend\u001b[0m\u001b[0;34m,\u001b[0m \u001b[0mn_jobs\u001b[0m\u001b[0;34m=\u001b[0m\u001b[0mself\u001b[0m\u001b[0;34m.\u001b[0m\u001b[0m_n_jobs\u001b[0m\u001b[0;34m)\u001b[0m\u001b[0;34m:\u001b[0m\u001b[0;34m\u001b[0m\u001b[0;34m\u001b[0m\u001b[0m\n\u001b[1;32m    255\u001b[0m             return [func(*args, **kwargs)\n\u001b[0;32m--> 256\u001b[0;31m                     for func, args, kwargs in self.items]\n\u001b[0m\u001b[1;32m    257\u001b[0m \u001b[0;34m\u001b[0m\u001b[0m\n\u001b[1;32m    258\u001b[0m     \u001b[0;32mdef\u001b[0m \u001b[0m__len__\u001b[0m\u001b[0;34m(\u001b[0m\u001b[0mself\u001b[0m\u001b[0;34m)\u001b[0m\u001b[0;34m:\u001b[0m\u001b[0;34m\u001b[0m\u001b[0;34m\u001b[0m\u001b[0m\n",
            "\u001b[0;32m/usr/local/lib/python3.6/dist-packages/sklearn/ensemble/_forest.py\u001b[0m in \u001b[0;36m_parallel_build_trees\u001b[0;34m(tree, forest, X, y, sample_weight, tree_idx, n_trees, verbose, class_weight, n_samples_bootstrap)\u001b[0m\n\u001b[1;32m    165\u001b[0m         \u001b[0mtree\u001b[0m\u001b[0;34m.\u001b[0m\u001b[0mfit\u001b[0m\u001b[0;34m(\u001b[0m\u001b[0mX\u001b[0m\u001b[0;34m,\u001b[0m \u001b[0my\u001b[0m\u001b[0;34m,\u001b[0m \u001b[0msample_weight\u001b[0m\u001b[0;34m=\u001b[0m\u001b[0mcurr_sample_weight\u001b[0m\u001b[0;34m,\u001b[0m \u001b[0mcheck_input\u001b[0m\u001b[0;34m=\u001b[0m\u001b[0;32mFalse\u001b[0m\u001b[0;34m)\u001b[0m\u001b[0;34m\u001b[0m\u001b[0;34m\u001b[0m\u001b[0m\n\u001b[1;32m    166\u001b[0m     \u001b[0;32melse\u001b[0m\u001b[0;34m:\u001b[0m\u001b[0;34m\u001b[0m\u001b[0;34m\u001b[0m\u001b[0m\n\u001b[0;32m--> 167\u001b[0;31m         \u001b[0mtree\u001b[0m\u001b[0;34m.\u001b[0m\u001b[0mfit\u001b[0m\u001b[0;34m(\u001b[0m\u001b[0mX\u001b[0m\u001b[0;34m,\u001b[0m \u001b[0my\u001b[0m\u001b[0;34m,\u001b[0m \u001b[0msample_weight\u001b[0m\u001b[0;34m=\u001b[0m\u001b[0msample_weight\u001b[0m\u001b[0;34m,\u001b[0m \u001b[0mcheck_input\u001b[0m\u001b[0;34m=\u001b[0m\u001b[0;32mFalse\u001b[0m\u001b[0;34m)\u001b[0m\u001b[0;34m\u001b[0m\u001b[0;34m\u001b[0m\u001b[0m\n\u001b[0m\u001b[1;32m    168\u001b[0m \u001b[0;34m\u001b[0m\u001b[0m\n\u001b[1;32m    169\u001b[0m     \u001b[0;32mreturn\u001b[0m \u001b[0mtree\u001b[0m\u001b[0;34m\u001b[0m\u001b[0;34m\u001b[0m\u001b[0m\n",
            "\u001b[0;32m/usr/local/lib/python3.6/dist-packages/sklearn/tree/_classes.py\u001b[0m in \u001b[0;36mfit\u001b[0;34m(self, X, y, sample_weight, check_input, X_idx_sorted)\u001b[0m\n\u001b[1;32m    875\u001b[0m             \u001b[0msample_weight\u001b[0m\u001b[0;34m=\u001b[0m\u001b[0msample_weight\u001b[0m\u001b[0;34m,\u001b[0m\u001b[0;34m\u001b[0m\u001b[0;34m\u001b[0m\u001b[0m\n\u001b[1;32m    876\u001b[0m             \u001b[0mcheck_input\u001b[0m\u001b[0;34m=\u001b[0m\u001b[0mcheck_input\u001b[0m\u001b[0;34m,\u001b[0m\u001b[0;34m\u001b[0m\u001b[0;34m\u001b[0m\u001b[0m\n\u001b[0;32m--> 877\u001b[0;31m             X_idx_sorted=X_idx_sorted)\n\u001b[0m\u001b[1;32m    878\u001b[0m         \u001b[0;32mreturn\u001b[0m \u001b[0mself\u001b[0m\u001b[0;34m\u001b[0m\u001b[0;34m\u001b[0m\u001b[0m\n\u001b[1;32m    879\u001b[0m \u001b[0;34m\u001b[0m\u001b[0m\n",
            "\u001b[0;32m/usr/local/lib/python3.6/dist-packages/sklearn/tree/_classes.py\u001b[0m in \u001b[0;36mfit\u001b[0;34m(self, X, y, sample_weight, check_input, X_idx_sorted)\u001b[0m\n\u001b[1;32m    365\u001b[0m                                            min_impurity_split)\n\u001b[1;32m    366\u001b[0m \u001b[0;34m\u001b[0m\u001b[0m\n\u001b[0;32m--> 367\u001b[0;31m         \u001b[0mbuilder\u001b[0m\u001b[0;34m.\u001b[0m\u001b[0mbuild\u001b[0m\u001b[0;34m(\u001b[0m\u001b[0mself\u001b[0m\u001b[0;34m.\u001b[0m\u001b[0mtree_\u001b[0m\u001b[0;34m,\u001b[0m \u001b[0mX\u001b[0m\u001b[0;34m,\u001b[0m \u001b[0my\u001b[0m\u001b[0;34m,\u001b[0m \u001b[0msample_weight\u001b[0m\u001b[0;34m,\u001b[0m \u001b[0mX_idx_sorted\u001b[0m\u001b[0;34m)\u001b[0m\u001b[0;34m\u001b[0m\u001b[0;34m\u001b[0m\u001b[0m\n\u001b[0m\u001b[1;32m    368\u001b[0m \u001b[0;34m\u001b[0m\u001b[0m\n\u001b[1;32m    369\u001b[0m         \u001b[0;32mif\u001b[0m \u001b[0mself\u001b[0m\u001b[0;34m.\u001b[0m\u001b[0mn_outputs_\u001b[0m \u001b[0;34m==\u001b[0m \u001b[0;36m1\u001b[0m \u001b[0;32mand\u001b[0m \u001b[0mis_classifier\u001b[0m\u001b[0;34m(\u001b[0m\u001b[0mself\u001b[0m\u001b[0;34m)\u001b[0m\u001b[0;34m:\u001b[0m\u001b[0;34m\u001b[0m\u001b[0;34m\u001b[0m\u001b[0m\n",
            "\u001b[0;31mKeyboardInterrupt\u001b[0m: "
          ]
        }
      ]
    },
    {
      "cell_type": "code",
      "metadata": {
        "id": "91QV1MqFPwSO",
        "colab_type": "code",
        "outputId": "08aaf251-1581-48d6-b15b-080f56ac4d57",
        "colab": {
          "base_uri": "https://localhost:8080/",
          "height": 455
        }
      },
      "source": [
        "data_tf"
      ],
      "execution_count": 0,
      "outputs": [
        {
          "output_type": "execute_result",
          "data": {
            "text/html": [
              "<div>\n",
              "<style scoped>\n",
              "    .dataframe tbody tr th:only-of-type {\n",
              "        vertical-align: middle;\n",
              "    }\n",
              "\n",
              "    .dataframe tbody tr th {\n",
              "        vertical-align: top;\n",
              "    }\n",
              "\n",
              "    .dataframe thead th {\n",
              "        text-align: right;\n",
              "    }\n",
              "</style>\n",
              "<table border=\"1\" class=\"dataframe\">\n",
              "  <thead>\n",
              "    <tr style=\"text-align: right;\">\n",
              "      <th></th>\n",
              "      <th>client_id</th>\n",
              "      <th>course</th>\n",
              "      <th>subject</th>\n",
              "      <th>type_of_material</th>\n",
              "      <th>editorial_groupold</th>\n",
              "      <th>language</th>\n",
              "      <th>media</th>\n",
              "      <th>Variable1old</th>\n",
              "      <th>Variable2old</th>\n",
              "      <th>Variable1new</th>\n",
              "      <th>Variable2new</th>\n",
              "      <th>target</th>\n",
              "      <th>oldcost</th>\n",
              "      <th>newcost</th>\n",
              "      <th>Latitude</th>\n",
              "      <th>Longitude</th>\n",
              "      <th>Comunidad Autónoma_Comunidad Valenciana</th>\n",
              "      <th>Comunidad Autónoma_Islas Canarias</th>\n",
              "      <th>Comunidad Autónoma_La Rioja</th>\n",
              "      <th>Comunidad Autónoma_Madrid</th>\n",
              "      <th>Comunidad Autónoma_Navarra</th>\n",
              "      <th>Comunidad Autónoma_País Vasco</th>\n",
              "      <th>Titularidad_Católico</th>\n",
              "      <th>Titularidad_Privado</th>\n",
              "      <th>Titularidad_Público</th>\n",
              "      <th>cluster</th>\n",
              "    </tr>\n",
              "  </thead>\n",
              "  <tbody>\n",
              "    <tr>\n",
              "      <th>0</th>\n",
              "      <td>113958</td>\n",
              "      <td>2</td>\n",
              "      <td>65</td>\n",
              "      <td>3</td>\n",
              "      <td>31</td>\n",
              "      <td>26</td>\n",
              "      <td>1</td>\n",
              "      <td>16.0</td>\n",
              "      <td>70.72</td>\n",
              "      <td>18.0</td>\n",
              "      <td>79.92</td>\n",
              "      <td>False</td>\n",
              "      <td>4.42</td>\n",
              "      <td>4.44</td>\n",
              "      <td>42.853774</td>\n",
              "      <td>-2.391622</td>\n",
              "      <td>0</td>\n",
              "      <td>0</td>\n",
              "      <td>0</td>\n",
              "      <td>0</td>\n",
              "      <td>0</td>\n",
              "      <td>1</td>\n",
              "      <td>0</td>\n",
              "      <td>1</td>\n",
              "      <td>0</td>\n",
              "      <td>3</td>\n",
              "    </tr>\n",
              "    <tr>\n",
              "      <th>1</th>\n",
              "      <td>113958</td>\n",
              "      <td>2</td>\n",
              "      <td>65</td>\n",
              "      <td>3</td>\n",
              "      <td>31</td>\n",
              "      <td>26</td>\n",
              "      <td>1</td>\n",
              "      <td>18.0</td>\n",
              "      <td>79.56</td>\n",
              "      <td>27.0</td>\n",
              "      <td>119.88</td>\n",
              "      <td>False</td>\n",
              "      <td>4.42</td>\n",
              "      <td>4.44</td>\n",
              "      <td>42.853774</td>\n",
              "      <td>-2.391622</td>\n",
              "      <td>0</td>\n",
              "      <td>0</td>\n",
              "      <td>0</td>\n",
              "      <td>0</td>\n",
              "      <td>0</td>\n",
              "      <td>1</td>\n",
              "      <td>0</td>\n",
              "      <td>1</td>\n",
              "      <td>0</td>\n",
              "      <td>3</td>\n",
              "    </tr>\n",
              "    <tr>\n",
              "      <th>2</th>\n",
              "      <td>113958</td>\n",
              "      <td>2</td>\n",
              "      <td>65</td>\n",
              "      <td>3</td>\n",
              "      <td>31</td>\n",
              "      <td>26</td>\n",
              "      <td>1</td>\n",
              "      <td>22.0</td>\n",
              "      <td>97.24</td>\n",
              "      <td>17.0</td>\n",
              "      <td>86.70</td>\n",
              "      <td>False</td>\n",
              "      <td>4.42</td>\n",
              "      <td>5.10</td>\n",
              "      <td>42.853774</td>\n",
              "      <td>-2.391622</td>\n",
              "      <td>0</td>\n",
              "      <td>0</td>\n",
              "      <td>0</td>\n",
              "      <td>0</td>\n",
              "      <td>0</td>\n",
              "      <td>1</td>\n",
              "      <td>0</td>\n",
              "      <td>1</td>\n",
              "      <td>0</td>\n",
              "      <td>3</td>\n",
              "    </tr>\n",
              "    <tr>\n",
              "      <th>3</th>\n",
              "      <td>113958</td>\n",
              "      <td>2</td>\n",
              "      <td>65</td>\n",
              "      <td>3</td>\n",
              "      <td>31</td>\n",
              "      <td>26</td>\n",
              "      <td>1</td>\n",
              "      <td>18.0</td>\n",
              "      <td>79.56</td>\n",
              "      <td>22.0</td>\n",
              "      <td>112.64</td>\n",
              "      <td>False</td>\n",
              "      <td>4.42</td>\n",
              "      <td>5.12</td>\n",
              "      <td>42.853774</td>\n",
              "      <td>-2.391622</td>\n",
              "      <td>0</td>\n",
              "      <td>0</td>\n",
              "      <td>0</td>\n",
              "      <td>0</td>\n",
              "      <td>0</td>\n",
              "      <td>1</td>\n",
              "      <td>0</td>\n",
              "      <td>1</td>\n",
              "      <td>0</td>\n",
              "      <td>3</td>\n",
              "    </tr>\n",
              "    <tr>\n",
              "      <th>4</th>\n",
              "      <td>113958</td>\n",
              "      <td>2</td>\n",
              "      <td>65</td>\n",
              "      <td>3</td>\n",
              "      <td>31</td>\n",
              "      <td>26</td>\n",
              "      <td>1</td>\n",
              "      <td>17.0</td>\n",
              "      <td>75.82</td>\n",
              "      <td>18.0</td>\n",
              "      <td>93.24</td>\n",
              "      <td>False</td>\n",
              "      <td>4.46</td>\n",
              "      <td>5.18</td>\n",
              "      <td>42.853774</td>\n",
              "      <td>-2.391622</td>\n",
              "      <td>0</td>\n",
              "      <td>0</td>\n",
              "      <td>0</td>\n",
              "      <td>0</td>\n",
              "      <td>0</td>\n",
              "      <td>1</td>\n",
              "      <td>0</td>\n",
              "      <td>1</td>\n",
              "      <td>0</td>\n",
              "      <td>3</td>\n",
              "    </tr>\n",
              "    <tr>\n",
              "      <th>...</th>\n",
              "      <td>...</td>\n",
              "      <td>...</td>\n",
              "      <td>...</td>\n",
              "      <td>...</td>\n",
              "      <td>...</td>\n",
              "      <td>...</td>\n",
              "      <td>...</td>\n",
              "      <td>...</td>\n",
              "      <td>...</td>\n",
              "      <td>...</td>\n",
              "      <td>...</td>\n",
              "      <td>...</td>\n",
              "      <td>...</td>\n",
              "      <td>...</td>\n",
              "      <td>...</td>\n",
              "      <td>...</td>\n",
              "      <td>...</td>\n",
              "      <td>...</td>\n",
              "      <td>...</td>\n",
              "      <td>...</td>\n",
              "      <td>...</td>\n",
              "      <td>...</td>\n",
              "      <td>...</td>\n",
              "      <td>...</td>\n",
              "      <td>...</td>\n",
              "      <td>...</td>\n",
              "    </tr>\n",
              "    <tr>\n",
              "      <th>726906</th>\n",
              "      <td>202329</td>\n",
              "      <td>1</td>\n",
              "      <td>41</td>\n",
              "      <td>2</td>\n",
              "      <td>1</td>\n",
              "      <td>10</td>\n",
              "      <td>1</td>\n",
              "      <td>14.0</td>\n",
              "      <td>128.52</td>\n",
              "      <td>14.0</td>\n",
              "      <td>128.52</td>\n",
              "      <td>False</td>\n",
              "      <td>9.18</td>\n",
              "      <td>9.18</td>\n",
              "      <td>42.433621</td>\n",
              "      <td>1.928017</td>\n",
              "      <td>0</td>\n",
              "      <td>0</td>\n",
              "      <td>0</td>\n",
              "      <td>0</td>\n",
              "      <td>0</td>\n",
              "      <td>0</td>\n",
              "      <td>0</td>\n",
              "      <td>0</td>\n",
              "      <td>1</td>\n",
              "      <td>2</td>\n",
              "    </tr>\n",
              "    <tr>\n",
              "      <th>726907</th>\n",
              "      <td>202329</td>\n",
              "      <td>1</td>\n",
              "      <td>41</td>\n",
              "      <td>2</td>\n",
              "      <td>1</td>\n",
              "      <td>10</td>\n",
              "      <td>1</td>\n",
              "      <td>21.0</td>\n",
              "      <td>177.66</td>\n",
              "      <td>21.0</td>\n",
              "      <td>177.66</td>\n",
              "      <td>False</td>\n",
              "      <td>8.46</td>\n",
              "      <td>8.46</td>\n",
              "      <td>42.433621</td>\n",
              "      <td>1.928017</td>\n",
              "      <td>0</td>\n",
              "      <td>0</td>\n",
              "      <td>0</td>\n",
              "      <td>0</td>\n",
              "      <td>0</td>\n",
              "      <td>0</td>\n",
              "      <td>0</td>\n",
              "      <td>0</td>\n",
              "      <td>1</td>\n",
              "      <td>2</td>\n",
              "    </tr>\n",
              "    <tr>\n",
              "      <th>726908</th>\n",
              "      <td>202329</td>\n",
              "      <td>1</td>\n",
              "      <td>41</td>\n",
              "      <td>2</td>\n",
              "      <td>1</td>\n",
              "      <td>10</td>\n",
              "      <td>1</td>\n",
              "      <td>17.0</td>\n",
              "      <td>156.06</td>\n",
              "      <td>17.0</td>\n",
              "      <td>156.06</td>\n",
              "      <td>False</td>\n",
              "      <td>9.18</td>\n",
              "      <td>9.18</td>\n",
              "      <td>42.433621</td>\n",
              "      <td>1.928017</td>\n",
              "      <td>0</td>\n",
              "      <td>0</td>\n",
              "      <td>0</td>\n",
              "      <td>0</td>\n",
              "      <td>0</td>\n",
              "      <td>0</td>\n",
              "      <td>0</td>\n",
              "      <td>0</td>\n",
              "      <td>1</td>\n",
              "      <td>2</td>\n",
              "    </tr>\n",
              "    <tr>\n",
              "      <th>726909</th>\n",
              "      <td>190082</td>\n",
              "      <td>2</td>\n",
              "      <td>87</td>\n",
              "      <td>2</td>\n",
              "      <td>1</td>\n",
              "      <td>13</td>\n",
              "      <td>1</td>\n",
              "      <td>46.0</td>\n",
              "      <td>529.00</td>\n",
              "      <td>46.0</td>\n",
              "      <td>529.00</td>\n",
              "      <td>False</td>\n",
              "      <td>11.50</td>\n",
              "      <td>11.50</td>\n",
              "      <td>42.054154</td>\n",
              "      <td>2.264484</td>\n",
              "      <td>0</td>\n",
              "      <td>0</td>\n",
              "      <td>0</td>\n",
              "      <td>0</td>\n",
              "      <td>0</td>\n",
              "      <td>0</td>\n",
              "      <td>0</td>\n",
              "      <td>0</td>\n",
              "      <td>1</td>\n",
              "      <td>4</td>\n",
              "    </tr>\n",
              "    <tr>\n",
              "      <th>726910</th>\n",
              "      <td>190082</td>\n",
              "      <td>2</td>\n",
              "      <td>87</td>\n",
              "      <td>2</td>\n",
              "      <td>1</td>\n",
              "      <td>13</td>\n",
              "      <td>1</td>\n",
              "      <td>50.0</td>\n",
              "      <td>575.00</td>\n",
              "      <td>50.0</td>\n",
              "      <td>575.00</td>\n",
              "      <td>False</td>\n",
              "      <td>11.50</td>\n",
              "      <td>11.50</td>\n",
              "      <td>42.054154</td>\n",
              "      <td>2.264484</td>\n",
              "      <td>0</td>\n",
              "      <td>0</td>\n",
              "      <td>0</td>\n",
              "      <td>0</td>\n",
              "      <td>0</td>\n",
              "      <td>0</td>\n",
              "      <td>0</td>\n",
              "      <td>0</td>\n",
              "      <td>1</td>\n",
              "      <td>4</td>\n",
              "    </tr>\n",
              "  </tbody>\n",
              "</table>\n",
              "<p>726911 rows × 26 columns</p>\n",
              "</div>"
            ],
            "text/plain": [
              "        client_id course  ...  Titularidad_Público cluster\n",
              "0          113958      2  ...                    0       3\n",
              "1          113958      2  ...                    0       3\n",
              "2          113958      2  ...                    0       3\n",
              "3          113958      2  ...                    0       3\n",
              "4          113958      2  ...                    0       3\n",
              "...           ...    ...  ...                  ...     ...\n",
              "726906     202329      1  ...                    1       2\n",
              "726907     202329      1  ...                    1       2\n",
              "726908     202329      1  ...                    1       2\n",
              "726909     190082      2  ...                    1       4\n",
              "726910     190082      2  ...                    1       4\n",
              "\n",
              "[726911 rows x 26 columns]"
            ]
          },
          "metadata": {
            "tags": []
          },
          "execution_count": 163
        }
      ]
    }
  ]
}