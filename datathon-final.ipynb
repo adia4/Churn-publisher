{
 "cells": [
  {
   "cell_type": "code",
   "execution_count": 0,
   "metadata": {
    "colab": {},
    "colab_type": "code",
    "id": "qxS56kh99NB6"
   },
   "outputs": [],
   "source": [
    "\n",
    "from sklearn.linear_model import LogisticRegression\n",
    "from typing import List\n",
    "from skrebate import ReliefF\n",
    "from sklearn.model_selection import train_test_split\n",
    "from sklearn.preprocessing import StandardScaler, LabelEncoder, OneHotEncoder,MinMaxScaler\n",
    "from sklearn.metrics import classification_report\n",
    "from sklearn.cluster import KMeans\n",
    "from sklearn.model_selection import cross_val_score, GridSearchCV, RandomizedSearchCV\n",
    "from sklearn.feature_selection import VarianceThreshold\n",
    "from gplearn.genetic import SymbolicRegressor\n",
    "from sklearn.ensemble import RandomForestClassifier\n",
    "from sklearn.metrics import roc_curve\n",
    "from sklearn.metrics import roc_auc_score\n",
    "from sklearn.metrics import silhouette_samples, silhouette_score\n",
    "\n",
    "\n",
    "import featuretools as ft\n",
    "import pandas as pd\n",
    "import matplotlib.pyplot as plt\n",
    "import numpy as np\n",
    "import seaborn as sns\n",
    "\n"
   ]
  },
  {
   "cell_type": "markdown",
   "metadata": {
    "colab_type": "text",
    "id": "hhHKwuf8Y4IZ"
   },
   "source": [
    "Importing data"
   ]
  },
  {
   "cell_type": "code",
   "execution_count": 0,
   "metadata": {
    "colab": {},
    "colab_type": "code",
    "id": "tK_ArneY9NCR"
   },
   "outputs": [],
   "source": [
    "cds2016 = pd.read_csv(\"https://raw.githubusercontent.com/adia4/Datathon-GroupG/master/CDS_2016_va?token=ANRTAFXIHAZICEGIZ27E53C6PIUPQ\",encoding = 'ISO-8859-1')\n",
    "cds2017 = pd.read_csv(\"https://raw.githubusercontent.com/adia4/Datathon-GroupG/master/CDS_2017_va?token=ANRTAFX2BBKCHK74D4LRJU26PIUUC\",encoding = 'ISO-8859-1')\n",
    "cds2018 = pd.read_csv(\"https://raw.githubusercontent.com/adia4/Datathon-GroupG/master/CDS_2018_va?token=ANRTAFTDCFNKKBRHVKPXD3C6PIUYC\",encoding = 'ISO-8859-1')\n",
    "cds2019 = pd.read_csv(\"https://raw.githubusercontent.com/adia4/Datathon-GroupG/master/CDS_2019_NO_LABEL?token=ANRTAFXDL2D7Z7ER7P3Y4T26PIU32\",encoding = 'ISO-8859-1')"
   ]
  },
  {
   "cell_type": "code",
   "execution_count": 0,
   "metadata": {
    "colab": {},
    "colab_type": "code",
    "id": "-pxZHt0R2eXN"
   },
   "outputs": [],
   "source": [
    "maestros = pd.read_csv(\"https://gist.githubusercontent.com/valentinapremoli/20bfc005daa29be4d200ec21ada0215c/raw/74d932a49c21948f983cbbe86b79b1a3fde4f1b1/Maestros\",sep =';',encoding = 'UTF-8',decimal=',')\n",
    "cursos = pd.read_csv(\"https://gist.githubusercontent.com/valentinapremoli/5d30997044f3e180b9d893e317e0f6c4/raw/407cf18cce8a09e05d26c7865fd935985a57cc24/Cursos.csv\",sep =';',encoding = 'UTF-8')\n",
    "lenguas= pd.read_csv(\"https://gist.githubusercontent.com/valentinapremoli/20bfc005daa29be4d200ec21ada0215c/raw/74d932a49c21948f983cbbe86b79b1a3fde4f1b1/Lengua.csv\",sep =';',encoding = 'UTF-8')\n",
    "ts = pd.read_csv(\"https://gist.githubusercontent.com/valentinapremoli/20bfc005daa29be4d200ec21ada0215c/raw/74d932a49c21948f983cbbe86b79b1a3fde4f1b1/TS.csv\",sep =';',encoding = 'UTF-8')\n",
    "tme = pd.read_csv(\"https://gist.githubusercontent.com/valentinapremoli/0a46486326dc6bb837b4fe12ed317c63/raw/1287ee3454120ac52616310ad14537f653193cdd/TME.csv\",sep =';',encoding = 'UTF-8')\n",
    "asignaturas = pd.read_csv(\"https://gist.githubusercontent.com/valentinapremoli/20bfc005daa29be4d200ec21ada0215c/raw/74d932a49c21948f983cbbe86b79b1a3fde4f1b1/Asignaturas\",sep =';',encoding = 'UTF-8')"
   ]
  },
  {
   "cell_type": "code",
   "execution_count": 0,
   "metadata": {
    "colab": {},
    "colab_type": "code",
    "id": "uHO8mT7QexvL"
   },
   "outputs": [],
   "source": [
    "subjects = pd.read_csv(\"https://raw.githubusercontent.com/adia4/Datathon-GroupG/master/SUBJECTS.csv?token=ANRTAFU5KS7TJNF6ZXYVVFK6PUIDK\",sep = \";\",decimal = ',')"
   ]
  },
  {
   "cell_type": "markdown",
   "metadata": {
    "colab_type": "text",
    "id": "WEgTrbg0Y-QB"
   },
   "source": [
    "Creating functions and loops to clean and bin the data"
   ]
  },
  {
   "cell_type": "code",
   "execution_count": 0,
   "metadata": {
    "colab": {},
    "colab_type": "code",
    "id": "Us7Dimr9fOfJ"
   },
   "outputs": [],
   "source": [
    "for i in list(subjects.columns):\n",
    "    subjects.loc[~subjects[i].isnull(),i]=1\n",
    "    subjects.loc[subjects[i].isnull(),i]=0\n",
    "\n",
    "subjects['subject'] = asignaturas.Asignatura"
   ]
  },
  {
   "cell_type": "code",
   "execution_count": 0,
   "metadata": {
    "colab": {},
    "colab_type": "code",
    "id": "uZ-jHwNPfcyP"
   },
   "outputs": [],
   "source": [
    "maestros = maestros.drop(['Id_Asociación','Id_Subasociación'],axis = 1)"
   ]
  },
  {
   "cell_type": "code",
   "execution_count": 0,
   "metadata": {
    "colab": {},
    "colab_type": "code",
    "id": "TIu3UNMGf6-X"
   },
   "outputs": [],
   "source": [
    "maestros.columns = ['client_id', 'Latitude', 'Longitude', 'Comunidad Autónoma', 'Titularidad']\n",
    "maestros['Comunidad Autónoma'] = maestros['Comunidad Autónoma'].astype('category',copy=False)\n",
    "maestros['Titularidad'] = maestros['Titularidad'].astype('category',copy=False)"
   ]
  },
  {
   "cell_type": "code",
   "execution_count": 0,
   "metadata": {
    "colab": {},
    "colab_type": "code",
    "id": "7I1elyFNOwxH"
   },
   "outputs": [],
   "source": [
    "maestros = pd.get_dummies(maestros, drop_first=True)"
   ]
  },
  {
   "cell_type": "code",
   "execution_count": 0,
   "metadata": {
    "colab": {},
    "colab_type": "code",
    "id": "keC2Bj8gOeB-"
   },
   "outputs": [],
   "source": [
    "cursos = cursos.iloc[:,0:2]\n",
    "def course_seg(element):\n",
    "  if element<=25:\n",
    "    return 1\n",
    "  elif element>25 & element<=31:\n",
    "    return 2\n",
    "  elif element>31 & element<=35:\n",
    "    return 3\n",
    "  else:\n",
    "    return 4\n",
    "\n",
    "\n"
   ]
  },
  {
   "cell_type": "markdown",
   "metadata": {
    "colab_type": "text",
    "id": "eOHqbFrsZN4n"
   },
   "source": [
    "Renaming the columns\n"
   ]
  },
  {
   "cell_type": "code",
   "execution_count": 0,
   "metadata": {
    "colab": {},
    "colab_type": "code",
    "id": "Cb7mCUSp9NCZ"
   },
   "outputs": [],
   "source": [
    "cds2017.columns = ['client_id', 'year', 'course', 'subject',\n",
    "       'type_of_material', 'editorial_group', 'language',\n",
    "       'media', 'Variable1', 'Variable2']\n",
    "cds2016.columns = ['client_id', 'year', 'course', 'subject',\n",
    "       'type_of_material', 'editorial_group', 'language',\n",
    "       'media', 'Variable1', 'Variable2']\n",
    "cds2018.columns = ['client_id', 'year', 'course', 'subject',\n",
    "       'type_of_material', 'editorial_group', 'language',\n",
    "       'media', 'Variable1', 'Variable2']\n",
    "cds2019.columns = ['client_id', 'year', 'course', 'subject',\n",
    "       'type_of_material', 'language',\n",
    "       'media', 'Variable1', 'Variable2']"
   ]
  },
  {
   "cell_type": "code",
   "execution_count": 0,
   "metadata": {
    "colab": {},
    "colab_type": "code",
    "id": "Rfrtj6zXbYUO"
   },
   "outputs": [],
   "source": [
    "cds2018['course'] = cds2018['course'].map(lambda x: x.lstrip('c')).astype(int)\n",
    "cds2018[\"year\"] = 2018"
   ]
  },
  {
   "cell_type": "code",
   "execution_count": 0,
   "metadata": {
    "colab": {},
    "colab_type": "code",
    "id": "gp5CJkUuBZw6"
   },
   "outputs": [],
   "source": [
    "cds2017 = cds2017.drop_duplicates()\n",
    "cds2016 = cds2016.drop('year',axis=1)\n",
    "cds2017 = cds2017.drop('year',axis=1)\n",
    "cds2018 = cds2018.drop('year',axis=1)\n"
   ]
  },
  {
   "cell_type": "code",
   "execution_count": 0,
   "metadata": {
    "colab": {},
    "colab_type": "code",
    "id": "8D1rS4qRB2z0"
   },
   "outputs": [],
   "source": [
    "a = list(cds2016.columns)\n",
    "a.remove('editorial_group')\n",
    "a.remove('Variable1')\n",
    "a.remove('Variable2')\n",
    "cdsfin = pd.merge(left=cds2016[cds2016.editorial_group!=90],right = cds2017,on = a,how = 'inner',suffixes = ('old','new'))\n",
    "cdsfin1 = pd.merge(left=cds2017[cds2017.editorial_group!=90],right = cds2018,on = a,how = 'inner',suffixes = ('old','new'))\n"
   ]
  },
  {
   "cell_type": "markdown",
   "metadata": {
    "colab_type": "text",
    "id": "Trjq18E7ZzSl"
   },
   "source": [
    "Creating the target variable"
   ]
  },
  {
   "cell_type": "code",
   "execution_count": 0,
   "metadata": {
    "colab": {},
    "colab_type": "code",
    "id": "lnNiW0ctEDBi"
   },
   "outputs": [],
   "source": [
    "cdsfin['target'] = ((cdsfin.editorial_groupnew == 90)*1 - (cdsfin.editorial_groupold == 90)*1).map(lambda x: x==1)\n",
    "cdsfin1['target'] = ((cdsfin1.editorial_groupnew == 90)*1 - (cdsfin1.editorial_groupold == 90)*1).map(lambda x: x==1)\n",
    "cdsfin = cdsfin.drop(['editorial_groupnew'],axis = 1)\n",
    "cdsfin1 = cdsfin1.drop(['editorial_groupnew'],axis = 1)"
   ]
  },
  {
   "cell_type": "code",
   "execution_count": 0,
   "metadata": {
    "colab": {},
    "colab_type": "code",
    "id": "e4RZSRgsEEr6"
   },
   "outputs": [],
   "source": [
    "data = pd.concat([cdsfin,cdsfin1])\n",
    "data = data.drop_duplicates()\n",
    "data.course = data.course.map(course_seg)"
   ]
  },
  {
   "cell_type": "code",
   "execution_count": 0,
   "metadata": {
    "colab": {},
    "colab_type": "code",
    "id": "gSkmzr7sjN_O"
   },
   "outputs": [],
   "source": [
    "col_names = ['client_id', 'course', 'subject', 'type_of_material',\n",
    "       'editorial_groupold', 'language', 'media']\n",
    "for col in col_names:\n",
    "    data[col] = data[col].astype('category',copy=False)"
   ]
  },
  {
   "cell_type": "code",
   "execution_count": 0,
   "metadata": {
    "colab": {},
    "colab_type": "code",
    "id": "pAamglGHjDP8"
   },
   "outputs": [],
   "source": [
    "data['oldcost'] = data.Variable2old/data.Variable1old\n",
    "data['newcost'] = data.Variable2new/data.Variable1new"
   ]
  },
  {
   "cell_type": "code",
   "execution_count": 0,
   "metadata": {
    "colab": {},
    "colab_type": "code",
    "id": "_R-4O00WZVsl"
   },
   "outputs": [],
   "source": [
    "data.loc[data.oldcost.isnull(),'oldcost']=0\n",
    "data.loc[data.newcost.isnull(),'newcost']=0\n"
   ]
  },
  {
   "cell_type": "markdown",
   "metadata": {
    "colab_type": "text",
    "id": "AP5sy8A_bSYU"
   },
   "source": [
    "Baseline Model"
   ]
  },
  {
   "cell_type": "code",
   "execution_count": 0,
   "metadata": {
    "colab": {},
    "colab_type": "code",
    "id": "XB2CxDN9bRGO"
   },
   "outputs": [],
   "source": [
    "X_train,X_test,y_train,y_test = train_test_split(data.loc[:,data.columns!='target'],data['target'],test_size=0.15,random_state = 1)\n",
    "rf = RandomForestClassifier(n_estimators = 200, random_state = 42)\n",
    "rf.fit(X_train, y_train)\n",
    "predictions = rf.predict(X_test)\n",
    "print(classification_report(y_test,predictions))"
   ]
  },
  {
   "cell_type": "markdown",
   "metadata": {
    "colab_type": "text",
    "id": "-E7-XBuTbrMQ"
   },
   "source": [
    "Merging other provided data and check for improvement in the performance"
   ]
  },
  {
   "cell_type": "code",
   "execution_count": 0,
   "metadata": {
    "colab": {},
    "colab_type": "code",
    "id": "m8RkK2J4bAVY"
   },
   "outputs": [],
   "source": [
    "data_tf = pd.merge(left = data, right = subjects.subject[0:92].astype('int'), on = 'subject',how = 'inner')\n",
    "data_tf = pd.merge(left = data_tf, right = maestros, on = 'client_id',how = 'inner')"
   ]
  },
  {
   "cell_type": "code",
   "execution_count": 0,
   "metadata": {
    "colab": {},
    "colab_type": "code",
    "id": "WSUmzifx98RE"
   },
   "outputs": [],
   "source": [
    "X_train,X_test,y_train,y_test = train_test_split(data_tf.loc[:,data_tf.columns!='target'],data_tf['target'],test_size=0.15,random_state = 1)"
   ]
  },
  {
   "cell_type": "code",
   "execution_count": 0,
   "metadata": {
    "colab": {},
    "colab_type": "code",
    "id": "qyzLVrHi_JR3"
   },
   "outputs": [],
   "source": [
    "rf = RandomForestClassifier(n_estimators = 200, random_state = 42)\n",
    "rf.fit(X_train, y_train)"
   ]
  },
  {
   "cell_type": "code",
   "execution_count": 0,
   "metadata": {
    "colab": {
     "base_uri": "https://localhost:8080/",
     "height": 168
    },
    "colab_type": "code",
    "id": "_w6go5ps_PDl",
    "outputId": "160a38cd-f1c6-4a78-a9d3-59f6b21b6e00"
   },
   "outputs": [
    {
     "name": "stdout",
     "output_type": "stream",
     "text": [
      "              precision    recall  f1-score   support\n",
      "\n",
      "       False       0.99      0.71      0.82    102933\n",
      "        True       0.14      0.83      0.25      6104\n",
      "\n",
      "    accuracy                           0.72    109037\n",
      "   macro avg       0.57      0.77      0.54    109037\n",
      "weighted avg       0.94      0.72      0.79    109037\n",
      "\n"
     ]
    }
   ],
   "source": [
    "predictions = rf.predict(X_test)\n",
    "print(classification_report(y_test,predictions))"
   ]
  },
  {
   "cell_type": "markdown",
   "metadata": {
    "colab_type": "text",
    "id": "TiqpJEFbb4d5"
   },
   "source": [
    "Clustering"
   ]
  },
  {
   "cell_type": "code",
   "execution_count": null,
   "metadata": {
    "colab": {
     "base_uri": "https://localhost:8080/",
     "height": 370
    },
    "colab_type": "code",
    "id": "3QMqzboGcHPk",
    "outputId": "a66b641d-2161-4aac-991f-c740ca48e10b"
   },
   "outputs": [],
   "source": [
    "range_n_clusters = [2, 3, 4, 5, 6, 7]\n",
    "best = 0\n",
    "best_n = 0\n",
    "for n_clusters in range_n_clusters:\n",
    "   \n",
    "    clusterer = KMeans(n_clusters=n_clusters, random_state=10)\n",
    "    cluster_labels = clusterer.fit_predict(X_train)\n",
    "\n",
    "    silhouette_avg = silhouette_score(X_train, y_train)\n",
    "    if silhouette_avg > best:\n",
    "      best_n = n_clusters\n",
    "      best = silhouette_avg\n",
    "\n",
    "print(best_n)\n"
   ]
  },
  {
   "cell_type": "code",
   "execution_count": 0,
   "metadata": {
    "colab": {},
    "colab_type": "code",
    "id": "J5SVXNBgf0ra"
   },
   "outputs": [],
   "source": [
    "kmeans = KMeans(n_clusters=5)              #Including clustering\n",
    "kmeans.fit(data_tf.loc[:, data_tf.columns != 'left'])\n",
    "data_tf['cluster'] = kmeans.predict(data_tf.loc[:, data_tf.columns != 'left'])"
   ]
  },
  {
   "cell_type": "code",
   "execution_count": 0,
   "metadata": {
    "colab": {
     "base_uri": "https://localhost:8080/",
     "height": 168
    },
    "colab_type": "code",
    "id": "s_T9_D9AgaUD",
    "outputId": "eecbd369-fafd-4d4c-ce3f-51642b984a41"
   },
   "outputs": [
    {
     "name": "stdout",
     "output_type": "stream",
     "text": [
      "              precision    recall  f1-score   support\n",
      "\n",
      "       False       0.96      1.00      0.98    102933\n",
      "        True       0.85      0.24      0.38      6104\n",
      "\n",
      "    accuracy                           0.96    109037\n",
      "   macro avg       0.90      0.62      0.68    109037\n",
      "weighted avg       0.95      0.96      0.94    109037\n",
      "\n"
     ]
    }
   ],
   "source": [
    "X_train,X_test,y_train,y_test = train_test_split(data_tf.loc[:,data_tf.columns!='target'],data_tf['target'],test_size=0.15,random_state = 1)\n",
    "rf1 = RandomForestClassifier(n_estimators = 200, random_state = 42)\n",
    "rf1.fit(X_train, y_train)\n",
    "predictions = rf1.predict(X_test)\n",
    "print(classification_report(y_test,predictions))"
   ]
  },
  {
   "cell_type": "code",
   "execution_count": 0,
   "metadata": {
    "colab": {
     "base_uri": "https://localhost:8080/",
     "height": 168
    },
    "colab_type": "code",
    "id": "zuHKbf9zxwv-",
    "outputId": "6433425f-445a-4891-f89c-571ccf0c89d9"
   },
   "outputs": [
    {
     "name": "stdout",
     "output_type": "stream",
     "text": [
      "              precision    recall  f1-score   support\n",
      "\n",
      "       False       0.97      0.98      0.97    102933\n",
      "        True       0.57      0.56      0.57      6104\n",
      "\n",
      "    accuracy                           0.95    109037\n",
      "   macro avg       0.77      0.77      0.77    109037\n",
      "weighted avg       0.95      0.95      0.95    109037\n",
      "\n"
     ]
    }
   ],
   "source": [
    "predictions = (rf1.predict_proba(X_test)[:,1] >= 0.25).astype(bool)\n",
    "print(classification_report(y_test,predictions))"
   ]
  },
  {
   "cell_type": "code",
   "execution_count": null,
   "metadata": {
    "colab": {
     "base_uri": "https://localhost:8080/",
     "height": 337
    },
    "colab_type": "code",
    "id": "hioEDqKr7Q8v",
    "outputId": "a0474058-6e0a-403c-c828-1180b732197a"
   },
   "outputs": [],
   "source": [
    "\n",
    "from google.colab import files\n",
    "from sklearn.externals import joblib\n",
    "\n",
    "# save file in colab environment\n",
    "joblib.dump(rf1, 'rfbest')\n",
    "\n",
    "# download to local machine\n",
    "files.download('rfbest')\n"
   ]
  },
  {
   "cell_type": "code",
   "execution_count": 0,
   "metadata": {
    "colab": {},
    "colab_type": "code",
    "id": "kTP1mWU5yh3_"
   },
   "outputs": [],
   "source": [
    "from sklearn.metrics import f1_score\n",
    "best = 0\n",
    "besti = 0\n",
    "for i in np.linspace(0,1,101):\n",
    "  predictions = (rf1.predict_proba(X_test)[:,1] >= i).astype(bool)\n",
    "  if(f1_score(y_test,predictions,average='macro')>best):\n",
    "    best = f1_score(y_test,predictions,average='macro')\n",
    "    besti = i\n"
   ]
  },
  {
   "cell_type": "code",
   "execution_count": 0,
   "metadata": {
    "colab": {
     "base_uri": "https://localhost:8080/",
     "height": 34
    },
    "colab_type": "code",
    "id": "vRBY8Oru5Syi",
    "outputId": "1af29aa1-b107-4241-ba10-183acdd766c0"
   },
   "outputs": [
    {
     "name": "stdout",
     "output_type": "stream",
     "text": [
      "0.7716137929006983 0.25\n"
     ]
    }
   ],
   "source": [
    "print(best, besti)"
   ]
  },
  {
   "cell_type": "code",
   "execution_count": 0,
   "metadata": {
    "colab": {},
    "colab_type": "code",
    "id": "YvWt29S65Y5l"
   },
   "outputs": [],
   "source": []
  },
  {
   "cell_type": "markdown",
   "metadata": {
    "colab_type": "text",
    "id": "8NDRiDKzb7tm"
   },
   "source": [
    "Upsampling"
   ]
  },
  {
   "cell_type": "code",
   "execution_count": 0,
   "metadata": {
    "colab": {},
    "colab_type": "code",
    "id": "ERZmonCDhHxD"
   },
   "outputs": [],
   "source": [
    "# Number of observations in each class\n",
    "n_class0 = len(data_tf[data_tf.target==0])\n",
    "n_class1 = len(data_tf[data_tf.target==1])\n",
    "\n",
    "# For every observation in class 1, randomly sample from class 0 with replacement\n",
    "class1_upsampled = np.random.choice(data_tf.index[data_tf.target==1], size=int(n_class1/4), replace=True)\n",
    "class0_downsampled = np.random.choice(data_tf.index[data_tf.target==0], size=int(n_class1/4), replace=False)\n",
    "# Join together class 0's upsampled target vector with class 1's target vector\n",
    "new = pd.concat([data_tf.loc[class1_upsampled,:],data_tf.loc[class0_downsampled]])\n"
   ]
  },
  {
   "cell_type": "code",
   "execution_count": 0,
   "metadata": {
    "colab": {
     "base_uri": "https://localhost:8080/",
     "height": 168
    },
    "colab_type": "code",
    "id": "v_eDdSwlhIBT",
    "outputId": "ab440178-0747-4f0c-cd5b-363267e1779d"
   },
   "outputs": [
    {
     "name": "stdout",
     "output_type": "stream",
     "text": [
      "              precision    recall  f1-score   support\n",
      "\n",
      "       False       0.99      0.71      0.82    102933\n",
      "        True       0.14      0.83      0.25      6104\n",
      "\n",
      "    accuracy                           0.72    109037\n",
      "   macro avg       0.57      0.77      0.54    109037\n",
      "weighted avg       0.94      0.72      0.79    109037\n",
      "\n"
     ]
    }
   ],
   "source": [
    "X_train,X_test,y_train,y_test = train_test_split(data_tf.loc[:,data_tf.columns!='target'],data_tf['target'],test_size=0.15,random_state = 1)\n",
    "rf = RandomForestClassifier(n_estimators = 200, random_state = 42)\n",
    "rf.fit(new.loc[:,new.columns!='target'], new['target'])\n",
    "predictions = rf.predict(X_test)\n",
    "print(classification_report(y_test,predictions))"
   ]
  },
  {
   "cell_type": "markdown",
   "metadata": {
    "colab_type": "text",
    "id": "vpg_N5-Fkwtr"
   },
   "source": [
    "Hyperparameter tuning using cross validation"
   ]
  },
  {
   "cell_type": "code",
   "execution_count": 0,
   "metadata": {
    "colab": {},
    "colab_type": "code",
    "id": "qzG8XSqNkvjN"
   },
   "outputs": [],
   "source": [
    "# Number of trees in random forest\n",
    "n_estimators = [int(x) for x in np.linspace(start = 100, stop = 1000, num = 10)]\n",
    "# Number of features to consider at every split\n",
    "max_features = ['auto', 'sqrt']\n",
    "# Maximum number of levels in tree\n",
    "max_depth = [int(x) for x in np.linspace(10, 110, num = 11)]\n",
    "max_depth.append(None)\n",
    "# Minimum number of samples required to split a node\n",
    "min_samples_split = [2, 5, 10]\n",
    "# Minimum number of samples required at each leaf node\n",
    "min_samples_leaf = [1, 2, 4, 8]\n",
    "# Method of selecting samples for training each tree\n",
    "bootstrap = [True, False]\n",
    "# Create the random grid\n",
    "random_grid = {'n_estimators': n_estimators,\n",
    "               'max_features': max_features,\n",
    "               'max_depth': max_depth,\n",
    "               'min_samples_split': min_samples_split,\n",
    "               'min_samples_leaf': min_samples_leaf,\n",
    "               'bootstrap': bootstrap}"
   ]
  },
  {
   "cell_type": "code",
   "execution_count": 0,
   "metadata": {
    "colab": {},
    "colab_type": "code",
    "id": "dIW7Oc-ylFDv"
   },
   "outputs": [],
   "source": [
    "X_train = data_tf.loc[:,data_tf.columns!='target']\n",
    "y_train = data_tf['target']\n",
    "rf = RandomForestClassifier(random_state = 42)"
   ]
  },
  {
   "cell_type": "code",
   "execution_count": 0,
   "metadata": {
    "colab": {},
    "colab_type": "code",
    "id": "U6TQ8Qy3lKMb"
   },
   "outputs": [],
   "source": [
    "rsearch = RandomizedSearchCV(rf, random_grid, cv = 5,scoring = \"f1_macro\",n_iter=400)\n",
    "rsearch.fit(X_train, y_train)\n",
    "rsearch.best_params_"
   ]
  },
  {
   "cell_type": "markdown",
   "metadata": {
    "colab_type": "text",
    "id": "hvJkES1HjWEe"
   },
   "source": [
    "Capture non-linearities using polynomial features"
   ]
  },
  {
   "cell_type": "code",
   "execution_count": null,
   "metadata": {
    "colab": {
     "base_uri": "https://localhost:8080/",
     "height": 370
    },
    "colab_type": "code",
    "id": "OmJwN-RtjSfn",
    "outputId": "479d5963-161e-4cd4-f67e-6448ab28fa67"
   },
   "outputs": [],
   "source": [
    "from sklearn.preprocessing import PolynomialFeatures\n",
    "pol = PolynomialFeatures(2)\n",
    "df = data_tf.loc[:,data_tf.columns != 'target']\n",
    "dfpol = pol.fit_transform(df)\n",
    "dfpol = pd.DataFrame(dfpol)\n",
    "dfpol.columns = pol.get_feature_names(input_features=df.columns)\n",
    "y = data_tf['target']\n",
    "X_train,X_test,y_train,y_test = train_test_split(dfpol,y,test_size=0.15,random_state = 1)\n",
    "rf = RandomForestClassifier(random_state = 42, n_estimators = 200)\n",
    "rf.fit(X_train,y_train)\n",
    "print(cross_val_score(logit, X_train, y_train, cv=10, scoring = \"f1_macro\"))\n",
    "predictions = rf.predict(X_test)\n",
    "print(classification_report(y_test,predictions))"
   ]
  },
  {
   "cell_type": "markdown",
   "metadata": {
    "colab_type": "text",
    "id": "p32W3dFNmDYX"
   },
   "source": [
    "Naive Baye's "
   ]
  },
  {
   "cell_type": "code",
   "execution_count": 0,
   "metadata": {
    "colab": {
     "base_uri": "https://localhost:8080/",
     "height": 168
    },
    "colab_type": "code",
    "id": "78zcVz2fmL6N",
    "outputId": "7a90b479-0479-4791-f159-889ee72a68f1"
   },
   "outputs": [
    {
     "name": "stdout",
     "output_type": "stream",
     "text": [
      "              precision    recall  f1-score   support\n",
      "\n",
      "       False       0.95      0.91      0.93    102933\n",
      "        True       0.12      0.20      0.15      6104\n",
      "\n",
      "    accuracy                           0.87    109037\n",
      "   macro avg       0.54      0.56      0.54    109037\n",
      "weighted avg       0.90      0.87      0.89    109037\n",
      "\n"
     ]
    }
   ],
   "source": [
    "#Import Gaussian Naive Bayes model\n",
    "from sklearn.naive_bayes import GaussianNB\n",
    "#Create a Gaussian Classifier\n",
    "gmodel = GaussianNB()\n",
    "X_train,X_test,y_train,y_test = train_test_split(data_tf.loc[:,data_tf.columns!='target'],data_tf['target'],test_size=0.15,random_state = 1)\n",
    "# Train the model using the training sets\n",
    "gmodel.fit(X_train,y_train)\n",
    "#Predict Output\n",
    "predictions = gmodel.predict(X_test)\n",
    "print(classification_report(y_test,predictions))"
   ]
  },
  {
   "cell_type": "markdown",
   "metadata": {
    "colab_type": "text",
    "id": "pGRagHpIm1Ib"
   },
   "source": [
    "Genetic Algorithm to predict features"
   ]
  },
  {
   "cell_type": "code",
   "execution_count": 0,
   "metadata": {
    "colab": {},
    "colab_type": "code",
    "id": "WL_hg-05m56i"
   },
   "outputs": [],
   "source": [
    "est_gp = SymbolicRegressor(population_size=5000,\n",
    "                           generations=20, stopping_criteria=0.01,\n",
    "                           p_crossover=0.7, p_subtree_mutation=0.1,\n",
    "                           p_hoist_mutation=0.05, p_point_mutation=0.1,\n",
    "                           max_samples=0.9, verbose=0,\n",
    "                           parsimony_coefficient=0.01, random_state=0, feature_names = X_train.columns)\n",
    "est_gp.fit(X_train, y_train)\n",
    "print(est_gp._program)\n",
    "## No useful features found"
   ]
  },
  {
   "cell_type": "markdown",
   "metadata": {
    "colab_type": "text",
    "id": "rd9SIUwZnLz_"
   },
   "source": [
    "Comparing ROC curves for the best 2 performers"
   ]
  },
  {
   "cell_type": "code",
   "execution_count": 0,
   "metadata": {
    "colab": {
     "base_uri": "https://localhost:8080/",
     "height": 330
    },
    "colab_type": "code",
    "id": "rkwAiO59meKn",
    "outputId": "9ac3b95b-9eae-49ea-9c5d-e462d7060f57"
   },
   "outputs": [
    {
     "name": "stdout",
     "output_type": "stream",
     "text": [
      "No Skill: ROC AUC=0.500\n",
      "RF: ROC AUC=0.928\n",
      "NB: ROC AUC=0.662\n"
     ]
    },
    {
     "data": {
      "image/png": "[encoded data removed]",
      "text/plain": [
       "<Figure size 432x288 with 1 Axes>"
      ]
     },
     "metadata": {
      "tags": []
     },
     "output_type": "display_data"
    }
   ],
   "source": [
    "ns_probs = [0 for _ in range(len(y_test))]\n",
    "# predict probabilities\n",
    "lr_probs = rf1.predict_proba(X_test)\n",
    "lr_probs1 = gmodel.predict_proba(X_test)\n",
    "# keep probabilities for the positive outcome only\n",
    "lr_probs = lr_probs[:, 1]\n",
    "lr_probs1 = lr_probs1[:, 1]\n",
    "# calculate scores\n",
    "ns_auc = roc_auc_score(y_test, ns_probs)\n",
    "lr_auc = roc_auc_score(y_test, lr_probs)\n",
    "lr_auc1 = roc_auc_score(y_test, lr_probs1)\n",
    "\n",
    "# summarize scores\n",
    "print('No Skill: ROC AUC=%.3f' % (ns_auc))\n",
    "print('RF: ROC AUC=%.3f' % (lr_auc))\n",
    "print('NB: ROC AUC=%.3f' % (lr_auc1))\n",
    "# calculate roc curves\n",
    "ns_fpr, ns_tpr, ns_thr = roc_curve(y_test, ns_probs)\n",
    "lr_fpr, lr_tpr, lr_thr = roc_curve(y_test, lr_probs)\n",
    "lr_fpr1, lr_tpr1, lr1_thr = roc_curve(y_test, lr_probs1)\n",
    "# plot the roc curve for the model\n",
    "plt.plot(ns_fpr, ns_tpr, linestyle='--', label='No Skill')\n",
    "plt.plot(lr_fpr, lr_tpr, marker='.', label='RandomForest')\n",
    "plt.plot(lr_fpr1, lr_tpr1, marker='.', label='NaiveBayes')\n",
    "# axis labels\n",
    "plt.xlabel('False Positive Rate')\n",
    "plt.ylabel('True Positive Rate')\n",
    "# show the legend\n",
    "plt.legend()\n",
    "# show the plot\n",
    "plt.show()"
   ]
  },
  {
   "cell_type": "code",
   "execution_count": 0,
   "metadata": {
    "colab": {
     "base_uri": "https://localhost:8080/",
     "height": 34
    },
    "colab_type": "code",
    "id": "aEEdq1xIn-6s",
    "outputId": "edd595c4-2db3-4dfc-c230-e2a5a893d81c"
   },
   "outputs": [
    {
     "data": {
      "text/plain": [
       "0.1075"
      ]
     },
     "execution_count": 104,
     "metadata": {
      "tags": []
     },
     "output_type": "execute_result"
    }
   ],
   "source": [
    "lr_thr[320]"
   ]
  },
  {
   "cell_type": "code",
   "execution_count": 0,
   "metadata": {
    "colab": {
     "base_uri": "https://localhost:8080/",
     "height": 34
    },
    "colab_type": "code",
    "id": "MrlIcBrlvfTk",
    "outputId": "3270aa6e-462a-4ce9-dc76-0bcf682d8a09"
   },
   "outputs": [
    {
     "data": {
      "text/plain": [
       "0.8012778505897772"
      ]
     },
     "execution_count": 103,
     "metadata": {
      "tags": []
     },
     "output_type": "execute_result"
    }
   ],
   "source": [
    "lr_tpr[320]"
   ]
  },
  {
   "cell_type": "code",
   "execution_count": 0,
   "metadata": {
    "colab": {
     "base_uri": "https://localhost:8080/",
     "height": 34
    },
    "colab_type": "code",
    "id": "JjUoBnNWtL_K",
    "outputId": "b1a5cef8-224b-42a2-fd17-8d8f5e9298fd"
   },
   "outputs": [
    {
     "data": {
      "text/plain": [
       "109.02555701179554"
      ]
     },
     "execution_count": 95,
     "metadata": {
      "tags": []
     },
     "output_type": "execute_result"
    }
   ],
   "source": [
    "lr_tpr.sum()-(lr_tpr>0.8).sum()"
   ]
  },
  {
   "cell_type": "markdown",
   "metadata": {
    "colab_type": "text",
    "id": "YZ5-UnfboD2I"
   },
   "source": [
    "Making Predictions for 2019\n",
    "There are 2 cases to be tackled:\n",
    "\n",
    "1.   Where we know the data for 2018\n",
    "2.   Where we don't know the data for 2018\n",
    "\n",
    "Since, we are only concentrating on editorial group going from non 90 to 90, for the sake of predictions, we assume all the common rows with 90's in 2018 will output zero\n",
    "\n"
   ]
  },
  {
   "cell_type": "markdown",
   "metadata": {
    "colab_type": "text",
    "id": "LbuMFq5YpE2f"
   },
   "source": [
    "Case 2. In order to train for case 2 mentioned above, we drop the new variables from data_tf and try and predict for the next year, without using that year's data"
   ]
  },
  {
   "cell_type": "code",
   "execution_count": 0,
   "metadata": {
    "colab": {
     "base_uri": "https://localhost:8080/",
     "height": 168
    },
    "colab_type": "code",
    "id": "do47m8Nap7TV",
    "outputId": "b378e37c-a082-423c-ebe0-9f2f2f8abf13"
   },
   "outputs": [
    {
     "name": "stdout",
     "output_type": "stream",
     "text": [
      "              precision    recall  f1-score   support\n",
      "\n",
      "       False       0.96      0.99      0.98    102933\n",
      "        True       0.77      0.30      0.43      6104\n",
      "\n",
      "    accuracy                           0.96    109037\n",
      "   macro avg       0.86      0.65      0.70    109037\n",
      "weighted avg       0.95      0.96      0.95    109037\n",
      "\n"
     ]
    }
   ],
   "source": [
    "data2tf = data_tf.drop(['Variable1new','Variable2new','newcost','cluster'],axis = 1)\n",
    "kmeans1 = KMeans(n_clusters=5)\n",
    "kmeans.fit(data2tf.loc[:, data2tf.columns != 'target'])\n",
    "data2tf['cluster'] = kmeans.predict(data2tf.loc[:, data2tf.columns != 'target'])\n",
    "\n",
    "X_train,X_test,y_train,y_test = train_test_split(data2tf.loc[:,data2tf.columns!='target'],data2tf['target'],test_size=0.15,random_state = 1)\n",
    "rf2 = RandomForestClassifier(n_estimators = 200, random_state = 42)\n",
    "rf2.fit(X_train, y_train)\n",
    "predictions = rf2.predict(X_test)\n",
    "print(classification_report(y_test,predictions))"
   ]
  },
  {
   "cell_type": "code",
   "execution_count": 0,
   "metadata": {
    "colab": {},
    "colab_type": "code",
    "id": "wAmerQrY_4Kk"
   },
   "outputs": [],
   "source": [
    "bestnew = 0\n",
    "bestnewi = 0\n",
    "for i in np.linspace(0,0.5,51):\n",
    "  predictions = (rf2.predict_proba(X_test)[:,1] >= i).astype(bool)\n",
    "  if(f1_score(y_test,predictions,average='macro')>best):\n",
    "    bestnew = f1_score(y_test,predictions,average='macro')\n",
    "    bestnewi = i"
   ]
  },
  {
   "cell_type": "code",
   "execution_count": 0,
   "metadata": {
    "colab": {
     "base_uri": "https://localhost:8080/",
     "height": 34
    },
    "colab_type": "code",
    "id": "w95fGyINIlz-",
    "outputId": "bd62d559-c552-4c0b-ea14-05d93b75b0f2"
   },
   "outputs": [
    {
     "name": "stdout",
     "output_type": "stream",
     "text": [
      "0.7725124053913048 0.3\n"
     ]
    }
   ],
   "source": [
    "print(bestnew,bestnewi)"
   ]
  },
  {
   "cell_type": "code",
   "execution_count": 0,
   "metadata": {
    "colab": {
     "base_uri": "https://localhost:8080/",
     "height": 168
    },
    "colab_type": "code",
    "id": "vqpg_DszJUQO",
    "outputId": "afe3b553-1f3c-4089-a912-734100bac2f3"
   },
   "outputs": [
    {
     "name": "stdout",
     "output_type": "stream",
     "text": [
      "              precision    recall  f1-score   support\n",
      "\n",
      "       False       0.97      0.98      0.98    102933\n",
      "        True       0.62      0.53      0.57      6104\n",
      "\n",
      "    accuracy                           0.96    109037\n",
      "   macro avg       0.80      0.75      0.77    109037\n",
      "weighted avg       0.95      0.96      0.95    109037\n",
      "\n"
     ]
    }
   ],
   "source": [
    "predictions = (rf2.predict_proba(X_test)[:,1] >= 0.30).astype(bool)\n",
    "print(classification_report(y_test,predictions))"
   ]
  },
  {
   "cell_type": "markdown",
   "metadata": {
    "colab_type": "text",
    "id": "0VOPZ8EcrW3K"
   },
   "source": [
    "Predictions for 2019"
   ]
  },
  {
   "cell_type": "code",
   "execution_count": 0,
   "metadata": {
    "colab": {},
    "colab_type": "code",
    "id": "liFD7sF7rV2q"
   },
   "outputs": [],
   "source": [
    "cdsfin2 = pd.merge(left = cds2018, right = cds2019, on =a,how = 'right', suffixes=('old','new'))\n",
    "cdsfin2['oldcost'] = cdsfin2.Variable2old/cdsfin2.Variable1old\n",
    "cdsfin2['newcost'] = cdsfin2.Variable2new/cdsfin2.Variable1new\n",
    "cdsfin2.loc[cdsfin2.oldcost.isnull(),'oldcost']=0\n",
    "cdsfin2.loc[cdsfin2.newcost.isnull(),'newcost']=0"
   ]
  },
  {
   "cell_type": "code",
   "execution_count": 0,
   "metadata": {
    "colab": {},
    "colab_type": "code",
    "id": "Hmu__kQxKbG2"
   },
   "outputs": [],
   "source": [
    "datatf = pd.merge(left = cdsfin2, right = subjects.subject[0:92].astype('int'), on = 'subject',how = 'inner')\n",
    "datatf = pd.merge(left = datatf, right = maestros, on = 'client_id',how = 'inner')\n"
   ]
  },
  {
   "cell_type": "code",
   "execution_count": 0,
   "metadata": {
    "colab": {},
    "colab_type": "code",
    "id": "2raTX51kK5wL"
   },
   "outputs": [],
   "source": [
    "col_names = ['client_id', 'course', 'subject', 'type_of_material',\n",
    "       'editorial_group', 'language', 'media']\n",
    "for col in col_names:\n",
    "    datatf[col] = datatf[col].astype('category',copy=False)"
   ]
  },
  {
   "cell_type": "code",
   "execution_count": 0,
   "metadata": {
    "colab": {},
    "colab_type": "code",
    "id": "LaFNxuMFLVzl"
   },
   "outputs": [],
   "source": [
    "def cluster_predict(row):\n",
    "  if row.Variable1old.isnull():\n",
    "    kmeans1.predict(row.drop(['Variable1old','Variable2old','oldcost'],axis=1)\n",
    "  else:\n",
    "    kmeans.predict(row)"
   ]
  },
  {
   "cell_type": "code",
   "execution_count": 0,
   "metadata": {
    "colab": {},
    "colab_type": "code",
    "id": "Nrs30-XrwFp9"
   },
   "outputs": [],
   "source": [
    "def final_predict(row):\n",
    "  if row.Variable1old.isnull():\n",
    "    rf2.predict(row.drop['Variable1old','Variable2old','costold'])\n",
    "  else:\n",
    "    rf1.predict(row)\n"
   ]
  },
  {
   "cell_type": "code",
   "execution_count": 0,
   "metadata": {
    "colab": {},
    "colab_type": "code",
    "id": "VqeKBBlJk3Pf"
   },
   "outputs": [],
   "source": [
    "final = datatf[datatf.editorial_group != 90]"
   ]
  },
  {
   "cell_type": "code",
   "execution_count": 0,
   "metadata": {
    "colab": {},
    "colab_type": "code",
    "id": "UX_AFxYtNRdT"
   },
   "outputs": [],
   "source": [
    "final['cluster'] = 0"
   ]
  },
  {
   "cell_type": "code",
   "execution_count": null,
   "metadata": {
    "colab": {
     "base_uri": "https://localhost:8080/",
     "height": 303
    },
    "colab_type": "code",
    "id": "HQ4h5RTKSbNV",
    "outputId": "5b0196d7-eff7-41fb-c055-e2ebf88f6c85"
   },
   "outputs": [],
   "source": [
    "final.loc[~final.Variable1old.isnull(),'cluster']=kmeans.predict(final[~final.Variable1old.isnull()].iloc[:,0:-1]) "
   ]
  },
  {
   "cell_type": "code",
   "execution_count": null,
   "metadata": {
    "colab": {
     "base_uri": "https://localhost:8080/",
     "height": 474
    },
    "colab_type": "code",
    "id": "25ZudALBPNnt",
    "outputId": "0f0d8b45-e9d9-47ca-b679-f438b13611d1"
   },
   "outputs": [],
   "source": [
    "for i in range(final.shape[0]):\n",
    "  final.cluster[i] = cluster_predict(final.iloc[i,0:-1])"
   ]
  },
  {
   "cell_type": "code",
   "execution_count": 0,
   "metadata": {
    "colab": {
     "base_uri": "https://localhost:8080/",
     "height": 454
    },
    "colab_type": "code",
    "id": "JT82BgiVQWOn",
    "outputId": "4e9b93b9-6d41-44e2-f64f-f7216b4bbe46"
   },
   "outputs": [
    {
     "data": {
      "text/plain": [
       "client_id                                   113956\n",
       "course                                          33\n",
       "subject                                         37\n",
       "type_of_material                                 1\n",
       "editorial_group                                  5\n",
       "language                                        13\n",
       "media                                            1\n",
       "Variable1old                                    60\n",
       "Variable2old                                1653.6\n",
       "year                                          2019\n",
       "Variable1new                                    60\n",
       "Variable2new                                16.536\n",
       "oldcost                                      27.56\n",
       "newcost                                     0.2756\n",
       "Latitude                                   42.8529\n",
       "Longitude                                 -2.66852\n",
       "Comunidad Autónoma_Comunidad Valenciana          0\n",
       "Comunidad Autónoma_Islas Canarias                0\n",
       "Comunidad Autónoma_La Rioja                      0\n",
       "Comunidad Autónoma_Madrid                        0\n",
       "Comunidad Autónoma_Navarra                       0\n",
       "Comunidad Autónoma_País Vasco                    1\n",
       "Titularidad_Católico                             1\n",
       "Titularidad_Privado                              0\n",
       "Titularidad_Público                              0\n",
       "Name: 1, dtype: object"
      ]
     },
     "execution_count": 150,
     "metadata": {
      "tags": []
     },
     "output_type": "execute_result"
    }
   ],
   "source": [
    "final.iloc[1,0:-1]"
   ]
  },
  {
   "cell_type": "code",
   "execution_count": 0,
   "metadata": {
    "colab": {},
    "colab_type": "code",
    "id": "P3bHIR7-xxNx"
   },
   "outputs": [],
   "source": [
    "cdsfin2['target']=cdsfin2.map(final_predict)"
   ]
  },
  {
   "cell_type": "code",
   "execution_count": 0,
   "metadata": {
    "colab": {},
    "colab_type": "code",
    "id": "4g4Avk-h9NC0"
   },
   "outputs": [],
   "source": [
    "print(\"shape 2016: \", cds2016.shape)\n",
    "print(\"shape 2017: \", cds2017.shape)\n",
    "print(\"shape 2018: \", cds2018.shape)\n",
    "print(\"shape 2019: \", cds2019.shape)\n",
    "print()\n",
    "\n",
    "duplicate_rows_2016 = cds2016[cds2016.duplicated()]\n",
    "print(\"number of duplicate rows 2016: \", duplicate_rows_2016.shape)\n",
    "duplicate_rows_2017 = cds2017[cds2017.duplicated()]\n",
    "print(\"number of duplicate rows 2017: \", duplicate_rows_2017.shape)\n",
    "duplicate_rows_2018 = cds2018[cds2018.duplicated()]\n",
    "print(\"number of duplicate rows 2018: \", duplicate_rows_2018.shape)\n",
    "duplicate_rows_2019 = cds2019[cds2019.duplicated()]\n",
    "print(\"number of duplicate rows 2019: \", duplicate_rows_2019.shape)"
   ]
  },
  {
   "cell_type": "code",
   "execution_count": 0,
   "metadata": {
    "colab": {},
    "colab_type": "code",
    "id": "6LMRmJegCk9h"
   },
   "outputs": [],
   "source": [
    "def curso_cat(x):\n",
    "    if x == 20 or x == 21 or x == 22 or x == 23 or x == 24 or x == 25:\n",
    "        return \"infantil\"\n",
    "    if x == 26 or x == 27 or x == 28 or x == 29 or x == 30 or x == 31:\n",
    "        return \"primaria\"\n",
    "    if x == 32 or x == 33 or x == 34 or x == 35:\n",
    "        return \"secundaria\"\n",
    "    if x == 36 or x == 37:\n",
    "        return \"bachillerato\""
   ]
  },
  {
   "cell_type": "code",
   "execution_count": 0,
   "metadata": {
    "colab": {},
    "colab_type": "code",
    "id": "cufwiXKmClAl"
   },
   "outputs": [],
   "source": [
    "cds2016[\"course\"] = cds2016[\"course\"].map(curso_cat)\n",
    "cds2017[\"course\"] = cds2017[\"course\"].map(curso_cat)\n",
    "cds2018[\"course\"] = cds2018[\"course\"].map(curso_cat)\n",
    "cds2019[\"Curso\"] = cds2019[\"Curso\"].map(curso_cat)"
   ]
  },
  {
   "cell_type": "code",
   "execution_count": 0,
   "metadata": {
    "colab": {},
    "colab_type": "code",
    "id": "wHGGYD04ZwLW"
   },
   "outputs": [],
   "source": [
    "cds2016[\"subject\"] = cds2016[\"subject\"].map(asignatura_cat)\n",
    "cds2017[\"subject\"] = cds2017[\"subject\"].map(asignatura_cat)\n",
    "cds2018[\"subject\"] = cds2018[\"subject\"].map(asignatura_cat)\n",
    "cds2019[\"Asignatura\"] = cds2019[\"Asignatura\"].map(asignatura_cat)"
   ]
  },
  {
   "cell_type": "code",
   "execution_count": 0,
   "metadata": {
    "colab": {},
    "colab_type": "code",
    "id": "JJn_bibuZwOQ"
   },
   "outputs": [],
   "source": [
    "def TME_cat(x):\n",
    "    if x == 1:\n",
    "        return \"básico\"\n",
    "    if x == 2:\n",
    "        return \"complementario\"\n",
    "    if x == 3:\n",
    "        return \"cuaderno asociado\"\n",
    "    if x == 4:\n",
    "        return \"prescribible\""
   ]
  },
  {
   "cell_type": "code",
   "execution_count": 0,
   "metadata": {
    "colab": {},
    "colab_type": "code",
    "id": "nIkh8edpZwRd"
   },
   "outputs": [],
   "source": [
    "cds2016[\"type_of_material\"] = cds2016[\"type_of_material\"].map(TME_cat)\n",
    "cds2017[\"type_of_material\"] = cds2017[\"type_of_material\"].map(TME_cat)\n",
    "cds2018[\"type_of_material\"] = cds2018[\"type_of_material\"].map(TME_cat)\n",
    "cds2019[\"Tipo Material Educativo\"] = cds2019[\"Tipo Material Educativo\"].map(TME_cat)"
   ]
  },
  {
   "cell_type": "code",
   "execution_count": 0,
   "metadata": {
    "colab": {},
    "colab_type": "code",
    "id": "HX3mepBCZwWL"
   },
   "outputs": [],
   "source": [
    "def lengua_cat(x):\n",
    "    if x == 10:\n",
    "        return \"Catalán\"\n",
    "    if x == 11:\n",
    "        return \"Gallego\"\n",
    "    if x == 13:\n",
    "        return \"Castellano\"\n",
    "    if x == 18:\n",
    "        return \"Valenciano\"\n",
    "    if x == 26:\n",
    "        return \"Euskera\""
   ]
  },
  {
   "cell_type": "code",
   "execution_count": 0,
   "metadata": {
    "colab": {},
    "colab_type": "code",
    "id": "TtnULPJaZwZi"
   },
   "outputs": [],
   "source": [
    "cds2016[\"Lengua\"] = cds2016[\"Lengua\"].map(lengua_cat)\n",
    "cds2017[\"Lengua\"] = cds2017[\"Lengua\"].map(lengua_cat)\n",
    "cds2018[\"Lengua\"] = cds2018[\"Lengua\"].map(lengua_cat)\n",
    "cds2019[\"Lengua\"] = cds2019[\"Lengua\"].map(lengua_cat)"
   ]
  },
  {
   "cell_type": "code",
   "execution_count": 0,
   "metadata": {
    "colab": {},
    "colab_type": "code",
    "id": "qD55ICfAZwUm"
   },
   "outputs": [],
   "source": [
    "def TS_cat(x):\n",
    "    if x == 1:\n",
    "        return \"papel\"\n",
    "    if x == 2:\n",
    "        return \"digital\"\n",
    "    if x == 3:\n",
    "        return \"papel-digital\"\n",
    "    if x == 4:\n",
    "        return \"plataforma\""
   ]
  },
  {
   "cell_type": "code",
   "execution_count": 0,
   "metadata": {
    "colab": {},
    "colab_type": "code",
    "id": "8MTObDaiaQHQ"
   },
   "outputs": [],
   "source": [
    "cds2016[\"Tipo Soporte Actual\"] = cds2016[\"Tipo Soporte Actual\"].map(TS_cat)\n",
    "cds2017[\"Tipo Soporte Actual\"] = cds2017[\"Tipo Soporte Actual\"].map(TS_cat)\n",
    "cds2018[\"Tipo Soporte Actual\"] = cds2018[\"Tipo Soporte Actual\"].map(TS_cat)\n",
    "cds2019[\"Tipo Soporte Actual\"] = cds2019[\"Tipo Soporte Actual\"].map(TS_cat)"
   ]
  },
  {
   "cell_type": "code",
   "execution_count": 0,
   "metadata": {
    "colab": {},
    "colab_type": "code",
    "id": "YQR3svf89NDo"
   },
   "outputs": [],
   "source": [
    "cds2016.iloc[:,0:-2] = cds2016.iloc[:,0:-2].astype('category')"
   ]
  },
  {
   "cell_type": "code",
   "execution_count": 0,
   "metadata": {
    "colab": {},
    "colab_type": "code",
    "id": "OUrhal1X9ND9"
   },
   "outputs": [],
   "source": [
    "cds1 = pd.merge(left = cds2016,right = cds2017, on = a, how='right',suffixes=('2016','2017'))"
   ]
  },
  {
   "cell_type": "code",
   "execution_count": 0,
   "metadata": {
    "colab": {},
    "colab_type": "code",
    "id": "mm7U7bDyER1_"
   },
   "outputs": [],
   "source": [
    "cds2 = pd.merge(left = cds1,right = cds2018, on = a, how='inner')"
   ]
  },
  {
   "cell_type": "code",
   "execution_count": 0,
   "metadata": {
    "colab": {},
    "colab_type": "code",
    "id": "0fKysaouFq1J"
   },
   "outputs": [],
   "source": [
    "cds = cds2[cds2.editorial_group2016.isnull()]\n",
    "cds = cds[cds.editorial_group2017!=90]"
   ]
  },
  {
   "cell_type": "code",
   "execution_count": 0,
   "metadata": {
    "colab": {},
    "colab_type": "code",
    "id": "kD0AtZRJFr3l"
   },
   "outputs": [],
   "source": [
    "cds['target'] = (cds.editorial_group == 90)"
   ]
  },
  {
   "cell_type": "code",
   "execution_count": 0,
   "metadata": {
    "colab": {},
    "colab_type": "code",
    "id": "BcftW0MSIT13"
   },
   "outputs": [],
   "source": [
    "cds = cds.drop(['editorial_group2016','Variable12016','Variable22016','editorial_group','Variable1','Variable2'],axis = 1)"
   ]
  },
  {
   "cell_type": "code",
   "execution_count": 0,
   "metadata": {
    "colab": {
     "base_uri": "https://localhost:8080/",
     "height": 151
    },
    "colab_type": "code",
    "id": "ATAhnx0_KXGl",
    "outputId": "524cf38f-cd07-43e3-a3f3-6540d3661065"
   },
   "outputs": [
    {
     "data": {
      "text/plain": [
       "RandomForestClassifier(bootstrap=True, ccp_alpha=0.0, class_weight=None,\n",
       "                       criterion='gini', max_depth=15, max_features='auto',\n",
       "                       max_leaf_nodes=None, max_samples=None,\n",
       "                       min_impurity_decrease=0.0, min_impurity_split=None,\n",
       "                       min_samples_leaf=1, min_samples_split=2,\n",
       "                       min_weight_fraction_leaf=0.0, n_estimators=200,\n",
       "                       n_jobs=None, oob_score=False, random_state=42, verbose=0,\n",
       "                       warm_start=False)"
      ]
     },
     "execution_count": 24,
     "metadata": {
      "tags": []
     },
     "output_type": "execute_result"
    }
   ],
   "source": [
    "cds.course = cds2018.course.map(course_seg)\n",
    "cds['cost'] = cds.Variable22017/cds.Variable12017\n",
    "cds.loc[cds.cost.isnull(),'cost']=0\n",
    "col_names = ['client_id', 'course', 'subject', 'type_of_material','editorial_group2017', 'language', 'media']\n",
    "for col in col_names:\n",
    "    cds[col] = cds[col].astype('category',copy=False)\n",
    "cds_tf = pd.merge(left = cds, right = subjects.subject[0:92].astype('int'), on = 'subject',how = 'inner')\n",
    "cds_tf = pd.merge(left = cds_tf, right = maestros, on = 'client_id',how = 'inner')\n",
    "X_train,X_test,y_train,y_test = train_test_split(cds_tf.loc[:,cds_tf.columns!='target'],cds_tf['target'],test_size=0.15,random_state = 1)\n",
    "rf = RandomForestClassifier(n_estimators = 200, random_state = 42, max_depth = 15)\n",
    "rf.fit(X_train,y_train)"
   ]
  },
  {
   "cell_type": "code",
   "execution_count": 0,
   "metadata": {
    "colab": {
     "base_uri": "https://localhost:8080/",
     "height": 168
    },
    "colab_type": "code",
    "id": "4EMqj10cPJOE",
    "outputId": "9001bad6-73bd-4896-b77d-aeb38fd4c5cb"
   },
   "outputs": [
    {
     "name": "stdout",
     "output_type": "stream",
     "text": [
      "              precision    recall  f1-score   support\n",
      "\n",
      "       False       0.95      1.00      0.97      8497\n",
      "        True       0.89      0.14      0.25       525\n",
      "\n",
      "    accuracy                           0.95      9022\n",
      "   macro avg       0.92      0.57      0.61      9022\n",
      "weighted avg       0.95      0.95      0.93      9022\n",
      "\n"
     ]
    }
   ],
   "source": [
    "predictions = rf.predict(X_test)\n",
    "print(classification_report(y_test,predictions))"
   ]
  },
  {
   "cell_type": "code",
   "execution_count": 0,
   "metadata": {
    "colab": {},
    "colab_type": "code",
    "id": "RZDvG3CXPM0C"
   },
   "outputs": [],
   "source": [
    "# Number of trees in random forest\n",
    "n_estimators = [int(x) for x in np.linspace(start = 100, stop = 1000, num = 10)]\n",
    "# Number of features to consider at every split\n",
    "max_features = ['auto', 'sqrt']\n",
    "# Maximum number of levels in tree\n",
    "max_depth = [int(x) for x in np.linspace(10, 110, num = 11)]\n",
    "max_depth.append(None)\n",
    "# Minimum number of samples required to split a node\n",
    "min_samples_split = [2, 5, 10]\n",
    "# Minimum number of samples required at each leaf node\n",
    "min_samples_leaf = [1, 2, 4, 8]\n",
    "# Method of selecting samples for training each tree\n",
    "bootstrap = [True, False]\n",
    "# Create the random grid\n",
    "random_grid = {'n_estimators': n_estimators,\n",
    "               'max_features': max_features,\n",
    "               'max_depth': max_depth,\n",
    "               'min_samples_split': min_samples_split,\n",
    "               'min_samples_leaf': min_samples_leaf,\n",
    "               'bootstrap': bootstrap}"
   ]
  },
  {
   "cell_type": "code",
   "execution_count": 0,
   "metadata": {
    "colab": {},
    "colab_type": "code",
    "id": "YGD0HLfvPglP"
   },
   "outputs": [],
   "source": [
    "X_train = cds_tf.loc[:,cds_tf.columns!='target']\n",
    "y_train = cds_tf['target']\n",
    "rf = RandomForestClassifier(random_state = 42)"
   ]
  },
  {
   "cell_type": "code",
   "execution_count": null,
   "metadata": {
    "colab": {
     "base_uri": "https://localhost:8080/",
     "height": 337
    },
    "colab_type": "code",
    "id": "Fj_yulWVPttS",
    "outputId": "ce650d40-72b5-4d01-eb3a-c183595a733f"
   },
   "outputs": [],
   "source": [
    "rsearch = RandomizedSearchCV(rf, random_grid, cv = 5,scoring = \"f1_macro\",n_iter=400)\n",
    "rsearch.fit(X_train, y_train)\n",
    "rsearch.best_params_"
   ]
  }
 ],
 "metadata": {
  "colab": {
   "collapsed_sections": [],
   "machine_shape": "hm",
   "name": "datathon.ipynb",
   "provenance": [],
   "toc_visible": true
  },
  "kernelspec": {
   "display_name": "Python 3",
   "language": "python",
   "name": "python3"
  },
  "language_info": {
   "codemirror_mode": {
    "name": "ipython",
    "version": 3
   },
   "file_extension": ".py",
   "mimetype": "text/x-python",
   "name": "python",
   "nbconvert_exporter": "python",
   "pygments_lexer": "ipython3",
   "version": "3.7.4"
  }
 },
 "nbformat": 4,
 "nbformat_minor": 1
}
